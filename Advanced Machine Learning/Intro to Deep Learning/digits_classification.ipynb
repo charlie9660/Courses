{
 "cells": [
  {
   "cell_type": "markdown",
   "metadata": {
    "slideshow": {
     "slide_type": "slide"
    }
   },
   "source": [
    "# MNIST digits classification with TensorFlow"
   ]
  },
  {
   "cell_type": "markdown",
   "metadata": {},
   "source": [
    "<img src=\"images/mnist_sample.png\" style=\"width:30%\">"
   ]
  },
  {
   "cell_type": "code",
   "execution_count": 1,
   "metadata": {},
   "outputs": [
    {
     "name": "stdout",
     "output_type": "stream",
     "text": [
      "We're using TF 1.2.1\n"
     ]
    }
   ],
   "source": [
    "import numpy as np\n",
    "from sklearn.metrics import accuracy_score\n",
    "from matplotlib import pyplot as plt\n",
    "%matplotlib inline\n",
    "import tensorflow as tf\n",
    "print(\"We're using TF\", tf.__version__)"
   ]
  },
  {
   "cell_type": "code",
   "execution_count": 2,
   "metadata": {},
   "outputs": [
    {
     "name": "stderr",
     "output_type": "stream",
     "text": [
      "Using TensorFlow backend.\n"
     ]
    }
   ],
   "source": [
    "import sys\n",
    "sys.path.append(\"../..\")\n",
    "import grading\n",
    "\n",
    "import matplotlib_utils\n",
    "from importlib import reload\n",
    "reload(matplotlib_utils)\n",
    "\n",
    "import grading_utils\n",
    "reload(grading_utils)\n",
    "\n",
    "import keras_utils\n",
    "from keras_utils import reset_tf_session"
   ]
  },
  {
   "cell_type": "markdown",
   "metadata": {},
   "source": [
    "# Fill in your Coursera token and email\n",
    "To successfully submit your answers to our grader, please fill in your Coursera submission token and email"
   ]
  },
  {
   "cell_type": "code",
   "execution_count": 35,
   "metadata": {
    "collapsed": true
   },
   "outputs": [],
   "source": [
    "grader = grading.Grader(assignment_key=\"XtD7ho3TEeiHQBLWejjYAA\", \n",
    "                        all_parts=[\"9XaAS\", \"vmogZ\", \"RMv95\", \"i8bgs\", \"rE763\"])"
   ]
  },
  {
   "cell_type": "code",
   "execution_count": 36,
   "metadata": {
    "collapsed": true
   },
   "outputs": [],
   "source": [
    "# token expires every 30 min\n",
    "COURSERA_TOKEN = \"QhNxcxL2z110an9v\"\n",
    "COURSERA_EMAIL = \"cd446@cornell.edu\""
   ]
  },
  {
   "cell_type": "markdown",
   "metadata": {},
   "source": [
    "# Look at the data\n",
    "\n",
    "In this task we have 50000 28x28 images of digits from 0 to 9.\n",
    "We will train a classifier on this data."
   ]
  },
  {
   "cell_type": "code",
   "execution_count": 5,
   "metadata": {
    "collapsed": true
   },
   "outputs": [],
   "source": [
    "import preprocessed_mnist\n",
    "X_train, y_train, X_val, y_val, X_test, y_test = preprocessed_mnist.load_dataset_from_file()"
   ]
  },
  {
   "cell_type": "code",
   "execution_count": 6,
   "metadata": {},
   "outputs": [
    {
     "name": "stdout",
     "output_type": "stream",
     "text": [
      "X_train [shape (50000, 28, 28)] sample patch:\n",
      " [[ 0.          0.29803922  0.96470588  0.98823529  0.43921569]\n",
      " [ 0.          0.33333333  0.98823529  0.90196078  0.09803922]\n",
      " [ 0.          0.33333333  0.98823529  0.8745098   0.        ]\n",
      " [ 0.          0.33333333  0.98823529  0.56862745  0.        ]\n",
      " [ 0.          0.3372549   0.99215686  0.88235294  0.        ]]\n",
      "A closeup of a sample patch:\n"
     ]
    },
    {
     "data": {
      "image/png": "[encoded data removed]",
      "text/plain": [
       "<matplotlib.figure.Figure at 0x7fc62e820fd0>"
      ]
     },
     "metadata": {},
     "output_type": "display_data"
    },
    {
     "name": "stdout",
     "output_type": "stream",
     "text": [
      "And the whole sample:\n"
     ]
    },
    {
     "data": {
      "image/png": "[encoded data removed]",
      "text/plain": [
       "<matplotlib.figure.Figure at 0x7fc624478b70>"
      ]
     },
     "metadata": {},
     "output_type": "display_data"
    },
    {
     "name": "stdout",
     "output_type": "stream",
     "text": [
      "y_train [shape (50000,)] 10 samples:\n",
      " [5 0 4 1 9 2 1 3 1 4]\n"
     ]
    }
   ],
   "source": [
    "# X contains rgb values divided by 255\n",
    "print(\"X_train [shape %s] sample patch:\\n\" % (str(X_train.shape)), X_train[1, 15:20, 5:10])\n",
    "print(\"A closeup of a sample patch:\")\n",
    "plt.imshow(X_train[1, 15:20, 5:10], cmap=\"Greys\")\n",
    "plt.show()\n",
    "print(\"And the whole sample:\")\n",
    "plt.imshow(X_train[1], cmap=\"Greys\")\n",
    "plt.show()\n",
    "print(\"y_train [shape %s] 10 samples:\\n\" % (str(y_train.shape)), y_train[:10])"
   ]
  },
  {
   "cell_type": "markdown",
   "metadata": {},
   "source": [
    "# Linear model\n",
    "\n",
    "Your task is to train a linear classifier $\\vec{x} \\rightarrow y$ with SGD using TensorFlow.\n",
    "\n",
    "You will need to calculate a logit (a linear transformation) $z_k$ for each class: \n",
    "$$z_k = \\vec{x} \\cdot \\vec{w_k} + b_k \\quad k = 0..9$$\n",
    "\n",
    "And transform logits $z_k$ to valid probabilities $p_k$ with softmax: \n",
    "$$p_k = \\frac{e^{z_k}}{\\sum_{i=0}^{9}{e^{z_i}}} \\quad k = 0..9$$\n",
    "\n",
    "We will use a cross-entropy loss to train our multi-class classifier:\n",
    "$$\\text{cross-entropy}(y, p) = -\\sum_{k=0}^{9}{\\log(p_k)[y = k]}$$ \n",
    "\n",
    "where \n",
    "$$\n",
    "[x]=\\begin{cases}\n",
    "       1, \\quad \\text{if $x$ is true} \\\\\n",
    "       0, \\quad \\text{otherwise}\n",
    "    \\end{cases}\n",
    "$$\n",
    "\n",
    "Cross-entropy minimization pushes $p_k$ close to 1 when $y = k$, which is what we want.\n",
    "\n",
    "Here's the plan:\n",
    "* Flatten the images (28x28 -> 784) with `X_train.reshape((X_train.shape[0], -1))` to simplify our linear model implementation\n",
    "* Use a matrix placeholder for flattened `X_train`\n",
    "* Convert `y_train` to one-hot encoded vectors that are needed for cross-entropy\n",
    "* Use a shared variable `W` for all weights (a column $\\vec{w_k}$ per class) and `b` for all biases.\n",
    "* Aim for ~0.93 validation accuracy"
   ]
  },
  {
   "cell_type": "code",
   "execution_count": 7,
   "metadata": {},
   "outputs": [
    {
     "name": "stdout",
     "output_type": "stream",
     "text": [
      "(50000, 784)\n",
      "(10000, 784)\n"
     ]
    }
   ],
   "source": [
    "X_train_flat = X_train.reshape((X_train.shape[0], -1))\n",
    "print(X_train_flat.shape)\n",
    "\n",
    "X_val_flat = X_val.reshape((X_val.shape[0], -1))\n",
    "print(X_val_flat.shape)"
   ]
  },
  {
   "cell_type": "code",
   "execution_count": 8,
   "metadata": {},
   "outputs": [
    {
     "name": "stdout",
     "output_type": "stream",
     "text": [
      "(50000, 10)\n",
      "[[ 0.  0.  0.  0.  0.  1.  0.  0.  0.  0.]\n",
      " [ 1.  0.  0.  0.  0.  0.  0.  0.  0.  0.]\n",
      " [ 0.  0.  0.  0.  1.  0.  0.  0.  0.  0.]] [5 0 4]\n"
     ]
    }
   ],
   "source": [
    "import keras\n",
    "\n",
    "y_train_oh = keras.utils.to_categorical(y_train, 10)\n",
    "y_val_oh = keras.utils.to_categorical(y_val, 10)\n",
    "\n",
    "print(y_train_oh.shape)\n",
    "print(y_train_oh[:3], y_train[:3])"
   ]
  },
  {
   "cell_type": "code",
   "execution_count": 16,
   "metadata": {
    "collapsed": true
   },
   "outputs": [],
   "source": [
    "# run this again if you remake your graph\n",
    "s = reset_tf_session()"
   ]
  },
  {
   "cell_type": "code",
   "execution_count": 17,
   "metadata": {},
   "outputs": [],
   "source": [
    "# Model parameters: W and b\n",
    "W = tf.get_variable(\"W\", shape=(784, 10), dtype=tf.float32, trainable=True) ### tf.get_variable(...) with shape[0] = 784\n",
    "b = tf.get_variable(\"b\", shape=(10,), dtype=tf.float32) ### tf.get_variable(...)"
   ]
  },
  {
   "cell_type": "code",
   "execution_count": 18,
   "metadata": {
    "collapsed": true
   },
   "outputs": [],
   "source": [
    "# Placeholders for the input data\n",
    "input_X = tf.placeholder('float32',shape = (None,784) )### YOUR CODE HERE ### tf.placeholder(...) for flat X with shape[0] = None for any batch size\n",
    "input_y = tf.placeholder('float32',shape = (None,10))### YOUR CODE HERE ### tf.placeholder(...) for one-hot encoded true labels"
   ]
  },
  {
   "cell_type": "code",
   "execution_count": 19,
   "metadata": {},
   "outputs": [],
   "source": [
    "# Compute predictions\n",
    "logits = input_X @ W + b \n",
    "probas = tf.nn.softmax(logits)\n",
    "classes = tf.argmax(probas,1) \n",
    "\n",
    "# Loss should be a scalar number: average loss over all the objects with tf.reduce_mean().\n",
    "# Use tf.nn.softmax_cross_entropy_with_logits on top of one-hot encoded input_y and logits.\n",
    "# It is identical to calculating cross-entropy on top of probas, but is more numerically friendly (read the docs).\n",
    "loss =tf.reduce_mean(tf.nn.softmax_cross_entropy_with_logits(labels = input_y,logits = logits))\n",
    "\n",
    "# Use a default tf.train.AdamOptimizer to get an SGD step\n",
    "step = tf.train.AdamOptimizer(0.003).minimize(loss)\n"
   ]
  },
  {
   "cell_type": "code",
   "execution_count": 24,
   "metadata": {
    "scrolled": false
   },
   "outputs": [
    {
     "data": {
      "text/html": [
       "<img src=\"data:image/jpeg;base64,/9j/4AAQSkZJRgABAQAAAQABAAD/2wBDAAIBAQEBAQIBAQECAgICAgQDAgICAgUEBAMEBgUGBgYFBgYGBwkIBgcJBwYGCAsICQoKCgoKBggLDAsKDAkKCgr/2wBDAQICAgICAgUDAwUKBwYHCgoKCgoKCgoKCgoKCgoKCgoKCgoKCgoKCgoKCgoKCgoKCgoKCgoKCgoKCgoKCgoKCgr/wAARCAEgA2ADASIAAhEBAxEB/8QAHwAAAQUBAQEBAQEAAAAAAAAAAAECAwQFBgcICQoL/8QAtRAAAgEDAwIEAwUFBAQAAAF9AQIDAAQRBRIhMUEGE1FhByJxFDKBkaEII0KxwRVS0fAkM2JyggkKFhcYGRolJicoKSo0NTY3ODk6Q0RFRkdISUpTVFVWV1hZWmNkZWZnaGlqc3R1dnd4eXqDhIWGh4iJipKTlJWWl5iZmqKjpKWmp6ipqrKztLW2t7i5usLDxMXGx8jJytLT1NXW19jZ2uHi4%2BTl5ufo6erx8vP09fb3%2BPn6/8QAHwEAAwEBAQEBAQEBAQAAAAAAAAECAwQFBgcICQoL/8QAtREAAgECBAQDBAcFBAQAAQJ3AAECAxEEBSExBhJBUQdhcRMiMoEIFEKRobHBCSMzUvAVYnLRChYkNOEl8RcYGRomJygpKjU2Nzg5OkNERUZHSElKU1RVVldYWVpjZGVmZ2hpanN0dXZ3eHl6goOEhYaHiImKkpOUlZaXmJmaoqOkpaanqKmqsrO0tba3uLm6wsPExcbHyMnK0tPU1dbX2Nna4uPk5ebn6Onq8vP09fb3%2BPn6/9oADAMBAAIRAxEAPwD9/KKKKACiiigAooooAKKKKACiiigAooooAKKKKACiiigAooooAKKKKACiiigAooooAKKKKACiiigAooooAKKKKACiiigAooooAKKKKACiiigAooooAKKKKACiiigAooooAKKKKACiiigAooooAKKKKACiiigAooooAKKKKACiiigAooooAKKKKACiiigAooooAKKKKACiiigAooooAKKKKACiiigAooooAKKKKACiiigAooooAKKKKACiiigAooooAKKKKACiiigAooooAKKKKACiiigAooooAKKKKACiiigAooooAKKKKACiiigAooooAKKKKACiiigAooooAKKKKACiiigAooooAKKKKACvPfjt%2B1J8FP2b5NGsfil4g1Maj4ilnTQNB8OeF9R1zVNR8lVed4bHTbee5kjiVkMkixlI96biu5c%2BhV4N%2B0P8D/j5/wANJ%2BDv2tv2bLLwfrWueH/B2seFNX8KeOdcutLtLywv7mwuxcQXtraXj288U2noCpt3WVJSCUKK1ABpf/BTL9izWLvxPb2nxXv0h8FWsk/jLUrvwXrEFjoIS0iu9l5dy2iwWsrQzRskMjrJIWKorMrKL2n/APBQ/wDZK1HwBrXxFTx/q9vB4f1ay0vVdE1DwNrNrrkV5ebfscC6PNaLqEr3AYGER27eaAxTcFYjy2b9gH4y%2BMf2a/jn8NfGHinwppHin4o/FS38daHc6U1xeWFpeW0OiywQ3IkihkkiN3pRRwoyYHGDuJVaPi79i/8AaV%2BLmr/Ef45fG34S/CjWvFnjWx8KaPp/gKy%2BI2s2Wm6fY6Hcaldw3qa7b6al5DqDXOqTOksVoPJSKNFZiWcgHsviH9vv9mzwv4a8OeI9XvvG3meK0v5NE8P2vwm8SXGuSRWUscV3NJpMWntf28MLzQq8s0CIpmiy37xM%2Bmaz8RPBHhv4e3XxX8T%2BJbbSvDljo76rf6vqrfZYbSySIzPPMZdvlKsYLNvxtAOcYNfGHin9hH9s/WPgX4X8Nay3hfxV470a58RHRfGV/wDHbxNpGr%2BCLW%2BuUktLO11q1sJLzXIYkjhEy3qw/aTbReYCFGPUfjR/wTotfj1%2Bzb4n%2BHHxD%2BOfjW78d%2BMPhfH4Z17xS3jbWho818tpDE2oJoS3y2FuzzQLK3kRRSEPIBIrSM5AOkg/4KUfsZf8K58V/FbWPite6Jo3giysr7xQ/ifwdq%2Bk3NlZXkxhtb37LeWsVxJaSyK6pcxxtC3luQ%2BEYjj/AI3f8FZP2d/hn8ENU%2BMfgPRfFXiqbQfiD4X8L674Y/4QXXbHU7A6zqVrax3T2cmnNdeV5Fw88DeT5d48aW8MhknjB8r1T/gmJ8ZPHfwq8faR4i8DeG9G8Y%2BI9D0fR7DxDqv7RfjPxut3aWusW%2BoTRyf27AfsEZ8likUSzHe%2BGkxknv8A9qH9gz40/GD4g/F/4g%2BBfEPheOTxfB8LbzwlZ6tfXMSvf%2BE/EdzrUsN40dvJ5ENwGt4VljEzrl2MfyKrgHqFh/wUE/Zb1H4m2XwZh8T%2BJo/Fd5oun6xLoF38N9egudO0%2B9adILu/SSyU6dDut5VeS68pYiFEhQum6j4a/wCCmH7FPi3wZ4s%2BIWkfGC4TR/Bfgi68Zaxe6h4S1W0Fx4et0Z5tWsVntUbVLNVQ4nsxPGxZArEugbB0P9kP4ofEP4mfG74g/G9fD2gxfGj4O%2BHfCF1Y%2BE9duNRl0u4tE11Ltlnns7XzYwNViMT7FZikm6OPA3fN37Y37Kn7UOj/ALDHxS%2BJv7TF34AtIfhD%2BxT8QfBHhePwFqF5cNrzXukWxn1G6W5toBYqE0i3CWcbXAVppCZ22oKAPrPw9/wUl/Yy8TaHrHiPT/i1dQWehppU1/JqnhLVbJmtNSu1s7HUIUuLVGubCWdgovoQ9qoDO0qorMPT9E%2BLvw88R/FLX/gvofiH7T4k8LaXp%2Boa/YR2k22zgvmuBa7pinlF3%2ByzHy1cyKoRmVVkjLfJOofsz%2BIPFegeKfjb/wAFIvF/wz8J%2BBbf9nu5%2BHUlx4f8QTLay6beyQyXmq3k17BbpYOTBbCG2QzCAmT/AEiQsuOw/wCCPngP4u2f7I9r8f8A9pDUDf8AxJ%2BL15H4n8V6g9nJbtJCLSCy01fKl%2BeH/iX2lpI0TYKSzTZAYtkA%2BqqKKKACiiigAooooAKKKKACiiigAooooAKKKKACiiigAooooAKKKKACiiigAooooAKKKKACiiigAooooAKKKKACiiigAooooAK8R0j/AIKMfse6ld69Z6n8Urzw83hzw5c%2BINQk8a%2BEdV0GObSbd0jnv7WTUrWBb63R5IlaW2MqAyxjOXXPtN7FczWcsNndCCZ4mWKYx7/LYjhtp64POO9fmJq//BHL9uX4v6t4X1z43fHHQ31vw14P1Cz1DxRqHxW8TeJx4h1v7ZpV9a6idLvoobLSbaS50xfPsLIBRHJtWWQKgUA%2B2X/b/wD2YbX4aN8WNY8QeKtK0ttcg0axs9c%2BGWv2GqanfzIZIYLLTbixS9v2kQM6/Z4ZAyo7AkIxHReA/wBqz4H/ABH1%2By8J%2BHPEOqQ6vf8AhSfxJDpGteFdS0y7TTYbv7JLLLDeW8UkDrP8hhkVZe%2BzbzXk3xO%2BDn7bvxib4e/G3XPBvwq0P4h/Cjx1NrHh/wAM2vjjUr/Rdcs7jSbvTLmO4vn0qGaxmKXskkbpa3AjMQU%2BYJGxV%2BJPwG/bg1/4y%2BHf2mvA%2BjfCu08WX3ww1XwX4x0LUvFepSWGkLcX8N1a39lcJpwk1AxCN1kt5YrQSlxiWLHIB3Gk/wDBRv8AZA8R694F8LeFfiNqus6n8SfBuleLfBunaJ4H1m9nvND1F9lrqMiQWjNa2%2B7HmSTiNbcMpm8oMCdj4a/tufs3fFf4jXPwn8M%2BL9Ws9ft9LudThsvE/gzVtEW/sbeRI57uyl1G1gjv4I3liDy2zSIvmISQGUnyj9hT9hL4sfsw6/8ADjWfHniDw1dnwd%2Byl4R%2BGN%2B%2BkXM8rNq2lvM1zNF5kEe61bemxmKu235o0wK8a%2BGn/BKv9sbxP8UfC/ib9qb4w2eqRaf4A8V%2BF/GniaD4v%2BJNavPEUur2KW39p2umX0Men6EcqWNpaKUXKgTOI1WgD6l8J/8ABRf9kfxrosfirQfHeuf2Hcarpen6f4lvfh/rdrpWoy6lex2VlJaX09mlteQS3M0UYuIJHhBlQs4VgT6X4W%2BLvw88a/EDxT8LvC/iH7XrnguSzj8T2iWkwWxkuoPtEEZlZBG7tCVkKIzMiyRlgokTd8w%2BOPAnxF8K/wDBPbxp8CP%2BChnif4VeCPAWg/DSLQLb4meHfFt2GadI0trXUntLqzgTTZlmFvJDBHcXTGcoiOTtDdr/AMEr/h98WPDf7ImlfFX9oqwS3%2BJ3xYvpfHXxEhW3aL7Pf36xmG02N8yfZbGOys9pyQLXBoA%2BjaKKKACiiigAooooAKKKKACiiigAooooAKKKKACiiigAooooAKKKKACiiigAooooAKKKKACiiigAooooAKKKKACiiigAooooAjvb2z06zl1DULuKC3giaSeeaQKkaKMszMeAAASSelc98MvjN8H/AI1eEP8AhYPwb%2BK3hrxboAmkiOueGddt7%2Bz8yP76edA7JuXIyM5HeuH/AG%2B/h940%2BK37FHxT%2BHHw80aXU9Z1nwNqNrZaRA4V9TLQNus1LEKDOu6EbiF/eckDJrxTw5ca58RbL9pbxr4B%2BAPiuTTfiT4XFp4L8JeKvCGqaAfEN/ZeH/s9wZ1nhhksEmMlrYrJN5LSfY2MW5EVyAfTvwo%2BO3wQ%2BPGmXetfA74yeFPGdnp919mv7vwp4ittRitptoby5Gt3cI%2B0g7SQcEGuC%2BPXj/8AaL/4aL8C/Aj4C%2BM/BXh9Nf8ABXiXXtX1Pxf4Lu9aJOnXeh28MMMdvqVj5Yb%2B1JWZmZ8%2BWgAXknyD/gl/4F8ZeG/iT458Qarc/EbXdIn%2BH/gvSrPxj8VfAb%2BG9Ve6sl1VZ9IitDaWiyWlos0EiT%2BSzNJfzI1zc%2BWPK7LW5/inpH/BVP4fWPjrxj4d1DQ9V%2BDPj5/C9jpfhmezu7BY9W8HmRLm4kvZkvCwYEMkNvt2HIbcNqbS3LhCVR2j2b%2B7VnX/APCD/wDBQv8A6Og%2BDP8A4YfVv/moo/4Qf/goX/0dB8Gf/DD6t/8ANRXs1FMg8Z/4Qf8A4KF/9HQfBn/ww%2Brf/NRR/wAIP/wUL/6Og%2BDP/hh9W/8Amor2aigDxn/hB/8AgoX/ANHQfBn/AMMPq3/zUUf8IP8A8FC/%2BjoPgz/4YfVv/mor2aigDxn/AIQf/goX/wBHQfBn/wAMPq3/AM1FH/CD/wDBQv8A6Og%2BDP8A4YfVv/mor2aigDxn/hB/%2BChf/R0HwZ/8MPq3/wA1FH/CD/8ABQv/AKOg%2BDP/AIYfVv8A5qK9mooA8Z/4Qf8A4KF/9HQfBn/ww%2Brf/NRR/wAIP/wUL/6Og%2BDP/hh9W/8Amor2aigDxn/hB/8AgoX/ANHQfBn/AMMPq3/zUUf8IP8A8FC/%2BjoPgz/4YfVv/mor2avPviB4/wDgZ8NBqfjD4%2B%2BOPCnh/TzrUWn2WpeMNUtrSDzDaRyrBHJcsq7yBK%2B0HJCsccHEznCnFym0kurdl97sjbD4fEYuvGjQhKc5OyjFOUm%2ByjFSk3o9Em9Njmv%2BEH/4KF/9HQfBn/ww%2Brf/ADUUf8IP/wAFC/8Ao6D4M/8Ahh9W/wDmoqv/AMNf/wDBOD/o6L4I/wDhbaP/APHaP%2BGv/wDgnB/0dF8Ef/C20f8A%2BO1zfX8B/wA/of8AgcP/AJI9r/VLiz/oXYj/AMJ6/wD8oLH/AAg//BQv/o6D4M/%2BGH1b/wCaij/hB/8AgoX/ANHQfBn/AMMPq3/zUV2Hw08Sfs5fGjQpfFPwd1/wT4s0y3u2tZ9R8NXVnfwRzqqu0TSQFlDhXRipOQHU4wRXk/xB/bZ/ZO%2BEPxr%2BInwi%2BLHgfUNDtPhp4G07xT4h8WyfD%2B/uNKisrkXzMWuYLR4o/LSyJyz/ALxnaOPc8Mqr0wnCpFSg00%2Bqd196ujxcRh8RhK8qNeEoTi7OMk4yT7OMlGSeq0aT12Oo/wCEH/4KF/8AR0HwZ/8ADD6t/wDNRR/wg/8AwUL/AOjoPgz/AOGH1b/5qKib9pv9lC2m8Nx6x4T17SofFdxDb6Rf658H9bsLRZpr17K3jubm4sEhsnmuFCRLcPE0vmwsgZZomfmdd/bp/Yp8BWhPxJmsbe7a98VrDa%2BG/A%2BrawRZ%2BH9VOm6jdSi303fCkErRCZmXykLsUlmiUTtRidX/AMIP/wAFC/8Ao6D4M/8Ahh9W/wDmoo/4Qf8A4KF/9HQfBn/ww%2Brf/NRXfaBH8GPFdxPaeF4/DGozW0ME1zDYrbyvDHOnmQu6rkqJE%2BZScbl5GRXh/wCz9%2B1Vonxo%2BKWjeF9c/Zu0TQ/DHjnTdd1D4Z%2BJIdVS7n1a30q9htZjd2ptIxYtMk8dzAqS3G6EP5hhdRGQDsv%2BEH/4KF/9HQfBn/ww%2Brf/ADUUf8IP/wAFC/8Ao6D4M/8Ahh9W/wDmorjfFn7VWieGvjxqPge3/Zu0O58CeHviJovgPxP41bVUjvLTX9VtLO4tEi0/7IVntc6lpsLzm5RlkuiBE4idqzfgt%2B218PPHd/aeIPiv8CvDfgrwT4n%2BHer%2BPPAXiyTWI7v7d4e024tY7m5v4TaRDT5PKv7G4SNJLgNFM%2BXVomWgD0T/AIQf/goX/wBHQfBn/wAMPq3/AM1FH/CD/wDBQv8A6Og%2BDP8A4YfVv/morwXVf%2BCk2jaX8EdC%2BK%2Bv/su%2BBfBl1r3xsvvAP2P4o%2BPYtCsdJjg02%2B1CO8v7wadOLaV47NIjaiNwk04Tzn27m7f4gftc6Z4K/aG%2BHn7Oh%2BGHwTg1Pxr4MtNcmvvEPxVXT4Z5ZblYHtNIH9kyNq7jLOhItzIuwlU3fKAeh/8ACD/8FC/%2BjoPgz/4YfVv/AJqKP%2BEH/wCChf8A0dB8Gf8Aww%2Brf/NRXBab%2B2J4Puf2gbf4aap8BPC9j4U1L4o3vw60jxHNr0Z1ObxBbaZLqDCTTfsm2K1dIJUSUXLykmJzAscnmK/wZ8ePjNrPxT%2BI/wAH/F/7JXwj0zUfh94K0zXJtWtPijcT6U1xey3Qjs7q4l0GBrUpBZyXEkixzbElhyv7wEAHdf8ACD/8FC/%2BjoPgz/4YfVv/AJqKP%2BEH/wCChf8A0dB8Gf8Aww%2Brf/NRXgOqf8FNvAtt8JPCPxFsvhB8GoV8UfFjUPBC%2BJdb%2BLMdn4OkNrpV3qBv7PXBpT/bIHNsbRf9Gj/0nzI8/u8t6j%2B0z8avip8BdC8I%2BLPC37Kvwu8U6f4m1bw/ohiX4hz2t22q6nfR2pjtI10SWO6t4ll88zvLCWiilYxxhOQDrf8AhB/%2BChf/AEdB8Gf/AAw%2Brf8AzUUf8IP/AMFC/wDo6D4M/wDhh9W/%2BaiuR%2BHn7U/gb4vftO%2BI/gH8Ofh/8LJrTwzf32n3Z1Xx7Db%2BIbq5tI8TTQaMljIzWSXR%2BytcvOjb45WWJlVDJwfjz9uLx38H9J%2BMV58Wf2QPhfZN8JNO8NPc3%2BlfE6WfTJ73V7sxfZLi6uNDt2s/s9u1vdSyCKUCO7hwMltoB7V/wg//AAUL/wCjoPgz/wCGH1b/AOaij/hB/wDgoX/0dB8Gf/DD6t/81FcH8VP2v/B3wk/YtP7UN18Ivh34v12/t7tvCnhr4b%2BMo9X03XZYI552EOqNYw/uo7a2uLieUW7eVHbzbVlZVV3fGP8Aax0X4PeI/hfHqXwV%2BHFxpnxOudGtNL0o%2BN1i8UXFxfXEMMxsNIOnFdQgtFuIp55RcxlIEmkKDywHAO6/4Qf/AIKF/wDR0HwZ/wDDD6t/81FH/CD/APBQv/o6D4M/%2BGH1b/5qK5LSv2kraX9r3Vf2RdQ%2BCfw1vtXh0HUtW0%2BPwl45TUtQsYYDAbU61ZNp0J0gXaXEZibzLgFgwG4DccKD9tjwv4e/ZL1P9oP4u/s%2BeD/DfiHT/iPf%2BCR4bHiqGTTDqVvrEumCWTVJ7OAQ2o8p7mWZoMxQxyEJKyqrgHpX/CD/APBQv/o6D4M/%2BGH1b/5qKoeB/HH7Vng79qzw58Efjd8R/h74m0bxN8PfEOuQzeFfh5faLdWl1pt9oluis9xq98ksbpqkpKhEYNEhDYyD0Hwu13Svib%2Bz3D8WpPDvgOC9vNNurq1vPh34lXW9MIRpBFLa6iLW2M4KorE%2BUm1iyfMF3NneOP8AlIX8L/8AsjPjz/07eEKAPZqKKKACiivlD/gttH%2Bz7/w7Q%2BKV3%2B0Jc%2BFIoLXwrqM3hJ/FlzbxxjXRY3H2P7N55Aa7BLmILl9wyoyMgA%2Br6K%2BU/wBub4vfs9/F34M%2BB9cm%2BJ/hDxR8JT8S9Bn%2BKd5a61a3uknQZkuGtpL50dovsL3osC7SHyWjDF8x76%2BQvGDfBH/hUQ/4X4bL/hW3/CCfFP8A4Zt%2B3f6r7b/wksn9j/2P3%2B3fYPsf9leR%2B/8As277L8u%2BgD9aa%2BcfhN4q/bv%2BOuj69478L/G/4SaBpdv8QvFWh6XpV/8AB/VL%2B4itdL16/wBMhaW4TxFAssjx2auzLFGu5yAoAFev6Jd/GKx%2BB2l3f9g6XqnjmPw7am70/WNWewtJ9Q8pPOWS4ht7gxLv3/MkMnstedf8E6bjxLd/s3X114y0mxsNXk%2BLfxDbU7HTNRe7trec%2BM9a8yOKd4YWmQNkB2ijLAAlFzgAF7/hB/8AgoX/ANHQfBn/AMMPq3/zUUf8IP8A8FC/%2BjoPgz/4YfVv/mor2aigDxn/AIQf/goX/wBHQfBn/wAMPq3/AM1FH/CD/wDBQv8A6Og%2BDP8A4YfVv/mor2aigDxn/hB/%2BChf/R0HwZ/8MPq3/wA1FH/CD/8ABQv/AKOg%2BDP/AIYfVv8A5qK9mooA8Z/4Qf8A4KF/9HQfBn/ww%2Brf/NRR/wAIP/wUL/6Og%2BDP/hh9W/8Amor2aigDxn/hB/8AgoX/ANHQfBn/AMMPq3/zUUf8IP8A8FC/%2BjoPgz/4YfVv/mor2aigDxn/AIQf/goX/wBHQfBn/wAMPq3/AM1FH/CD/wDBQv8A6Og%2BDP8A4YfVv/mor2aigDxn/hB/%2BChf/R0HwZ/8MPq3/wA1FH/CD/8ABQv/AKOg%2BDP/AIYfVv8A5qK9mooA8Z/4Qf8A4KF/9HQfBn/ww%2Brf/NRR/wAIP/wUL/6Og%2BDP/hh9W/8Amorvvix8bPhB8CPD0Pi340fEzQ/Cul3F6lpBf69qUdrFJOwYrGGkIBYhWOPRSegNP8C/Gb4P/FC1%2B3fDP4reGvEUO3d52ha7b3a49cxOwxWXt6PtPZ8y5u11f7r3/A7llmZvBLGKhP2LbXPyT5Lrdc/JyXV1dc112PPv%2BEH/AOChf/R0HwZ/8MPq3/zUUf8ACD/8FC/%2BjoPgz/4YfVv/AJqK9Uv/ABj4R0qNpdU8U6bbKgyzXF9GgH1ya4nxf%2B2L%2ByX4AtZbzxp%2B034B0xIRl1u/F1mr/QJ5m5j7AE0VMRQpK85perS/NorCZTm2PmoYXD1KjfSFOcn/AOSwkYP/AAg//BQv/o6D4M/%2BGH1b/wCaij/hB/8AgoX/ANHQfBn/AMMPq3/zUV5xq3/BaH9g6PU5dN8FeM/EvjBbVsX934R8FaheQWnu8nlKpHum4VA//Bbv/gnUYWtrX4r65cavkLD4di8C6r9unc9ERGtwpb/gQHvXnvPclT1xEP8AwJfh3%2BTZ9fHwq8TJxTWTYnX/AKcyuvOS3iut5xgra3tqenf8IP8A8FC/%2BjoPgz/4YfVv/moo/wCEH/4KF/8AR0HwZ/8ADD6t/wDNRXl0P/BQv9rn4jt/af7On/BKv4i61pGMrfeO/Etj4VllHZo4bnzC6nqDnpg0s/7c/wDwUD8KKNZ%2BJf8AwSL8UW2jxn/SpvCvxO0vW71R/wBM7SFFeU%2BwIpf23gN1ztd1TqNffybFf8Qw4sT5J/V4z/kljMEql%2Bzg8TdS8r39D1D/AIQf/goX/wBHQfBn/wAMPq3/AM1FH/CD/wDBQv8A6Og%2BDP8A4YfVv/mory0/8FrP2MrW3bSNc0z4iaZ4wDhI/h1f/D29XW5XIOEWIKYieD/y1A4%2BlNh/bl/4KCeLM%2BM/hr/wSm8Ry%2BFF%2B5H4q8eWGkazOp53iylVjHtH8DElieDwaP7cyuX8OfO%2B0Iym16qMXb52fkP/AIhXx1SV8ZhVho9JYirRw8Z/9e5Va0VUv0dPnh/08PVP%2BEH/AOChf/R0HwZ/8MPq3/zUUf8ACD/8FC/%2BjoPgz/4YfVv/AJqK8uH/AAVC%2BJEJ/wCEdvf%2BCYv7Qy%2BI%2B1jD4SiksD7/AG4ShNueM7e4pyftT/8ABVDxdm%2B8Gf8ABMvSdFsm/wBQ3iz4sWYncf3mihTMf%2B6Tmj%2B2sBL4OaT/ALtOo/v9xW%2B8X/EMeK6WuK9hRj0dXF4SCfnH/aKjkvNRPT/%2BEH/4KF/9HQfBn/ww%2Brf/ADUUf8IP/wAFC/8Ao6D4M/8Ahh9W/wDmoryLW/25v25f2c3i8c/tmfsTWtt4BbK6n4i%2BGmvHV7jQ8Y/f3VuQGaDGdzpjYFJOSVU/Sfwy/aB%2BCXxk%2BG0Hxf8Ahl8UdF1fwzcLldYtr5RFGcAlJNxBicZG5HCsp4IFb4bMsJipunFuMlq4yTjK3e0rXXmrrvY8nOuCuIMjw0MVVhGrQm%2BWNWjONek5/wAjnS5lGp/ckoSa1iprU4n/AIQf/goX/wBHQfBn/wAMPq3/AM1FH/CD/wDBQv8A6Og%2BDP8A4YfVv/morcf9s39j6PWH8PSftW/DZb%2BM4ksm8c6eJVPoU87I/Kuy8L/ELwD44Qy%2BCvHGj6woGS2l6nFcAD1/dsa6YYjD1XaE4t%2BTT/Js8XFZPnGBpqpicNVpxet506kVb1lTivxPMf8AhB/%2BChf/AEdB8Gf/AAw%2Brf8AzUUf8IP/AMFC/wDo6D4M/wDhh9W/%2BaivTfHvxF8AfCvwzceNPiZ420nw9pFqM3Gp61qEdtBH9XkIUHjpnJr550P/AILKf8E39d8VSeFI/wBpKztGEpjt9R1LSL22sboqcMY7mSERFVPBYsB6EjmssRj8DhJqNerGDeyckvzZ6GUcJcVcQYepXyvAVq8IfFKnSqTS9XGLV/JXdtbW1O5/4Qf/AIKF/wDR0HwZ/wDDD6t/81FH/CD/APBQv/o6D4M/%2BGH1b/5qK9F8CfF34UfFKxTU/hl8TvD3iK2lXdHcaFrUF2jD1DROwNdDXTCcKkeaLTXk7/lc8TEYfEYSq6VeEoSW6knFr1UlFr5pHjP/AAg//BQv/o6D4M/%2BGH1b/wCaij/hB/8AgoX/ANHQfBn/AMMPq3/zUV7NRVGJ4z/wg/8AwUL/AOjoPgz/AOGH1b/5qKt/srfEb40%2BMNY%2BKHgT46a/4X1bVPAPxCi0Oz1Xwn4audJt7q1l0HR9TVnt7i9vGWRZNRlQsJdpWNDtU5z63XjP7L//ACW/9o7/ALLNY/8AqFeF6APZqKKKACiiigAooooAKKKKACiiigAooooAKKKKACiiigAooooAKKKKACiiigAr5h%2BP2r/2b/wVj/Zsst2P7Q%2BFvxMt8euJvC0v/tOvp6vjn9r7V/7M/wCCxn7GtsWwL7wr8Ubc/wDgDo0gH5xiubFz5KN/OP4yiv1Pb4ew/wBazL2f/Tus/wDwGhVl/wC2n2NRRRXSeIFFFFABRRRQAUUUUAFFFFABRRRQAVxPiv4RfCf40Qav4W%2BMXww8O%2BLNMt/EEV1Bp3ibRYL%2BCOdbKFFlWOdGUOFd1DAZAdhnBNdtXk/x3/at%2BAX7H3hrUfiX%2B0X49/4R3RL7xXDplre/2XdXe%2B6fT0lWPZaxSOMpDKdxUL8uM5IBxxE8PToSlXaUEtea1red9Leo1j5ZU/rcazpOnrzqTg49LqSlFx33UlvvqJ/wwP8AsK/9GWfCX/w3Omf/ABij/hgf9hX/AKMs%2BEv/AIbnTP8A4xXkn/D83/gll/0dF/5ZOuf/ACFR/wAPzf8Agll/0dF/5ZOuf/IVeL9e4V/5%2BUP/ACn/AJGn/EUsT/0PZ/8AhZV/%2BaD6S%2BGnwi%2BE/wAF9Cl8LfB34YeHfCemXF211Pp3hrRYLCCSdlVGlaOBFUuVRFLEZIRRnAFeK/tK/sL%2BK/jx4u%2BJWp%2BH/jPpuhaP8VfhfYeEPEunXvhCS%2BuIWspdTktru2nW9hVBnU5BJE8Um8RJteMlifSf2aP2rfgF%2B2D4Eu/iX%2Bzp49/4SLRLHV5NMur3%2By7q02XSRRStHsuoo3OEmiO4KV%2BbGcggY/xK/bL%2BGHwr8WeJfAviXQdefWPDkvhiOPT7W1gaTVv7fv307T2tN0yhwbuKaJy5j2eS7H5AGPtYeeHqUIyoNODWnLa1vK2lvQzePlmr%2BtyrOq6mvO5Obl0u5OUnLbdye2%2Bh5V%2B19/wTHl/as%2BPVv8Zbn4peHbOKGXwxNbx6/wDDtNY1LR5NH1Y6gRpN693GNNS7yIrjbC7uFBDjAUbHh3/gnYug67qutn4vib%2B09B%2BJmm%2BX/wAI9t8r/hLvEUOs78/aDn7J5XkbePP3b8xY2Hmvj1/wVj%2BHfg7w38e/A3w00q3j%2BJfwj%2BEvi3xfpOma3rWk6haagdFh%2BczQ6XqU11bJ50trmG6W0mdJjsGUk8vvNW/bw0Hw/wDEfxJ8KdN%2BHXivxr4l0/4gXPh/S/DPhPRrOC6MNtommapdXJlvNQSGWGJdRhBlZoHZ544UgdlEkuwj1T4M/D7xH8LPAmkfDvU/FNlqlhoPh/TtM02SDSXtpj9ntlhkklYzyK%2B9kDKqqmwHaTJ96vHPg7%2Bwr45%2BD/jWz8QWXx00zUNM8FaF4i034RaNdeDHUaENWu4rlm1CRb4HUxbiCK3iWMWZ8jzA7PIwmXsv2IP2kdU/ae/Zl%2BHnxd8WaObPXPFvgHTfEWoxWOiXlvYRm6QnZFJMGUMCrZhMjSoCpcAMpPnfgn9sb42a98edBl1bTfCw%2BG3jH4xeJPhtoOn2%2Bm3K61Z3%2Bj2mqSvqM901yYZYZZ9Ev4hbrboyLLbuZX%2BdQAbnij9hvxB4j%2BOl/wCN1%2BMltB4H8QfELRPHninwZ/wjBa7vPEGlWlnb2skN/wDagtvak6bpszwG3kdpLUkTKJXFcx4K/wCCW/hlrOx8BfHT4ny%2BLfA3hLwbdeE/hx4e0izvNBvNH0ifUrC/2XOoWl95t1cRtpOmxRzQi1xHbMGRzK5Povxu%2BLvxw%2BG37VXwb8FaFe%2BFJPAfxC12/wBD1qyu9FuX1eO7h0TVdTS4gululhjizYQxmNreRm8xyHTArlPEv7V3xN%2BFH7Z9r8F/iX4p8OTeDNR0XWNXur6b4f6poS6BY2dstwsp1m8u5LHV3CkrLDaxxyRKTK4RI2BAJPhF%2Bw18Qf2YvBfinw7%2BzV8e4Ir3xV8Qb3xFdXvxS0/WvFyQ29xHsFqi3Otxy%2BapwWufO/ejO%2BMkhhneI/8Agnz46vf2XNC/Yo8MfHfRLP4cweEbbQvFBv8A4fm51q9VJTJLLY3aX0VvpxIOIlNrOLcqrR8quM/4Q/tbftW/HrwV8cNR0Dw54Q8H6p4SvrC6%2BHMXiXw/e3Ji0i50%2B3v421W3S7gd7p4HZzFG8HktKkT7zE7vP8ZP2ov2l9L/AOCc3hv9tX4b%2BKfAmk61N8L7LxBqnh7WfAt7qsetare2ds9np1l5WrWjWxlu5hbr5jTkmePkbSXAOs8R/sP2Hjr9sPSf2pPGtx4DMXhzUhqOiJonw2Sz1%2B5uFsJLOOPUdZa6ka9tohPNJHAkEADrAWZvJ%2BfovA37O/j34X6L8Stb8CfFPSz44%2BInjq48Ry%2BJNb8LSXVparst7W0tHtI7uJ5o4NPtLa2ys8W91eYCMuUHkutft1ePdF/alsf2cPFfxG8F%2BGW8L23he28f6jc/DvWdSt9U1bVTza293BcpbaHE/wC7jtpb55zPNceWqMYT5vP6r/wUO/aU8N%2BHdR%2BMI%2BGfh3xN4d8R6R8QH%2BGng/QdMvI9Z%2B2%2BHDcm1hup/PlS6%2B3xWc77YbeJ7d2jiAuSxcAHqnhL9ln9o34eeFfE8vgv9oTwOfFnjvxrc%2BIfGGpa18Kbi50ktLp9rYCGx0%2BPV4ntFEVnEzGS4uPNkkndgTL8tzwL%2Bw9ongTSvgF4MtPiDd3vhv4CaNJDpWmX1gpl1XUV0saZa30kiMqReTbTX48lYypa6RlMYgCt4p4G/wCClXxG8fajqHwM%2BHPxP%2BFvjrxpc%2BL/AAzpPh/4heF9AvB4aWDVrbULmR5LT%2B0JZLiW2j0jUFKR3iCSQwoxhYSKuj8W/wBur9pbwN%2Bx7fftHadP4Vj1vwVr/ifw/wCKdCh%2BGGtataa7qWkX91aRvHd2t8q%2BH7O4Fmztd33nwWouV82QiJjIAegaD%2BwDJ4d/aGtfiZpnxK0yDwhYfFLUfiLaeGbbwjs1NtfvtLuNPuDLqf2oh7Vlup5fKFssu4ohnMSeWex8A/s5eP8A4UeAPHcPgD4paM/jnxz4/vvFN54q8Q%2BEpLyzWSa4iS3gkso72F5Vt9NtrSxVhcIT9mWXj/V1wei/tXfF/wD4bi1X4KfEfxHofhLwcNZstP8ABtrqfwq1p38UvNokN662/iL7WmmLOtw86C3ELyslq4Ayd6%2BM%2BF/%2BCxuu%2BGtA8SeI/i1ceCNUv7P4N%2BI/HUvgjw9bXNjf%2BCbvSbuxt20DW557idWuXbUYQZhFb7Ps0z%2BSyPExAPT/ABP/AMEoPhz8T/hJ4m8PfF34javc%2BOPEt14nvT4v8F6nq3hqzsLrW4LeG5WLT7DUV821xZ2rNb3M0/mukjO%2BZnz1Pi39i34n%2BJPAPg/4AWnx%2B0%2BD4beGX8PTXNne%2BF72/wDEV1NpV3b3aNHrFzqjiISS20WWe3mlRS4WUMUZPNvEf7fHxl8OfBWw1rT/AIkeE/EPiW8%2BJ1n4c1ufTfgV4mt7nwzbT6ZNeIT4alvTq2rSO0KBGtzEGguTc%2BX5VtKSvjD9sH9s3X/2KvAP7Tvwk8VfC3T/ABB4xvNM0Kz8Kaz4D1DUl1TWL7Vhp8LpJDrFu9hGEbz5raVJprURTpI5aJgAD2Zf2cvjZ4j/AGhtK%2BOXxL%2BOPhu%2Bg8I2usw%2BB9J0LwFNYSwi/CIBqNw%2Bozm%2BSOONP3cSWqvIokIyqBPPPC3/AAT2%2BMEnwU1v4ZfFr9oHwXr2rN8W1%2BI/g3WtL%2BFlzZW%2Bka1/bMmrutxaz6xc/bLczP5QRZbeRYi2JPMKypny/t5/GmL9v1f2bZdG0KLw23xF/wCEXFpL4R1EO1ufDv8Aagvx4g%2B0f2abozfuho/k/bPL/fZ2fNX17QB5J8GPgLffs%2BfArxT4d13xhBrusa9q2ueIte1Gw0j%2Bz7R72/lluJVtrXzZjbwgtgK0sjk7nd3Z2JqeOP8AlIX8L/8AsjPjz/07eEK9S8c/8iTrH/YKuP8A0W1eW%2BOP%2BUhfwv8A%2ByM%2BPP8A07eEKAPZqKKKACiiigAooooAK8Z/YP8A%2BSIa5/2Wb4j/APqa63Xs1eM/sH/8kQ1z/ss3xH/9TXW6APZqKKKACiiigAooooAKKKKACiiuJ/aC/aJ%2BDv7Lfw0ufi58cfGUWiaHbTRwee0Mksk00hwkMUUas8rtydqgnAZjgKSIqVKdGm6lRpRWrb0SXmzqwWCxmZYynhMJTlUq1GoxhFOUpSeyikm232X/AA3bUV8l/wDD7L9gVuIfGPiyQ9gnw%2B1Xn/yBVXXP%2BCyXwSvdHuR8HfgJ8XfGestEV0jTdP8Ah7dwx3dweI42lkX92pYgFtrYGTtPQ%2BY8%2ByZK6rxfo7v7kmz7iHhP4lSmoyymtC/WcVTivNyqVIRSXVt2Su3oj379oX9qb9n39lLwzZ%2BL/wBoT4o6f4YsNRvls7CS8EjvcTHskcSs7AAgswXag5Ygc10/hn4i%2BAPGfguH4j%2BEfG2k6n4fuLU3MOt2GoRy2jwgEmQSqSm0AHJzgYOelfNX7MP7DvjHxp44n/a%2B/wCCgsem%2BKfiVrNk9vpXhWSJbjR/BmnyAg2NtE25HlKsRLMd2SWALZZ5MT4wf8EbPhlrs2qWX7NHxs8V/CHQPFriHx94O8MzmXR9as2YeciWzuFtZXQFA6ZRVJXyypYHH63nUoOtCgnF7QcuWouzle8dd3HRxXVu6PQfD3hlSrxyzEZtUhXg17TERpKrhZO/v06Shy13yJOMKzUqdaf2KdPlqPI%2BB3hDTv8AgqP%2B0hfftefFjwxBqnwY8EyXeifCDw1rNkJbXXrgkxXutTQygrIhKmOIMCPl6K0ZLeoeOP8AgkN/wTa%2BIV39t179kvw5bvu3bdDmudMTP%2B5ZyxLj2xivevAfgXwl8MfBWlfDvwHoUGmaLolhFZaXp9suEggjUKiD1wAOTyTyck1rVpQyfCOhbFwjUnJ80m4p3k%2B102orRRV9El1bOLNfEjiGOaKWQYqtgsLSiqdCnTqzhy0o3s5ckoxlVm3KpVm4tyqTlryxgl8u2P8AwRc/4Jjac6yW/wCyrpzFTkefr2pyj8Q9yQa7Twl/wTZ/YF8EXMV54f8A2QvAImhYNFLeeHIbplI6EGcOc%2B9e3UV0U8oyqk7ww8F/25H/AORPKxfiHx/joOOIzfFTT6PEVn/7lRV0fRNG8O6dFo/h/SLWxtIV2w2tnbrFHGPRVUAD8KsNDC8qzPEpdM7HK8rnrg9qdRXekkrI%2BRlOc5OUm23u29X6vd/eFFFFMkY1vbtOt00CGVFKpIVG5QcZAPYHA/IU%2Biigd2wooooEIyqylWAIIwQe9fN3jP8A4JD/APBOvx/8Q7r4m%2BJ/2adMfUL2Xzbm2s9Ru7WyebvL9lgmSHee52YPUjJJP0lRXNicHhMZFKvTjNLVcyTt96PayXiTiLhupOplOMq4eU1yydKpOm5Ls%2BWSuu19ujV3fxSP/gm9%2BwFFo6aEv7G3w3MCDh28I2rTfjKU8w/i1cb4q/4I2f8ABNzxVILpv2Z7HS7lDuhu9A1i%2BsHib1XyJ1XP1BFfTtFYTynKqitLDwf/AG5H/wCRR6uF8QePcFUdShm2Ki32xFbX1vVkvwt5Hy34M/4I8/sU%2BHfFNv4q8Y%2BHfEfjw6fxo%2Bm/EHxPcarZacM5KxW8p2MD3EgccV9D6t8L/hpr3hKPwDrnw70K90KGIRxaLd6RDJaIgGAohZSgGO2MVu0Vph8vwOEi40aUYp72S19b3b%2Bba8jizfi/irP61OrmOOq1ZU/g5py9zzgouEYvq3GMZN6uTep81eOf%2BCP3/BN3x/ePqOqfssaLYXDvvWXw9eXeliNvVUtJo0X6bce1c/8A8OgPhJ4e%2Bb4P/tR/HnwHt/1UPhj4nzrCvsUmSTcvtmvrWiueWSZROXN7CKfdLlf3xcWezQ8T/ETD0lSWa15wW0ak/ax/8BrRrx/A%2BSx/wTx/aqsR5Oh/8FWvivHCvEQv9NsbpwP9p2UFj71WuPhF/wAFZf2cZTrXwq/aM8MfHPSR89z4X%2BIWjpo%2Boj1W1vLY7CxPTzsKvoe/17RUvJsJHWnKcH3VSenylKSfo0zePiXxBVfLjaOGxFN7wqYTDWl/29SpUKkX2lCpFp99j5X%2BHv8AwVa%2BEtn4st/hV%2B2B8OvEPwK8YTnbDZeOoh/Zd43c22pIPIlQHje3lrngZrvP2TtR0/V/jB%2B0Rquk30N1a3Hxi0%2BS3ubeUPHKh8E%2BFyGVlyGBHIIr1D4ifDL4dfF3wrceBvin4G0nxFo92MXGmazYR3ML%2Bh2OCMjseo6givCv%2BCePwS%2BGf7OniL4%2B/B34O%2BHBpHhzSvjXE%2BnaaLmSYQef4S8N3EihpWZtvmSuQCTgEAcACt8LTzGlUcK04zhbSVuWV%2BzS91%2Bq5fQ8nPcXwdmGEjiMtw1TC4jmXNS51VoONneVOc7V4NO37uftFZ6VNLP6RooorvPkwooooAKKKKACiiigAooooAKKKKACiiigAooooAKKKKACiiigDx7/AIKDnxyP2HPiwfhv/af9sf8ACBan9n/sTf8Abtn2d/N%2BzeX8/n%2BV5nl7Pn37dvzYryP9gq8/ZX1L4hfF34c/s4XXgi4%2BDfiC%2B0%2BLwjoXh57V9E1K7XSYhrKWEKfupoQklkLgRAoJ3m8z96Za%2BvaKAPlT/gmP8Ffg54c1L4v/ALSPwY%2BE3hnwhonxC%2BIMum%2BGrDwroNvp1s%2Bi6Hv0yCby7dEV/OvE1O7STGWivY%2BwBPkP7c3iT4qWP/BZb9j6fxv4O8P6bokF143tfDOo6V4mnvLq/jng0iKQ3VvJZQpaMMoFVJrgNubJXaN36E1%2Be3/BWrU/7F/4KWfsOaluxnxprdtn/rteeH4sf%2BPV5ubS5MvlLs4/%2Bl0z7Tw9ofWeLqFH%2BaNdffhcX/kfoTRRRXpHxYUUUUAFFFFABRRRQAUUUUAFFFFABWV4f/5C2uf9hRP/AEkt61az73wxpF/dvfyC5ilkAEj2t/NBvwMAsI3UMQOMnnFAGhRWX/wh%2Bk/8/eq/%2BDy7/wDjtH/CH6T/AM/eq/8Ag8u//jtAGpXlPxV/Y8%2BFXxg/aN%2BHv7Tnii/1mLXPhyLz%2Bz9PsbuNLDVDNGViN9E0bNP9mZpJYNrp5ckjN83GPQv%2BEP0n/n71X/weXf8A8do/4Q/Sf%2BfvVf8AweXf/wAdoA%2BatQ/4JJfBDWNL8Q%2BGdY%2BNHxJudD1v4e%2BM/BmnaE%2BpaattoOl%2BJ5optS%2BybLESPMJIUMc1y9wy8hzIMAdr4q/YJ8A6z4%2B1X4s%2BEvix438JeLNU8Z3PiI%2BIvDt3YGe2a50mw0q5so0urOaI2ssGm2jsrxvIssYdJEIUL7B/wh%2Bk/wDP3qv/AIPLv/47R/wh%2Bk/8/eq/%2BDy7/wDjtAHJ/s5fs8eH/wBmL4V%2BFvgr4D8a%2BIL7w34Q8J2Wg6RY63NbTN5dsGVbmSVIEkkndSquS3lkRqVRWLM3L6B%2Bw98OvDvxzX41Wfj3xXJb2niTUfEmieCprq0OjaRrt/ayWt5qluothc%2BfLFcXYKSTvCrXlwyxK0hNeqf8IfpP/P3qv/g8u/8A47R/wh%2Bk/wDP3qv/AIPLv/47QB5Z8Wv2P9W%2BLnjz4afELUP2rfiRpN78MLoXumw6RaeHvK1S%2BNnc2U13eCfSZWMk1td3EbpAYYl8zdHHG6qwk1/9jHwp8Q/icnj344fFLxT8QNJs5dUfRfAXi220mTQ9N/tC2ms7hBFb2EU10htLm5tgl3LcKIp5AQSd1en/APCH6T/z96r/AODy7/8AjtH/AAh%2Bk/8AP3qv/g8u/wD47QB4n4Q/4Jrfs0/CGD4lv%2BzVoMPwov8A4oxWcOrap8PPDOi2cunQ28KQ%2BVaRy2EsKpIquXWWOUb5pHXYxBXW8J/sQ%2BD9B%2BAvw6/Z38UfFrxn4p0T4aa7pGp6Pca6%2BmpcXw0pg%2BnWt39jsoIpIYJY7aVdsaSNJaQs8j4ff6t/wh%2Bk/wDP3qv/AIPLv/47R/wh%2Bk/8/eq/%2BDy7/wDjtAHlnxc/Yg%2BHPxg%2BJ8/xG1bx34q0u11aXRpfF3hbR7izTTvEr6VdG6sGu/MtnuFMcmA32eaDzURY5fMRQtVvBP7CHgD4f/Ea8%2BIfh74peNAqf2/J4S0Ka6sXsPCVzrVx9p1C609fsnmGV5tzr9qkuEhEjxxJHG7Rn1z/AIQ/Sf8An71X/wAHl3/8do/4Q/Sf%2BfvVf/B5d/8Ax2gDxu4/YF8F6r4b1X/hJvjV481XxpqniTTddHxRu5tMTW7K808bbLyEhsUsY4okaZPJ%2ByGJxdXBkV2mkZotX/YD0K%2B%2BDS/APRv2kPiXo3hq/t9Wj8Z22m3GkGbxZJqlzNc6hPeTzadJLDLPLc3JZ7JrXaJiIwgSPZ7T/wAIfpP/AD96r/4PLv8A%2BO0f8IfpP/P3qv8A4PLv/wCO0Aeb%2BIP2RdH8WfErQfF/iX4yeM7zw34W1az1Tw58NSdMi0SwvLW38m3lDRWS30oQ5mEct08fmkNswqKudqv7C/gDx3d%2BLr345/Ezxh8Q5PFfhHUfCsR8TzWEI0TRb51kurOyGn2lts8xorZjNL5s5NpATKfLFes/8IfpP/P3qv8A4PLv/wCO0f8ACH6T/wA/eq/%2BDy7/APjtAHhs3/BO3wneXC%2BM9S/aJ%2BJN18QIfFdrr9n8T5ZtHGrWs9vptzpkUKQrpw08wCzvbyMxvaNuNy8hJkCuvTeEP2KPhT4O0z4aaRba74gvIPhh4j1PxFpa6hexSf2prN/Fepc6je4iHmTFtRvpQI/LjWS4LBAFQJ6Z/wAIfpP/AD96r/4PLv8A%2BO0f8IfpP/P3qv8A4PLv/wCO0AeSp%2Bwl8PE%2BNZ%2BLZ%2BJXjE6YfG//AAmQ%2BH7Xdn/Yo1/7J9l%2B35%2By/bN23955P2n7P5v7zyt1e3Vl/wDCH6T/AM/eq/8Ag8u//jtH/CH6T/z96r/4PLv/AOO0AJ45/wCRJ1j/ALBdx/6LavLvHH/KQv4X/wDZGfHn/p28IV6ifBmhvhZ2vpkyCYrjVrmRG9mVpCrD2IIry7xx/wApC/hf/wBkZ8ef%2BnbwhQB7NRRRQAV4h%2B394k8RaF8E9G0jRPFepaBaeJPiX4V8P6/rmj6hJZ3Vnp19rVpbXAiuYmV7Z5lk%2BzCZGV4/tG5GRwrD2%2Bs3xj4M8H/ETwtf%2BB/iB4U03XdE1S2a31PR9YsY7q1vIWGGjlikBSRCOqsCDQB8p%2BEIv2gfHH7GvxX%2BF/wX8f69quo%2BF/ivqWgeEtZvfFUn9q6jotrqlu13YR6pcOZPtYiN/psV3LJ5iSRRs8u9Gkry/wACXv7T3xP0LxP4ch8IfFaX4e/D74832mXfg6z%2BNC2/iyTSD4WsLhI5Ne/tVPtC22rXd00sY1IlVUQmSX7K0LfbNv8As1/s52ngt/hva/AHwVF4dk0P%2BxZNAj8K2a2Tab5jSfYjAI/LNvvd38rGzc7HGSTVTWv2T/2WfEnwy0r4KeIv2afh/f8Ag3QroXWieEr3wbYy6Zp84EgEsFq0RiifEso3KoP7x%2BfmOQDh/wBiT4x/Fzxp/wAE9fh18afH/hHVfFXiu%2B8DWd5c2GkXdp9r1ligEc8ct1JbQM00eybe7xI28kbQQtSf8E6dWv8AXv2br7W9V8MX2iXN58W/iHNcaPqckD3Ni7eM9aJhla3llhLoTtJjkdMg7WYYJ9xt7e3s7eO0tIEiiiQJFFGoVUUDAAA4AA7V45%2Bwf/yRDXP%2ByzfEf/1NdboA9mooooAKKKKACue%2BK/xW%2BHvwP%2BHWr/Fn4q%2BKLfRvD2hWhudU1K5DFYowQBhVBZ2JIVUUFmZgqgkgV0NfEfiZm/4Km/tat4BtGNx8Afgxriv4imXm38Z%2BJouVtAektrbZy/VXY9GDoy8GYYyeGpxhSXNUm7QXn1b/ALsV70n2slq0fW8I8O0M8xdXEY%2BbpYLDR9pXqK11C9owhfR1q07U6UX9pynJclObPZfhf/wU8/4J/fGHy08E/tY%2BDxLNjyrbWdR/syZyewjvBE5PsBmvdYJ4LqBLm2mSSORA0ciMCrKRkEEdQRXn/wAU/wBkv9mD43QSw/Fr9n3wd4gaZCrXOpeHreSdcjGVm2eYh/2lYEetfMTeD/2of%2BCVF4br4T6N4h%2BMH7PxlzJ4PhY3XiPwUhP/AC5Fjm8tB/zyJBQY5UB5H5ZYvMcD72LjGVPrKClePnKDu%2BXu4t23aa1XuUeH%2BDuKU6PD9arQxf2aGKlRcav9yliIKnFVP5YV401U2jUjO0ZfafiDX9D8KaFe%2BKPE2rW9hpunWkl1f313KI4reGNSzyOx4VVUEkngAV8afs76Brf/AAUq/aLtf24PidpNxb/CXwLfSw/A/wAMX0RUardI22XxBcRt1%2BZcQKR8u0HAKFpFsvgB%2B1T/AMFKr2HxZ%2B2ZHqHwy%2BD5lWbSvgzpV60ep65GCGSTWbhMNGpwD9mTBHGQjIHb7K8P%2BH9D8J6DZeF/DOk29hpum2kdrYWNpEI4reGNQqRoo4VVUAADoBUxjVzetGc4uNCLuk9HOS2bjuoR3SesnZtJJJ9FWrgfDzLq2GwteFbNK0XTnOm%2BanhaUk1Up06q92piKifs6lSneFGnz04VJ1Kk5xuUUUV7Z%2BXBRRRQAUUUUAFFFFABRRRQAUUUUAFFFFABRRRQAUUUUAFFFFABRRRQAUUUUAFFFFABXjP7L/8AyW/9o7/ss1j/AOoV4Xr2avGf2X/%2BS3/tHf8AZZrH/wBQrwvQB7NRRRQAUUUUAFFFFABRRRQAUUUUAFFFFABRRRQAUUUUAFFFFABRRRQAUV5F%2B318QvGnwo/Yo%2BKfxI%2BHmsyaZrOi%2BBtRurLV4Ywz6aVgbdeKGBUmBd0w3ArmPkEZFeU/Drxj45%2BBGm/tM%2BDPhP4n8ReNdP8AhroVrq3glPFXiS8166j1SXQTdyacbu7lluJkLpbXAjeRiv8AaBC7UMaqAfWdfnL/AMFsP9B/bD/ZL8VdP7C8T39/u/u7dc8LJn/x%2BvaP%2BCZ3j7WLmfUfhz8QbPxLL4qu/h74Y8ZXetav8W77xVb6pZ6mL5IbgJcBIdKuGltLhpLSzjFqAYvJeRUxH87f8Ft/GniTU/i14PuNW%2BEfiHQrPwX4a1a9sPEGq3OnPaawP%2BEo8GIZLZba7lnQJuAP2iKA/Ou0N82PJz3/AJE9d9o3%2B5xf6H6B4Va%2BI%2BVw/nq8n/gyFan/AO5D9O6KKK9Y/PwooooAKKKKACiiigAooooAKKKKACiiigAooooAKKKKACiiigAooooAKKKKACiiigAooooAKKKKACiiigAooooAKKKKACvGfHH/ACkL%2BF//AGRnx5/6dvCFezV4z44/5SF/C/8A7Iz48/8ATt4QoA9mooooAKKK8h/bX%2BJHj74efCfSLL4ZeJW0LWPFnj/w74Yh8RJaQzvpMWoanb289zHHOjxNMIXkEXmI8YlaMujqCjAHr1FfKVh8Zf2qJ/2Q/ihYeDfEGo%2BKvHfw%2B%2BI134Zt/FFroNrLqV9pcV9atNfx2cMSW89/Bp1zLiJIhHNc2oAhAk8qvHz%2B2d%2B1J4v0yf4R/DTxV8UtZvdH%2BO914Yiv7XwhoOk%2BO9f0VPCNrrYmSz1u0ttMtWiub6OORriC3Y20cW1RPMFYA/Q2vGf2D/8AkiGuf9lm%2BI//AKmut079ln4%2Bax4s/Yf8D/tAfFrVZtb1W68F2d54muPC3hi9uZZrwRqtwsVjbwNcNIJQ6tEkWQythFAwM/8A4J0%2BIbDxb%2BzdfeKdKt76K21H4t/EO5t4tT0ueyuUR/GetMBLb3CJNA4B5jkRXU5DKCCKAPdKKKKACiiigD5u/wCCo3xx8YfC39m4fDX4Q3Tr8QPiprNv4O8EpBIVkjuLxtktwCvKCKHzG8wfcYocivWP2a/gB4E/Zd%2BB3hz4E/DmwSHTPD%2BnJB5qxhWupus1w/q8khZ2Pq3HAAr50%2BHP/GYv/BUjxH8V5f8ASfBf7O2nSeGvDZPMVx4mvFzqEy9t0EQEDA9G2MK%2BxK8fAL63jKuMe38OH%2BGL95r/ABTv6qCP0fixvh7hvAcNw0m0sVif%2BvtaK9hTl/15wzi7P4Z4iWidwooor2D84CiiigAooooAKKKKACivEP2wP21NO/Ze1Lwn8P8Awp8LtV%2BIHj3xxfSweGfBGg3UcVxcRQxmSe5eST5YokAGWI5J9FYr5z/w1J/wVb8UceF/%2BCYGi6BG3%2BrufE/xisJsj1MdvHuX6V51bNcJRrOl70pLdRhKVrq9m0rJ21s3c8nEZ1gcPXlR96Uo2uoQnO11dJuMWk7a2bvZra59a0V8lf27/wAFw9d/0rTfAn7NGhRjn7LrGp65cyt7brcbR9abN8Uv%2BC0PgxP7S8Qfst/BfxlFB80un%2BEfGl3YXFwO4je%2BBRT/AL1Z/wBrQWro1Uu/s3%2Bkm/wMv7cprV4esl39lL9JN/h8j63or5Isv%2BCu/wAMvAF5Fon7Y37PvxL%2BDF28gjbUPE/hqW70h3JwBFe2ocSDPG7YAPWvX9W/bp/ZA0j4N6h8fz%2B0V4Tu/CemRBrzVNN1mK52uc7YRHGWczMRgRbd5PGK1pZrltZNxqx91Xab5Wl5qXK19xvQzvKMQpOFeN4q7TfK0lu3GXLJW9LeZ6xRXxV4Tb/goB/wUNv3%2BLOgfFPWv2efhaYseDtLt9GguPEGvxsRi%2Bu/NyLWNl5jjU5IbPzDbIyfEf8AZR/b1/Zl0mH9oH4Cftk%2BPPi1rfh2f7Rq/wAOPG08X2LxBp%2BD50ECxKPKucfNG3JyuBkna3N/a1WUPa08POVP%2Bb3U2u6g3ztdVom1qlqr8f8AbladN16WEqSpb83upuP80YN87VtUrJySulqk/taivDfA/wDwUP8A2YvGf7Jl3%2B2PL42XTfC%2Bk2zf8JBa3wC3ul3qYD2EsOc/ad5VFQffLoVyGBPzTpngD/gpv%2B0Dby/8FJfBPju78K%2BIYnWb4dfArUpSNOvvDYBZre/BIAvLoFZFc42FUBKZTyLxGb0YKH1eLquS5rQs7Q6y/RR3k00ldO2mKz3D01T%2BqwddyXPaFnan1nr90Y/FOScUrp2/QiivmXwj/wAFYf2UNR/Zovf2h/iB4ll8LXeiXZ0zxL4G1JP%2BJzYawuQdOW2OHlkZlbYwAUqpZtmyQJxXhDwZ/wAFN/201n%2BL3iH4%2BXn7O3hK/K/8It4B0zwxaahrD2nJFzfTz4a3mcEHyl%2B6OCqsCWcs3w0%2BVYZOrKSvaNtF3k20o9rOzbTSjo7OefYSfJHCJ15SXMlC2ke8nJpQV7q0mpNppR0dvs%2BivjTxL%2By1/wAFEv2Zmh%2BMv7Pf7X/iD4w39mG/t/4c/EqSGO21m24JWzljAFpcDB2k/KxI3HA2P1fw8/4K9/sUa/4Pl1T4s/EmP4a%2BJNNuGtPEXgfxtG9tqmmXagb4zFt3Sr6OgIIIyFbKghm1GE%2BTFr2Mt1zuNmvKSfK2uqumuzWoU88w9Op7PHR%2Bry3XO48sl/dmnyNrrG6kuzWp9QUV8uaX/wAFpP8AgmRq%2BtHQrX9qfT45QcCa70HUoICfaaS2WP0/i717j8I/2ifgJ8fbSe8%2BCPxn8L%2BLEtVVrtfD%2BuQXb24b7vmLGxaPOONwFdFDMcvxUuWjWhJ9lKLf3J3/AAOvDZtlWNnyYfEQm%2B0Zxb%2B5O/4HZUUUV2noBRRVLRvEvhzxGbkeHvEFlf8A2O4MF39iu0l8iUAExvtJ2sAR8p55pXSdhNpOzZdooopjCvGf2X/%2BS3/tHf8AZZrH/wBQrwvXs1eM/sv/APJb/wBo7/ss1j/6hXhegD2aiiigAooooAKKKKACiiigAooooAKKKKACiiigAooooAKKKKACiiigCK9srPUrOXTtRtIri3uImjngmjDpIjDDKyngggkEHgg1ynw5/Z5%2BAPwe0%2Bw0n4R/A7wf4WtdLluZNMtvDnhm1sY7R7gKLholhjURmUIm8rgvsXdnArsKKAOW%2BF/wN%2BCnwQttQsvgv8H/AAt4Qh1a8N3qsXhfw/baet5cEYM0ogRRI%2BP4myfevhr/AIL0aW%2Bq%2BD/KiyHg%2BCHii5Rh1UxeK/AkmfyU1%2Bh1fDH/AAWO0j%2B27W%2Bs9udn7M/xEuMf9ctX8HS/%2ByV5ucw9plGIj3pz/wDSWfa%2BG2I%2BqeIuTVv5cVh3/wCVqa/U%2B3PD%2BqJreg2OtRkbbyzinXHo6hv61brjf2c9X/4SD9nvwJr27d9t8GaXcbvXfaRN/WuyrupT9pSjLuk/vSf6nyuYYf6pj61D%2BSc4/wDgM5R/9tCiiitDkCiiigAooooAKKKKACiiigAooooAKKKKACiiigAooooAKKKKACiiigAooooAKKKKACiiigAooooAKKKKACiiigArxnxx/wApC/hf/wBkZ8ef%2BnbwhXs1eM%2BOP%2BUhfwv/AOyM%2BPP/AE7eEKAPZqKKKACud%2BLHwn8A/G/wFe/DP4m6G2oaPfvBJNDFezW0scsMyTwTwzwOksE0U0UcscsTrJHJGjoysoI6KigDzjwt%2Byj8F/BHw9uvhf4Qs/Emm6Re2k8N0LPx5rEd1K891JdT3Zuhd/aPtsk8skj3vmfaXLfNKQABj3v7CX7Ml74E0r4f/wDCIa1bQ6LrtxrWn63p/jnWLXXE1C4jkiuLptXhu11CWWWOR45GedjIhCtlVUD1%2BigDG%2BHXw88FfCXwJpHwy%2BHHh230jQdB0%2BKy0nTbUHZbwRqFVQSSWOByzEsxySSSTXmX7B//ACRDXP8Ass3xH/8AU11uvZq8Z/YP/wCSIa5/2Wb4j/8Aqa63QB7NRRRQAV4b%2B3f%2B12n7K/wxtbLwXor6/wDEfxnd/wBj/DfwnbANNqOovhRIV7QxbleRjgY2qSC4NekfHD4zeAv2efhJr/xr%2BJ2rCy0Pw5pz3l/MMFmA4WNASN0jsVRF/iZ1HevnP9g/4HfET4xfEG6/4KRftW6R5HjHxXp/k/DzwrMS6eDfD75MUSgji5mVt8j4DAOR8pd0Hl4/EVpTjg8M7VJq7f8AJHZy9ekF1lrtFn3nCOT5bSwtTiLOo82Dw8lGNO9nia9uaFBNaqCVqmImvgpLlT9pWhb1L9gr9mCb9kf9mTQvhPrepJqHiKR5tU8Yaujljf6tcuZbiUsQC4BIjViASka5Ga9kor54/ax/b/8AD3wQ8X2v7PvwR8E3PxL%2BMOsoDpPgPRJh/oaEA/adQm5W0gUEMS%2BGIIPyqS42c8HlOCjFvlhFKK6t9Ekt5SfZJttvzZ8XxJxHVx%2BPxGb5pUvUrTc5O285u9oxV32jGEU7JRilaOn0PRXyNL4c/wCC2fxEhaS/%2BI/wG%2BHcTKTDHouk6hqt2hxwJDcfus54yuR7V0f7Hv7cXiLx343uv2Tf2t/C1v4K%2BNWgwb7jTFYiw8TWoBxqGmyN/rY2ClmjyWTDf3XCY081oyrRp1ITp82kXOPKm%2By1dn2Ttfpdqx89SzuhOvGlVp1KXPpFzjyqT/lXvStJ7pS5ebW12rH0tVLxD4j8PeEtHm8Q%2BK9estM0%2B2ANxfahdJDDECQo3O5CrkkDk9SK8Z/ap/4KDfAD9la9h8Eavf3ninx7qQC6F8OPCFsb7WL%2BVhlB5MefJU9d8mMgHaGIxXkfhT9iP44fty%2BILX4zf8FNrlbfQYZPP8LfAbQtRcabpgIIWXUZoyDeXQB6A7VOcEBjGpiMx/evD4WPtKi3V7Rj/jlrb/CryfZLUMVm3794XBR9rWW6vaMPOpLXl8oq830ilqfZsM0VxEs8EqujqGR0bIYHkEEdRXO/Fj4xfCz4FeCrr4i/GLx9pfhzRLNcz6jq12sSZwSEXPLuccIoLMeACa%2BXpP8Agnf%2B0p%2BzJM03/BOP9rG48PaHKSrfDb4lpJrGi2qtxutJTunttv3gg3b2%2B82OK3fhV/wS28A3HjK2%2BNX7aPxH1X44%2BPYTvgvfFqKukaYxIJWz01T5MS57MGGRuAU1n9czWf7uOG5Z9XKScF5pr3penLF92jL6/nVT91DCctTrKU06a804%2B/P/AA8sX3aOSvf2yf28v2xoptd/4J1/A/S9C8FaerXFt4%2B%2BK8EtsPFBTlbewtB86xSEbftD4GGPMTLXo/7PX/BSb4Q/E3wF4puPjTaSfDbxv8OdPlufiR4I8RPtudLSJdz3EJ4%2B027cFJEBzvQEfOm76MjjjhjWGGNURFAVVGAAOgArxD9rX/gnZ%2By1%2B2pquieIfjb4Klk1TQ7iMw6rpVz9muLq2V9zWU7gHzbdj1Q8rlijIWJMTwmb4de1o1vaTe8Z6Qfblsrw5fWXMrqWtmsqmBz3Cx9vh8R7Wo/ijP3ab7ciim6fL6y51dSfM1Jeaf8ABOnwB4v%2BPfj7xF/wU2%2BOOiS2ms%2BP7YWHw00O8GW8P%2BFUcmAAdBLcn985HBBDAgSMtfXlRWVlZ6bZxadp1pFBb28SxwQQxhUjRRhVVRwAAAAB0xUtehgcIsFhlTvd6uT6yk9ZN%2Br%2B5JLZHq5bgY5fhFSvzS1cpPeUnrKT9XsuiUUtEFFFFdZ3EV/YWOqWUum6nZRXNvOhSaCeMOkingqyngg%2Bhrw%2B9/4JlfsD3vxV0740f8MseFIPEGl3P2m0msrI29sZu0j2sTLbysD8wZ42IYBhyM17rRWFbC4XE29tCMraq6Ts/K6ZzYjBYPF29vTjOzuuaKdn3V07BRRRW50nzN8QP%2BCUn7MHxE/antv2nNXs9QiR76LU9f8ABFvMF0XXNWhDi31C5t8YeVBJJns5bLD5pPM%2BmaKK5sPg8LhZTlRgoubu7dX/AF6LV6au/JhcBgsFKpKhTUXN80rLd9/%2BArLVu122/JtY/YZ/ZS8QftI237W2s/BjSrnx7a26xxazKrFS64CXDQ58tp1ACrMVLqAAG%2BVces0UVpSoUKDk6cVHmd3ZJXfd23fmaUcNhsO5OlBR5nd2SV2927LV%2BbCuY1/4JfBjxX4pHjnxT8IvDGpa2IliGsahoFtNdbF%2B6vmuhfA7DOBXT0Vc4QqK0kn6pP8ANM0nTp1VacU15pP80zL1XwR4L13Rh4c1vwjpd5p6jC2F3p8ckIHpsZSv6V8%2B/HT/AIJcfs8/EHUrf4jfAe2b4N/ELSwzaP42%2BHFrHYOrHkrc28WyK7jY43K4DMPl3gEg/S1Fc%2BJwWExcOWtBP5ar0as010aascuLy7A46nyV6al8tV2akrSi10akmj41tvCP/Bazx1D/AMKY8S/E34W%2BDbCwJivfi5o2mveajq8J%2B69vYPiKCXbnzN4Rd3MZAHN60/4JBeC4Yv7ek/bS/aCi8WznzNS8X6f8SZILm8lPdk8tkCDoEA4XAyetfXlFcSyTBS1ruVR9OeUnb0s4pevxPqzz1w7l89cQ51mtnOcnZeVnBL/FZyfWR8iyf8EnT47f%2BzP2jP25/jZ8QNAiG2Dw1e%2BK/sVpMncXP2dQ1wf9rcpwcVQ8b/8ABMG5/Zwvrf40f8EuNcj%2BHvi3TLRYtQ8HanfXF1oXi23QkiC7WZ2dJeSFnDZBJ5UnzF%2ByaKJZFlbjpTtLpK8uddmpNuSt626NNXCXDeTOLtTtPpNOXPF9HGblKSt2Tt0cWm0/i2y/bC/4KQ/tL2ifDD4B/sV3Xwu1%2B1BtvGfjf4pSZ0zSLkHDjT4kG7UuPmSUDy8kBlKkMbsf7LH/AAVD%2BAca%2BM/gp%2B3TZ/E%2B%2BmHna94R%2BK2hCKyvJzy5s57ZjJZqeQkIIjBxk46fYtFJZQ5%2B9Xr1JT6NS5LekY2jfu2pX7JaCWROp72JxNWc1tJS5OX0jC0b93JTv2S0XhH7HH7aNz%2B0bq/in4RfFf4YzfD/AOKPgS5ji8VeCrvUkusQyKGivLaZQBPbvnhgDtJGSQyM2j%2By/wD8lv8A2jv%2ByzWP/qFeF64D/goT%2Bz18RrXWND/bu/ZX0zf8U/hpC5udKiBC%2BLNCJLXOlyhRl227ni4JD5CjcUK2v%2BCaXx68B/tP/wDC6vj18NLmSTRvEnxXsbi2WddskDr4M8MxywOOm%2BOVJI2xkbkOCRg1pgcRWhWlhMQ7zjrGW3PC%2B%2BmnNF%2B7JLrZpWlprl2KxFPETwOLd6kfejKyXtIXspaac0X7s0uvLJK0tPpuiiivUPZCiiigAooooAKKKKACiiigAooooAKKKKACiiigAooooAKKKKAPMP20/i94q%2BAf7JnxD%2BMfgaO1Ot%2BH/Cl5daO99EXt4boRkRSyqCC0SOVd1yMqrDIzkcH8GvGH7QGlax8bf2e9W%2BK2pePNe8D6fY3fg/xXq%2Bl6dbX0r3%2BmvIltOlnbwWrPHcwSMrCJP3U8SvuKmR/ePGng3wr8RfB2rfD7x1oFrquia7ps%2Bn6xpd7EHhvLWaNo5YZFPDI6MykdwTXDfDj9kP4HfCbRL/QvA1h4lt01Z7mTV7y78f6zd3moSTW0NqZLi6uLt553SCCGKF5HZrdY1EJjoA8//wCCfPxM%2BKWuaDqnwn/aS8WfEif4p%2BHtE0XUfF%2Bh/EfT/DkT2aXsU6R3FlJ4fiW2mtJrizvlUs8kqtbOrhMAHyv/AIKCeN/DfxO%2BKvi74baPpXiGO%2B0P9k/4rR3cuq%2BEdRsbSaRpvDDIba6uYI4L0Apy1u8gXjcRuXP1N8GP2bvhL8A7nV9S%2BHmmau%2Bo6%2B0H9ta34l8V6lrmo3iwKywRPealcTzmKMSSbIt%2BxDLIVUF2J8i/bA0j/hIP2i9I0HZu%2B2/s0fE%2B32%2Bu%2B88KLj9a58ZD2mEqQ7xkvvjJHs8O4j6pxFgq/wDJWoy/8BrUpfod5%2BwNq/8Abv7DXwc1QtuaT4X6CJD6uunwq36g163Xz5/wSm1f%2B2/%2BCdHwhvN2dng%2BC3z/ANcmeL/2SvoOsssn7TLaEu8If%2BkxO7jfD/VONc0ofy4nEL/yvW/zCiiiu0%2BYCiiigAooooAKKKKACiiigAooooAKKKKACiiigAooooAKKKKACiiigAooooAKKKKACiiigAooooAKKKKACiiigArxnxx/ykL%2BF/8A2Rnx5/6dvCFezV4z44/5SF/C/wD7Iz48/wDTt4QoA9mooooAK8h/bX%2BJHj74efCfSLL4ZeJW0LWPFnj/AMO%2BGIfESWkM76TFqGp29vPcxxzo8TTCF5BF5iPGJWjLo6go3r1c78WPhP4B%2BN/gK9%2BGfxN0NtQ0e/eCSaGK9mtpY5YZkngnhngdJYJopoo5Y5YnWSOSNHRlZQQAfOlh8Zf2qJ/2Q/ihYeDfEGo%2BKvHfw%2B%2BI134Zt/FFroNrLqV9pcV9atNfx2cMSW89/Bp1zLiJIhHNc2oAhAk8quK0L9qH4i%2BIP2Wvjt4%2B8RftD/FnQ7b4E%2BMLyDTfEkngvRtM8ReKbMeHtN1WG3urHUNHaKGZ59RNvGqWlvK6pbkrukYH6b8Lfso/BfwR8Pbr4X%2BELPxJpukXtpPDdCz8eaxHdSvPdSXU92boXf2j7bJPLJI975n2ly3zSkAAN0/9kX9n3TvhXH8F18ET3Hh9fE1p4huYdQ16%2Burm/wBUtr6G/iuru7mma4vX%2B028Lt58kgkEao4ZPloAf8JdS%2BJXwg/ZZ8Man%2B074p1PxT4w0bwhYt461fRfDT3VxqGpCFPtUkFjpluWcGYvtjgiPy44OCa5H/gnT4hsPFv7N194p0q3vorbUfi38Q7m3i1PS57K5RH8Z60wEtvcIk0DgHmORFdTkMoIIr3SvGf2D/8AkiGuf9lm%2BI//AKmut0AezUUV4r/wUI/aSu/2V/2T/FHxM8PK0viS4gTSfB1nGm6S51e7bybZUX%2BMqzeaV7rE1Y4nEU8Lh51qj92Kbfy/qy82j08lyjG5/nGHy3Bq9WvOMIrpeTSu30S1lJ9Ixk%2Bh4r8XSf8AgpB%2B23B%2BzfYE3Pwe%2BCWpQ6n8SJl5g8QeIhk22lE9JI4OXlXkbg6MARG1fagAAwBgDoK8W/Y2%2BAPhH9hz9knSfBfiXV7W1uNN02TWPHviG%2BugFudSkTzb67mmc8qGBAdjxHGoJ4rxzVv23v2lv229RuPAn/BNTwCNP8MCVrfU/jt43sHi02HBw/8AZlq6772Qc4Zl2BhhlAIevGw9aGX0/a4m7r1ve5Yq8vKCX8sE0m21G7k29T0/EXizKIY2jlOXNywmEUqWHjFXnWfNeriHFfar1FzuUmowpqjTcrQs%2Bh/bJ/at%2BKPi34nRfsGfsQXUM3xO1e2EvivxWU8y08CaW2N13ORwbllYeVF1yyseqBvT/wBkj9i34M/sdeEbjR/h5Y3Goa7qz%2Bf4q8Z61KbjVdduiSWmuJ2yxBYsQg%2BVck4yWYn7HX7Hnw%2B/Y6%2BHM/hXw3qV1rniDWrxtQ8Z%2BM9W%2Ba/1/UHJL3EzEkgZZtiZIUE8szMzeuV1YTB1Z1freLSdTot1TXZf3n9qW7eitFJP8/wOArVK/wBexyTqv4Y7qlF/Zj0cn9udryeitBJMryP9rj9jD4S/tieE7HSfHMmo6PruhXi3nhTxp4dufs2raHcgg%2BZbzgZUEqNynIOAeGVWX1yivQr0KOJpOlVipRe6f9fc9GnqmmenicNh8ZQlRrxUoy3T/r5pppp6pp6nkH7LX7DP7Of7IWn3Enwp8HvNr2o5bXPGWuzm81jVZGOWee5cbvmbkom1M87c816/RRSoYehhaSp0YqMV0Ssv6%2B9vq2GGwuGwdFUaEFGK2SVl/Xdu7fVsKKKK2NwooooAKKKKACiiigAooooAKKKKACiiigAooooAKKKKACiiigAooooAKKKKACiiigArwb9i/wAF%2BEvh/wDFP9ozwz4I8OWek6cvxwhuVsrCARRLLceEPDVxM4VeAXllkc46s5Ne814z%2By//AMlv/aO/7LNY/wDqFeF6XLFu9tROMXJStqv1PZqKKKYwooooAKKKKACiiigAooooAKKKKACiiigAooooAKKKKACiiigAorz/APar%2BNVz%2Bzn%2Bzf42%2BOOn6Cmq3nhjw5dX2n6ZLMYo7u6VD5ELuASiNKUVnAJVSTg4xXHfA79oX4gaTq3xR8AftX%2BJvCC6h8LobLU9T8XeHNMn0vS5tJurE3IneC5url7doXhu0fMzqyRJJ8m8xoAe414f8VdMj1r9u/4d6PLjbd/A/wCIELZ9G1Twiv8AWqX7D37Tvxh/aQ134pRfFjwFYeG4PDPjCzg8KaVFazRX0Wk3ej2Oo239oCWRgLwrd5kRFRYifKw5jMj1b/4ufCjxz/wU28F%2BAvBPxO8Paxrvhj4PeOIvEui6VrUFxd6S8mreEvLW5hjcvAW2PgOFJ2nHQ0mk1ZlQlKE1KO61%2B7X9Dnf%2BCJupyan/AMExfhg02RJbw6rbSKeqmLVrxAD%2BCivqmvkv/giz/oP7FJ8K9P7C%2BIHiOw2/3duozPj/AMfr60ry8ibeS4a/8kV9yt%2Bh954qxjHxMzlx2eJrSXpOfOvwmgooor1T4EKKKKACiiigAooooAKKKKACiiigAooooAKKKKACiiigAooooAKKKKACiiigAooooAKKKKACiiigAooooAKKKKACvGfHH/KQv4X/APZGfHn/AKdvCFezV4z44/5SF/C//sjPjz/07eEKAPZqKKKACiivMP2tvjJ4y%2BDHwwsL74a2emS%2BJfEnjDRfDWgSa3BJLZWtxqF/DbG6njikjeWOGOSSbylkjMpiEYePfvUA9Por5hv/ANsf4z%2BGf2Q/iJ8SNd8PeHr3xz8N/G83hbW76w026TRgFvraL%2B2WtvOknS1hsruO%2BngEzMghmjExwJa8wj/4Kt67qHhMeCvCvjzwX4h8Tv8AGWfwNZ/EHwp4F1bWNF1GCLw7D4gbULLR7C6mvL0%2BVcJaeTDdMDIks/m%2BUhWgD7trxn9g/wD5Ihrn/ZZviP8A%2BprrddR8P/jj4Duv2ddH%2BPXjb4zeE7jQpdAhv9S8b2//ABKtIkUqN9wFuppDaRls/u5ZWaM/IzFga4n/AIJ0%2BJ/DXjX9m6%2B8YeDfENjq%2Bkap8W/iHd6ZqmmXaXFtdwSeM9aaOWKVCVkRlIYMpIIIINAHulfHnxW/4zA/4Ki%2BE/gtD/pHg79n3To/FvipRzFN4jul26bA/wDtRRZuFPu4NfUvxT%2BIWh/CP4Y%2BI/it4m3f2b4Z0K71XUNn3vJt4XmfHvtQ1%2Ban/BP39jH9r39sT4X6z8Zvjj8c7rwH4C%2BLfiW68T69pPg1jFrficSuVSOe7YZtbJUXbHCmdyO2VG5SPns6r1J4ihg6dNzcnzySsvdg1a7eii58t3rpGyTbPo8g4lwXCuHxuMhF1MdKjKlhoRW0q37urXlN%2B7TjSoupGLd5SqVkoRbi2vafixr%2Bt/8ABVj473v7Mnw21e5t/gJ4C1VF%2BKniiwmKDxbqUTB10W1kX70CEBppFPPGCP3bP9qeH/D%2Bh%2BE9CsvC/hjSLbT9N061jtrCxs4RHFbwooVI0VcBVVQAAOABWF8F/gr8L/2efhrpnwh%2BDfg%2B20Lw9pERjsdPtdxC5JZnZmJaR2YlmdiWYkkk11NejgcHOg5Vqz5qs/ia2SW0Y9ox6d3eT1enw%2BW4CphnPEYhqVap8TWyS2hG%2BqhHp1k7yer0KKKK9A9UKKKKACiiigAooooAKKKKACiiigAooooAKKKKACiiigAooooAKKKKACiiigAooooAKKKKACiiigAooooAK8Z/Zf8A%2BS3/ALR3/ZZrH/1CvC9ezV4z%2By//AMlv/aO/7LNY/wDqFeF6APZqKKKACiiigAooooAKKKKACiiigAooooAKKKKACiiigAooooAKKKKAOd%2BLnws8G/HD4WeIvg38Q7CS60LxTotzpWrQQzNFI1vPE0b7HXDRuAxKupBVgCCCBXAfDf8AYz8H%2BDLPxLa%2BOviP4k%2BIp8cCSPx63j%2Bz0m6TxLbmzisorW6hgsIYRbxQRlViiSNHM8zSiVpGavYaKAPI/wBm/wDYa/Zf/ZJ8beOPHX7PPwi0DwpP4%2Bv7O51e00HQLKxt4BbWkVtHBAltBGUh/dtMUYt%2B%2BnmcEb8Cr44/5SF/C/8A7Iz48/8ATt4Qr2avGfHH/KQv4X/9kZ8ef%2BnbwhQB5j/wSJP2L4e/Gjwr0/sL9pDxbYbf7u2WF8f%2BP19aV8l/8Ex/%2BJV8VP2ofCvTyf2htVv9v/X1BA%2Bfx219aV5OR6ZVTXbmX3TqI/QPFL3uPcZU/n9jP/wPDYSX5thRRRXrH5%2BFFFFABRRRQAUUUUAFFFFABRRRQAUUUUAFFFFABRRRQAUUUUAFFFFABRRRQAUUUUAFFFFABRRRQAUUUUAFFFFABXjPjj/lIX8L/wDsjPjz/wBO3hCvZq8Z8cf8pC/hf/2Rnx5/6dvCFAHs1FFFABXG/Hj4JeGv2gfh1L8O/E2sanpe3UrHU9L1rRJo473S9QsrqK7tLuBpY5I98c8MbbZEeNwCjo6MynsqKAPKfhz%2BywPhT8PdW8DeC/j144gutckvL3UvE0q6TLqE2rXV09xPqpL2Bh88lxGIvK%2BypFFGiQKFrBP7BngiLwvaR6f8YPG9r40tPG83i5vilHJpj65cavNYNpss8iyWLWLK2nsLQQ/ZBEkUUWxFaNHX3SigDlfgj8HvCPwB%2BFWi/CDwK14%2Bm6JbGOK41G4865uZHdpJZ5nwA0skrvI5AALOcBRgDg/2D/8AkiGuf9lm%2BI//AKmut17NXjP7B/8AyRDXP%2ByzfEf/ANTXW6APD/8AgvJ8bb/4d/sRSfCLwrK7eIPijr9p4e063gfEjQlxNOR6qyxrCf8Ar4FfWfwf%2BHWm/CD4S%2BF/hNozZs/C/h2y0m1b1jtoEhU/kgr82/21/FZ/a2/4LmfBr9muwmNxo3wyv7e8voNpaNrxI/7VusnpjyYLOMj%2B9kd8V%2Bo9fO5VV%2Bu5xjMQvhg40o/9upyl/wCTS/A2p5f7HLKeYz%2BLEzqcn/XqhL2Ka8p1/bvz9n5aFFFFfRGIUUUUAFFFFABRRRQAUUUUAFFFFABRRRQAUUUUAFFFFABRRRQAUUUUAFFFFABRRRQAUUUUAFFFFABRRRQAUUUUAFeM/sv/APJb/wBo7/ss1j/6hXhevZq8Z/Zf/wCS3/tHf9lmsf8A1CvC9AHs1FFFABRRRQAUUUUAFFFFABRRRQAUUUUAFFFFABRRRQAUUUUAFFFFAHHftB/GbQv2d/gd4s%2BOfiTTLq%2Bs/CmgXOpSafY7fPvGijLJbxbiF8yRgsa7iBucZIGTXK/Af9oL4k/E288c/Dr4jfCTSfDXj/wNNai70LTfFsmpadeRXdoLi0mivWs4JNjN5sL7rcMj28mBIuxn6r9oT4M6H%2B0T8DfFnwM8SapdWFn4r0C502TULHb59m0sZVLiPcCvmRsVkXcCNyDIIyK4T4O/s5fHT4da54w%2BJHiz48eGtb8Z%2BOFQavq9p8P5rOztxbWSW2nR21qdSlZI4n8%2BeVZJZGme5cK0ChVAAz9j/wDa/uv2nPEHjnwhqPh/wkt54F1C0tL7Wfh546PiTQ7iaaORntUvjZ2hF5AY/wB/bmLMQmgJY%2BZhbPjj/lIX8L/%2ByM%2BPP/Tt4Qq78Av2fviL8Pfil4z%2BOXxj%2BKuj%2BJfFHjPTdI025Xwv4Tk0TTLa0043jQFbaW9vJHuGa%2Bm8yZpjuSOBAqiIZ5G/%2BEfwo8Df8FNvBfj3wT8MfD2j674n%2BD3jiXxLrWlaLBb3erPHq3hLy2uZo0Dzld74LliNxx1NAHJfsIf8Sr9uj9rXwr08nxtoF/t/6%2BtML5/HbX1pXyX%2By7/xJ/8Agq/%2B1LpnQavongm/VfXytOlhJ/M19aV5OTaYOUe1Sqv/ACpL/M/QPEv3uJKVX/n5hcDL78HQT/GLCiiivWPz8KKKKACiiigAooooAKKKKACiiigAooooAKKKKACiiigAooooAKKKKACiiigAooooAKKKKACiiigAooooAKKKKACvGfHH/KQv4X/9kZ8ef%2BnbwhXs1eM%2BOP8AlIX8L/8AsjPjz/07eEKAPZqKKKACvP8A9pf443PwB%2BGsXizRfCK%2BINa1XxDpeg%2BG9Dk1H7HHe6jqF7FaQLLP5chghVpfMlkEcjLFG5VJGCo3oFefftL/AAOuvj98NYvCei%2BL18P61pXiHS9e8N65Jp32yOz1HT72K7gaW38yMzws0XlSxiSNmikcK8bFXUA8%2Buf26LrQv2XvFPxu8W/CmO08T%2BDvGJ8I634St/EQktI9YfUoLCDGoPAmLKQ3VrcG5aBWjglLPEGRo64H4lf8FS734ZeHLOw8S%2BBfhvpPiu2%2BOEnwz8XjxP8AGBtO8NaJejwzceIkuP7XbTGeVXtktoQjWsTC4uTGcGM7vTvh/wDsrfEbwR8I/GPgHVPiZ4P8Q6p46utS1XxFfa98O5J9Pu9VvZmMhksTqOHsFthDbLaGXzNkO57l2YmsP4QfsT/Ej9nH4Vap4U/Z%2B%2BI3w10DX/E/i2bXfFdzJ8IHOhMzWMFhHBp%2BlWuqW/2COO2tLZAGuJ922Rn3NKWAB794S1TUNc8K6ZrWrQ6fHdXmnwz3Mek6iby0WR0DMIZ2jjM8QJO2QxoXXDbFztHkX7EepWmj/s/eJdX1CURwWvxf%2BJU07n%2BFF8aa2zH8ga6T4QfsufDT4Y/ss%2BG/2SfEOl2vi/wxoPhe10S5tvEumwTw6lDDGq/vbcqYtpK5EQXYowqgBRXgPgy/8NfAT/glF8Y5vBWh2Oi6b4a1n4tQaHpmmWqW9taBPFGvx28MUcYCxoDsVVUAAYAHFZV6qoUJ1H9lN/cm/wBDDE1lhsNUrPaMZS%2B5N/ofL/8AwROsNT/aC/bu8YftT%2BKC0183ha/1zVon%2Bb7Fqms6m/lIp7J9gtVCr2DccV%2Bs9fnt/wAG63w6utK/Zh8XfFzV7JYbzxH4og0yNl5ElrpdlDbRtnv%2B8a4H4V%2BhNfP8I0ZUsipzlvUbm/8At5/8C/zPr%2BKaSwM8BlS/5hMHhKL/AOvnsIVqz9XXxVRvz31QUUUV9KfLhRRRQAUUUUAFFFFABRRRQAUUUUAFFFFABRRRQAUUUUAFFFFABRRRQAUUUUAFFFFABRRRQAUUUUAFFFFABRRRQAV4z%2By//wAlv/aO/wCyzWP/AKhXhevZq8Z/Zf8A%2BS3/ALR3/ZZrH/1CvC9AHs1FFFABRRRQAUUUUAFFFFABRRRQAUUUUAFFFFABRRRQAUUUUAFFFFABRXO/Fz4peDfgf8LfEXxj%2BId%2B9roXhbRbnVNWnihaWRbeCJpH2IuWkchSFRQWZiAASRXJfB/9qDTfi5ofi6R/hF4x8N%2BJPBEqx694F8QQWJ1VDJaJd25j%2ByXU9tMJonARknI3q8blHjdVAPT6%2BY/2iPjToPwq/wCCov7OfhPxEwji8dfDn4haJZXDHCx3guvC91ECf9sW0iAd2dRXqfwK/aU0/wCNXiXxJ8P9X%2BFXivwP4p8Jx2M%2BseGfF4sGuEtbxZTa3KSafd3VvJHIbe4QYl3q0DhlX5c/Kf8AwWM%2BD3ir4o/E/wABeLPhs7p4w%2BGvwt8ZeN/B8sYJZb7TdY8IykBRyxaAzoF7sy1yY%2BrWoYOdWkryir27pWbXq4qVvOxwZnWxGGy%2BpWoq8oLmt3UWm16uKlbzseg/DNl0b/gtB8TtLLBTrXwT0XUAufvCG8aDPvjOK%2BtK%2BDv2qPitpR8L/Av/AILL/CW1kNho9ta2XxCtbYb3k8M6kVSeN8cu9pcuSF6B2Ynha%2B69O1Gw1fT4NW0q8iubW6hWa2uIXDJLGwDKykcEEEEEdQa4Mpqw561JP7XtF5wqWlFr58yfmj9O4xlTzfJcmz7DPmo1cNToN/y1cKnCUX/ipzo1Y94S/usmooor2j4AKKKKACiiigAooooAKKKKACiiigAooooAKKKKACiiigAooooAKKKKACiiigAooooAKKKKACiiigAooooAKKKKACvGfHH/ACkL%2BF//AGRnx5/6dvCFezV4z44/5SF/C/8A7Iz48/8ATt4QoA9mooooAKKK8/8A2l/jjc/AH4axeLNF8Ir4g1rVfEOl6D4b0OTUfscd7qOoXsVpAss/lyGCFWl8yWQRyMsUblUkYKjAHoFFfPtz%2B3RdaF%2By94p%2BN3i34Ux2nifwd4xPhHW/CVv4iElpHrD6lBYQY1B4ExZSG6tbg3LQK0cEpZ4gyNHWRq//AAUTXwt8EPiH4p8R/C/T7n4ifD3xnJ4Pn8BeHPFZvbbU9dOm2%2BqQwW9%2B9rE5h%2BxXUc88rWytbpBdFo2%2BzncAfTNfnX%2B2N4ufwn/wRm%2BL8NtMEudZ%2BM3jXS7bJxuM/wARdTVx/wB%2BhJX3f8GPiH/wt34PeE/ix/Y/9n/8JP4asNW%2BwfaPN%2BzfabdJvK37V37d%2B3dtXOM4HSvy1/4KpeLptL/4Jg2vguxuNk%2BtftTfECRxnG6C28UeJpW/8f8AKrxeI631fIcTP%2B5Jffp%2Bpy43BVM0ofUKbtLEShRXrWqUqK%2B72t/kfa//AAR28Hf8IR/wTX%2BFWmNFtku9Fn1KRiOXN1dz3IYnv8so/ACvpivPf2SfB3/CvP2Vvhr4DMWxtG8A6PZSKRzujsokbPvkEmvQq7cto/V8uo0v5YRX3RX/AAT63jHG08x4uzHFU/hnXrNduX2tRRt5csY28rBRRRXafOBRRRQAUUUUAFFFFABRRRQAUUUUAFFFFABRRRQAUUUUAFFFFABRRRQAUUUUAFFFFABRRRQAUUUUAFFFFABRRRQAV4z%2By/8A8lv/AGjv%2ByzWP/qFeF69mrxn9l//AJLf%2B0d/2Wax/wDUK8L0AezUUUUAFFFFABRRRQAUUUUAFFFFABRRRQAUUUUAFFFFABRRRQAUUUUAef8A7VfwVuv2jP2bvG3wO07Xo9KvPE/hy6sdO1OaEyx2l0yEwTOgILosoRmQEFlBGRnNcD8Gfhf%2B1b4T8ZfET45%2BOvCPw9Xxd46t4I7fRNK8ZX02naaun2AisIjcyabHJP51zLdPNJ5MZgjeNUS4Klm9%2BooA8E/YQ%2BDP7Qvwp8PeJNZ/an8PeEJPHninU4tT8TeLfC3jG71X%2B2rryzGUEVxptn9gtLeNIoba2QzBYwxd2lMks1LU/hb4Y8J/8FM/Bvi/Tb/xBcXXiT4O%2BOH1G31fxbqN/ZxlNW8JAC2tLmeSCyU7juW3jjDcbgdq4%2BiK8Z8cf8pC/hf/ANkZ8ef%2BnbwhQB4P%2BxD4D8KeEPEHx6/4JNfE%2B1Wbw9pt7c6p4NsZWx5/hbWFZmiiz1%2Bzyuys46SS8dK7T/glT8RPFWmfDLxJ%2Bxh8WNRM3jL4Fa6fDtzLLw19pBBfTLwA9Ee3%2BRf9mJSeTW9%2B3j%2ByF4t%2BL/8AYv7R/wCzZq0Og/Gn4ebrjwjqzYWLVbfky6Td8gPBMCwG44RnPKh3z4LJ4l8XftQ2Fr/wUh/Yj0aXQ/jl4DjOh/F34SalIyHWYoCfP0q5jOCJl2s1vPgFgoU4dAqfIWq5Vi4RUW/Z83Lb7dFu7iu86Ts%2BXdx%2BHex9D4dY3BSweK4FzSrGjCu1VwdWbtTjWg2oxlL7EZU6ksPUe0Y/V6r9yE3D9BqK82/ZT/am%2BF/7X/wfsvi98L72RYpHa31fSLwbLvSL5MebaXCdUkQn6MCGGQwNek19XRrUsRSjVpyvGSumuqPLzHLsflGPq4HG03TrUpOM4yVnGS0aa/4dNNNNppsooorQ4gooooAKKKKACiiigAooooAKKKKACiiigAooooAKKKKACiiigAooooAKKKKACiiigAooooAKKKKACiiigArxnxx/ykL%2BF/8A2Rnx5/6dvCFdh8fP2i/gr%2BzB8Prn4ofHX4g2Hh7R7fKrNdyZkuJMZEUMS5eaQ4OEQE8E4wCa%2BY/2c/2kvjF%2B1D/wUL8I/EXxT%2Bz5qPgTwI/wZ8YD4ey%2BInCarrMZ1bwsbi6ntwT9niI%2Bz%2BUpyWBdtzArjmljMPHExw/Neb1stbLu7fCuibtd6K5xzx%2BEhjI4XmvUlrZatLvK3wronK13or9PtKiiiuk7Arz79pf4HXXx%2B%2BGsXhPRfF6%2BH9a0rxDpeveG9ck077ZHZ6jp97FdwNLb%2BZGZ4WaLypYxJGzRSOFeNirr6DRQB4b8P/2VviN4I%2BEfjHwDqnxM8H%2BIdU8dXWpar4ivte%2BHck%2Bn3eq3szGQyWJ1HD2C2whtltDL5myHc9y7MTXn%2Bgf8EjPgL/wqXVPCHi68e08R6rq%2Bp6sNa%2BGVxqXgzT9Nu7zTbbTNlpp%2BlX6bLVLOytY/s8s0ofZIzMWmcn6yooA85%2BE37Mvw9%2BHv7L3hz9lPxdYxeM/D2i%2BFrXRb%2BLxWj6jHqiRRqrGZLyScujMuRG7uEG1AdqjH5Cf8FGvDmkXXwz%2BDX7Lnw20ey0bTLf4zfFKO10fSbRIILWCXx3d2NtFDFGAsaKGkVVUAAcADFfuDX4ieLo7j4t/8FW/hV4Btpt9p4f8AjV4iS%2BtgM7mPxG8S6hJn2MUEefpXy/GHv5N7H/n5OnD75q/4I9zhNKXG2UX2jiqVR32th1VxTv5f7Ml80ftxbW8Fpbx2ltEEjiQJGijhVAwAPwp9FFfUHiNtu7CiiigQUUUUAFFFFABRRRQAUUUUAFFFFABRRRQAUUUUAFFFFABRRRQAUUUUAFFFFABRRRQAUUUUAFFFFABRRRQAUUUUAFeM/sv/APJb/wBo7/ss1j/6hXhevZq8Z/Zf/wCS3/tHf9lmsf8A1CvC9AHs1FFFABRRRQAUUUUAFFFFABRRRQAUUUUAFFFFABRRRQAUUUUAFFFFAHO/Fz4peDfgf8LfEXxj%2BId%2B9roXhbRbnVNWnihaWRbeCJpH2IuWkchSFRQWZiAASRXL/BH9pbS/jTYeJ7aX4WeLPCniPwddxwa/4M8TxWX9pQGW1jurd1NndXFvKksUg2MkzAOro2x43VbX7VfwVuv2jP2bvG3wO07Xo9KvPE/hy6sdO1OaEyx2l0yEwTOgILosoRmQEFlBGRnNcZ%2Bzz8LP2j/C/wAUPG3xv%2BMnhrwRb6148eziutK8NeLLy7ttKtdPs1itI0mm0%2BFrp5p5buSRzHCIUaJFWYqzkA7D9mb9ovSP2m/AF7460z4d%2BJfCkumeJNR0PU9B8Wx2i3trd2c7QShvsdxcQlSy5BWQnB5AOQOc8cf8pC/hf/2Rnx5/6dvCFZ37C3ww/aX%2BFOj%2BO9N/aL8F%2BBdJbX/iBqniTR28FeN7zWAV1C6lnkgm%2B1aXY%2BWYsxqrL5nmbmJEe0Bs%2B/8Ahj4b8Hf8FNvBfjPSdS8QzXniH4PeOJL%2BHVfF2o31pEU1bwlgW1rczyQWQO45W3SMNgbgdq4APoevnX9oj/gm/wDDX4xfEu4/aB%2BFvxK8WfCz4lXEEcdx4w8DaoYft4jGIxeWx/dXSgYBB2swABYgAV9FUVz4nCYfGU%2BStHmW/o%2B6aaafmmmcuMwOEx9L2eIgpK91vdPummmn5ppn5jar%2Bxl/wWF/Zm/aJvP2kPgHq3gLxvqOolP%2BErXSp10ePxiiZ/eX%2BnylLeO65OJreRDySSWdy3ovwo/4LjSeK/Ees%2BB/iN%2BwN8WdM13w1J5fibSvC1imtT6UcgF54cQTRx5I/eGPacjGc196V86ftrfsU6z8YdZ0v9pH9m7xNF4P%2BNXg6Inw54jVcQarAMltNv1H%2Btt5OVBIJQtkZBYH56rlGOyyDqZbWla95Qlyzv35ea1pdbN2k92pPmf1GW0v9ZsRTwWdZvWpONNUqFapGlWjT5dKcMQ5U1WnRStBT9pOpQjZr2lOLgtH9n3/AIKX/sc/tJeLD8OfBHxROm%2BKRgf8Ir4r06bSr92P8McdwqiZuvyxlyMZIxXvVfHXgLxb%2ByL/AMFUfB118Ef2uPgxpujfFjwmz2niXwXq0n2fWNHuUALXFhOpEzWzEh1eNipBXfuBBZ1r%2BzR/wUt/ZTj%2By/ss/tO6N8UvCdqf9D8F/GWCT%2B0LeEf8sodUt8NK2MBfNCooAGPXrw2ZYz2Sqyj7am/tU1aS7qVOTumtnyu6e8UfNZ3lvFvB2Zzy/OsK5Sh9qmtWnrGSg5NThJWlCpRqThOLTXl9h1HdXVrY2sl9fXMcMMMZeaaVwqooGSxJ4AA5JNfJMX7ZH/BTLxCv/CL%2BG/8AglbNYa5B%2B71DUde%2BKFgmlwv/AH4nRN1yh4OEwRnHOKo3X7FH7Yf7Z2qpN/wUW%2BMOj6V4IgZWi%2BEnwnu7qCz1IjnOo3kmJpRnGYkO3IDKyEHO7zV1Vy4WjOcvOLhFesppWt1spPotTyXnbrrlwdCpOT/mhKnFf4pTSsl15YyfRanoUn/BWD/gnNF4ku/Ckv7XHhNbuyuGhndp5BAXBwdk%2BzypB/tKxX3r1r4T/Hj4J/HjSZtd%2BCvxa8OeLLS2cJcz%2BHtZhuxAxGQr%2BWx2HHZsGqej/szfs6aB4Osvh9pPwJ8IxaJp0AhstLPh22aGJPQKyHkkkknkkkkkkmvH/jJ/wSr/AGaPHOvR/En4JwX/AMHfHVomLHxd8L5Rpj%2Bu2a3jAhnQkDcCoZhxuxRzZ5SXM1Tn3S5ov5OXNF/O1/IObiSiueUaVTvGPPB/Jycou395K/kfTFFfIlr%2By1/wVi123Xw/4q/4KaaFpVjbDyl1Hw/8J7OS%2Bv4xwHlMzBYZCOvl5APTNSD9hz/goF4S/wBL%2BGf/AAVi8TNMfmlt/F3w907U4pm7gFmVolJ/u5xT/tHFvVYSpb1pp/dz6/eiv7Vx71WBq283ST%2BS9pr968j63qO8vLTTrSXUNQuo4III2knnmcKkaKMlmJ4AABJJ6V8m/wBk/wDBbL4f/wDHj4s%2BAPxBtU%2B9/aVjqelXsn%2B75WYVP1rKb9jP9rr9t/Vxqn/BRX4h2fh3wPbzg2vwZ%2BG%2Bpypa6htP39SvgRJOpIyIkOB8pBRgQVLM68vcpYapzvpJKMfVyvJW9E2%2BiJlnGJn7lHCVfaPZTioRXm580lZeScnsl2%2BsPh/8Svh18WPDaeMfhb480bxJpEsrxR6poWpxXduzocMokiZlJB4IzxW3XyD8Rv8AgnD4p%2BAniiX47/8ABMPxZZ/D3xGIk/tn4e329/DHidIxgJLAD/o02BgTR45z9ws0lS2n7Wv/AAVY1S1jgtf%2BCTtnZzrGBPd6h8btLERkx8xWNIy4XOccnjvRHM6tD3MXSkpd4RlOMvNNK681JJru1qKOcV8M/Z46hKM%2B9OM6kJecXFNrzjNJrvJan1zRXyV/ws//AILQ%2BI/%2BQN%2By/wDBTw3u6f8ACQ%2BNby82/X7Koz%2BFH2z/AILoDro/7Kx%2Bk/iOq/taD2oVX/3Df6yX5F/25B/Dhq7/AO4T/WSf4H1rRXyT/wAID/wWs8Xf8h/4/fAfwgG6/wDCL%2BFtR1Ap9PthAJpf%2BGQv%2BComs8%2BIP%2BCtK2aH71vo3wS0lMfSRpN1H9pV5fBhaj9VCP8A6VMP7XxMv4eCrP1VOP8A6VUufWtFfI3/AAr7/gsx8Hz/AMUp8fvhJ8XrGL70fjPwzPoV/IvohsSYQ3u5xT2uP%2BC33i0FYNO/Zw8JQP1M82s391H9Nv7o/jR/aslpLD1U%2B3In%2BKny/iH9tSWksJWUu3In/wCTKpy/j8j62or5DX/gm78f/jMwvf2zP%2BChnxC8Rxudz%2BGvh%2BIvDWlj/pm6wBnuFHZmKscAmnv/AMExvi74HUxfs%2B/8FMfjZ4cgYbVsfE2pweILeFTwViS4VDGMdOSQeaX13Mn7ywj5f8cFL/wHb/ya4v7RzZ%2B8sDLl/wCvlNS/8B2/8nufSPxT%2BNvwc%2BB2jR%2BIvjL8VPD3hWxmkEcN14h1iGzSV%2BPlUysu489Bmtfwr4v8J%2BO9Dg8T%2BCPFGnazptyu621HSr2O4glHqskZKsPoa%2BdvhT/wSb/ZN8Ga3J4%2B%2BL%2Bj6n8XvGFzGVvfFPxWvjrEsmc5VIJR5EajJ2jYWUcbjWb4n/4JA/s02PiCbxt%2BzZ4t8cfBbXJ23T3nwy8US2cFwfSS2k3xFMfwIEFHt86XvujC38vO%2BZfNx5G/JW9WCxPEK/ePD03H%2BVVHzr/t5x9m35K3%2BJn1ZXzJ%2B0P/AMFHI/BHxbP7Ov7K3wP1P40fEDT1Nz4p0Pw7qcdtbaDaLkv9pu3Vo0nOMJB94twSrFVbm9X/AGA/29JNMn8L%2BH/%2BCuPjGLR72MwX8WoeAdPuL4wNw/lXgdJIZNucSLyDyK95/Zh/ZV%2BCv7Ifw1i%2BGHwU8LiytS/nalqFw/m3uqXJHzXN1MRmWRvU4CjhQqgATKpmuMfs4QdBdZNwk/SCTa9ZS2W0W3dRKtnWYSVKFN4eP2pycJy9IJOUfWU9EtFFt3Xk3w4/4K5fsg%2BIb258J/GjXdU%2BEPivT4DJqPhX4paa%2BlXEYHUpI%2BYpQSDt2vuYYO3ms7Vf%2BCyv7I2p6lLoXwI0L4h/FvUIW2S2fw08B3d8Vb03yiJCPdWIr6P%2BIHwj%2BFHxZt7W0%2BKnwx8PeJorKbzrOLxBosF6sEn99BMjBG9xg1saRo2keH9Oi0fQdKtrK0gXbBa2kCxxxj0VVAAH0qlQzr4XXhb%2Bb2b5n8nLkT9PuRaw3EL9x4mnb%2Bb2T536pz9mn5q6fZHykP27P29fGJ%2B1fCL/AIJLeL7iz6mXxr8QNN0GYr/1xmDnP48UN%2B25/wAFGNFX7Z4x/wCCQuuw2kfNw%2BifF3SdRmC/7EUaAufYGvrain/Z%2BN3%2Btzv/AIadvu5P1H/ZeY7vHVL/AOGjb7uR/n8z5HP/AAWD%2BFWh/wDEp%2BJf7Kvx48La6flt9A1P4aTNPeP/AHYGjdkk9iSoIqvf/to/t/8Ax6hGgfsqf8E%2Btc8JLetsj8Z/Gy8j0yDT0P8Ay1fT42aeU%2BgUnBxkEZr7AopPA5jU92pinb%2B7CEW/%2B3vet8kvvE8uzaquWrjXy/3KcISfrK87esYr7z4803/gkZ4Z%2BLMzePf26v2gfGvxS8ayrmC%2Bttam0fT9FJ5KWFrasoiHYkkhsA7VOauf8OhPh7bf8S/Q/wBs/wDaO0zR2/1vh%2Bx%2BLEq2jjsCGhLY/wCBV9b0ULIspS1pJvq25cz9Zcyb%2BbfpbQFw1kaWtFN9W3Pmf%2BKXOpS%2BbfpbQ%2BcPhB/wSe/Yh%2BDvjuz%2BKdn8MrzxH4n0999nrnjPX7rVZYn6iRUnkMQcEAhwm5SMgg11Pjj/AJSF/C//ALIz48/9O3hCvZq8Z8cf8pC/hf8A9kZ8ef8Ap28IV3YbCYXBwcaEFFPsrX9e/wA2z0cJgMFgKbhhqcYJ6vlSV33fVvzbZ7NRRRXQdYVx3x4%2BNnhr9n74dS/ETxNpGp6pu1Kx0zTNF0SGOS91TUL26itLS0gWWSOPzJJ5o13SOkaAl3dEVmHY15f%2B1v8ABvxn8Z/hhYWPw1vNMi8TeGvGGi%2BJdAj1ueSKyurjT7%2BG5NrPJFHI8STRpJD5qxyGIyCQJJs2MAZsP7bHwyX9nfVf2hdW8J%2BJdPXRNfbw/qvg%2B6s7dtYg1v8AtBNOj0zZFO8DTS3UsMcbrMYHE8cgl8tt9N0n9r6%2B8T%2BB9V8ReDP2YPiJrGv%2BG/E76D4v8CWt1oEWq6DdCzivQbh7jVY7N0a2ubSVTBcykrdxHH39nI%2BDv2YPiuvwJ%2BIvgf4ufDPwF4n1P4ja5qHibVdFHjO/t9PTUZ7hPIsUuk0/z4o4Le3tCuoJGJvtCNItvFhccf4D/YU%2BIPw5%2BBHjjwPqv7PHwp%2BJE/xX8fSeIvG/gf4jfEHVNQ0m1VNPsbK2Qajf6Ze3OqyqumwSvLcwRM0srspQIi0AfTnwX%2BLfgz4%2BfCHwv8cPhzdTT6B4v0C01nRZrm3MUj2tzCs0RdDyrbXGR2Nfjf8AsJaXN4n/AOC7HivxFq97nTPD/wAYviPM0TLkJ5F9qSIeOSfOvsgDqTjvX60fBP4A6v4N/ZM8K/s4fFXx5qetXuk%2BEbPSNY1/RdZvdNuLh4okRnhuYJkuosFcK4l80qBuYksT%2BYP/AAR9%2BFEegf8ABUL48XVtdXtzpvh/xr4visH1PUZ724V5PHjWytLcXDvNPIYrJt0kjs7klmZiST85xBSdergof9Pov7lJ/ofT8HUG86qYzph8LjanzlhnQj874l280frv/wAJhpP/AD6ap/4I7v8A%2BNUv/CYaT/z6ar/4I7v/AONV87ePv%2BCyP/BN74X%2BO9a%2BGnjn9o37Drfh3VrnTNYsv%2BEQ1iX7PdW8rRSx747Rkfa6MNykqcZBI5rJ/wCH5f8AwS0/6Oh/8snW/wD5CrvlnmSwk4yxNNNf34/5nq0fC3xMxFGNWlkmLlGSTTWHqtNNJppqFmmmmn1TT6n0/wD8JhpP/Ppqv/gju/8A41R/wmGk/wDPpqv/AII7v/41Xzt4B/4LI/8ABN74oeO9F%2BGngb9o37drfiLVrbTNHsv%2BEQ1iL7RdXEqxRR75LRUTc7qNzEKM5JA5rvv2/vjB8TP2ff2Jvin8cfg3aabN4n8JeB9Q1XR11eZkt1lghaTe%2B2OTdtUMwTbh2UIWQMXXrwuNweNi5YepGaW/K07etj5/POGeJOGK0KWcYKrhpTTcVVpzpuSTs2lNJtJ6Nrroel/8JhpP/Ppqv/gju/8A41R/wmGk/wDPpqv/AII7v/41Xz3qf7bnxt8K/EPxz4L%2BIXwK8CaFp/wy%2BHlp4m8c%2BJ7v4qXRsbd7uLVGt7a2xo4lnUPp8YlldIiiXBaOOZ0EUnM/Db/gpVq/xV1TwzoerfCfV/C%2BtxfGiXwd4h0hZby2hkQ%2BD9Q1%2BGfbrGj2l68LpDEm37PaSCVAyyyQqVuOk8M%2Bqv8AhMNJ/wCfTVf/AAR3f/xqj/hMNJ/59NV/8Ed3/wDGq%2Bef2Sv2%2BfiT%2B0Pp%2BiXHjn9mD/hH7vxZ8JtF%2BIPhPS/D3jWHVZ7rTr5gjwTm4gsore4hLxMVDyI6PkOGUx11P7Vfiz4q6l8Wvhf%2Bzx8LfivqHgRvG11rF1q3ivRtNsbq9it7CyEi20C39vcW6tJNNCzM8TnyoJVXazCRAD13/hMNJ/59NV/8Ed3/APGqP%2BEw0n/n01X/AMEd3/8AGq%2BcoP2hP2kfif8A8EyPCHx/%2BH1pc/8ACc67pHh2bxDd%2BFdDW9uLe0lv7SLWNQ06ykWQTypZm8ubeArLuZY12TnEb%2BS%2BGv2q/wBqf4i%2BHH8P2Hjb4u2Phjwt8Udd8N678RdD%2BElvd%2BLLyOPTLG%2B0k3OknTJEto5WvpYpZBYxFTawiQWxlkKgH3P/AMJhpP8Az6ar/wCCO7/%2BNUf8JhpP/Ppqv/gju/8A41XwF4I/4KS/GP4sxeBfHvj688f%2BCvC%2BlfA7wN47%2BIWpfD7w7olzaRT63NeLM%2BoPqYmlGmoLD5V05XuNss7s6rEjH3Dxf8ZfHHwW/a9urHUP2ltY8TeDtH8J634q%2BLOiaroWmrp3gTRkjMmnvDPZ2kd0J3aOVVhnmuGmhhuZQqeWuQD6M/4TDSf%2BfTVP/BHd/wDxqr9hf2mp2iX1jOJIpBlWAI74IweQQcgg8givkH/gmN%2B3VqP7YPxW%2BLlprP7QPg7xNDazaNq3hjwp4X1jTbw%2BGdOu7Qt9jkls2Zp5UIjE8jvIouWmWNljCKPq/wAH/wDIJm/7Cl9/6Vy0AatFFFABRRRQAUUUUAFFFFABRRRQAUUUUAFFFFABRRRQAUUUUAFFFFABRRRQAV4z%2By//AMlv/aO/7LNY/wDqFeF69mrxn9l//kt/7R3/AGWax/8AUK8L0AezUUUUAFFFFABRRRQAUUUUAFFFFABRRRQAUUUUAFFFFABRRRQAUUUUAFFZvjPxj4V%2BHfg/VviB451%2B10rRNC02fUNY1S9lCQ2drDG0ks0jHhURFZiewBrlfhJ%2B0x8GPjb4R1jxt4G8T3UVl4duWt/EMXiPQr3RbrS3FvHc/wCk2uowwTwAwSxTKzoqtHIrqSpBoA7yvGfHH/KQv4X/APZGfHn/AKdvCFdN8BP2ovgl%2B01YX%2BofB3xPe3o0wW73lvqvh2/0q4WG4j8y3uFgvoIZJLeZAzRXCqYpQjbHba2OZ8cf8pC/hf8A9kZ8ef8Ap28IUAezUUUUAFFFFAHjP7VH7Bv7Pf7W6W2tePNBudJ8V6ZhtB8eeGLo2Os6XIvKNHcIMsFOSEcMoJJAB5rx%2Bz8bf8FQ/wBjCL%2ByPiF8ObX9ozwRZnFv4m8LSrY%2BKYLcdPtFm%2BY7xwBgCIl2%2B8z5Jx9jUV5tfLKNSq61GTp1HvKNtf8AFFpxl81ftI%2B1yrjnMcHl8cszGjDG4OPw0q6k/Z339jVjKNahfqqc3Tb1dJvV/OPwl/4KwfsL/FW9/wCEdvvjNB4L8QxyeVe%2BGPiJbtot7aS/88n%2B0YjL%2ByO3pX0NpOr6Tr2nRaxoWqW97aXCboLq0nWSORfVWUkEe4rmfip8APgZ8c9P/sv4y/B/w14phCbUXXtEgujGP9hpFJQ%2B6kEV4BqX/BFX/gnvJfy6p4U%2BF%2Bt%2BGLiZy7v4a8a6naqG9VTzyi/QAD2rO%2BeUdGqdRd7ypv5q04/c0drp%2BFuZe/Gpi8FL%2BVwpYuHymp4arb/HGTt1buz6tor5LH/BIT4XWHHhP9rr9ojQVH3F0f4sTIE%2Bm%2BJqQ/8ABOX9pbwOfP8AgZ/wVT%2BMdhKOU/4T5bTxOmfdZ0jBHtR9czSPxYW/%2BGpB/g1H8yf9W%2BBK%2BlDP1F9Pa4PEwXzlCdZL/wABZ9a0V8jNJ/wWX%2BBrGVofhT8c9Lj5MUZk8NazLjsCc2ig%2B%2BeakT/go/8AtFaQgi8bf8ErvjTb3CcXCaHFaalGrDqEdHXzB6MAM0f2zhoaVoTpv%2B9CX5xU0/vG/DfOsSubLMThcXDvSxVFP50688NUj84P1PrWivkv/h7HY6bx4v8A%2BCfH7TmkAfemn%2BFJkhH/AANJzn8qfbf8FqP2FdOuFsvibr/jDwLO7bVh8YeAdStzn0JjhkA/E4p/27lH2qyX%2BK8f/SoxJfhX4itXpZZUqf8AXv2dZ/dRrVn%2BB9Y0V4V4X/4Kcf8ABPjxeFOk/theAYt/3RqfiCKyP4i4KY/Gu50j9qb9mPxAAdB/aN8B3u77v2TxfZSZ/wC%2BZTXVTx%2BBqr3KsH6Si/8A24%2BfxnCfFWXytisvr0/8VCtH86VvxO8orFsPiP8ADzVcf2X480W5z0%2Bz6pC%2BfyarzeIvD6ff12zH1uk/xrpU4NXTX3r/ADPHnhcTTlaVOSfnGS/NIuUU2GaG4iWe3mWRGGVdGBBHsRTqowaadmFFFFABRRRQAUUUUAFFFFABRXL%2BPfjh8FvhVPDbfFD4v%2BF/DclwwW3j1/xBbWbSk9Aomdd2fatfw14w8JeNLEap4O8U6dq1selzpl9HPGf%2BBISKzVWk5uCkrrpdX%2B69/wADqngcdTw0cROjNU5bScJKL9JOKi/lJmjRWTqnj3wLod4una1400mzuHbakF1qMUbsfQKzAk1qRSxTxrNBIrowyrqcgj1Bq1KLdkzGdGtTipTi0ns2mk/RtJP5XHUVn6l4t8K6Nex6drHibT7S4mOIoLm9jjdz7KxBP4VfVldQ6MCCMgg9aE03ZMUqdSEVKUWk9rpq/ppr8ri0UUUyArxnxx/ykL%2BF/wD2Rnx5/wCnbwhXreua9ofhnTJdb8Sa1aafZQLunu765WKKMerOxAA%2Bpr5w0P8AaN%2BAvxz/AOCkXgnQvgx8XvD3iu58O/Bnxr/bY8P6pHdpaGbVvCnlB3iJTLeTLwCSNhzis5VaUZqEpJSeyurv0V7v7jrpZfj6%2BFqYmnRnKlTtzTUZOMbtJc0lFxjdtJXkrtpK59NUUUVocgUUVzvxX%2BK/gH4I%2BAr34mfE3XG0/R7B4I5porOa5lklmmSCCCKCBHlnmlmljijijRpJJJERFZmAIB0VFed2X7VvwEvvgXdftIp46aHwhYyTw317eaRd29zbXMNybSS0kspYlukuhcqYPsrRCYy4jCFyFOVL%2B23%2Bz%2BngGL4jWt34wvbKTV5tLm07TPhhr93qtldxIJJIrrTYbFr20KxlHJnhQbJI2ziRCwB6zX5rf8Eh/DIk/aq/bB8bGACKH9oG60uyIH3f%2BKq1a4nGfd5lNfop4F8ceEfib4K0j4j/AA/8Q2ur6Fr%2BmQajo2q2MoeG8tZo1kimRh1VkZWB9DXxl/wSa8JNpPhb9o7xdcx4l1v9s/xn5b4%2B9BB4i8pfyfza87GUva4vDf3ZSf3U5L9T6/hzGQweRZzf4qlCnTXf3sVRlK3/AG7Ts/I%2B4qK%2BYvH/APwU1/4QLx3rfgX/AId8/tPa1/Yur3Nh/bGgfCf7TYX/AJMrR%2BfbS/aR5sL7d6PgblZTgZrI/wCHsP8A1jU/a0/8M3/91VEs6yyMnF1NV/dn/wDKz83lxDk0JOMquq0%2BGp00/wCfR9aVi/Ef4eeDPi58Ptc%2BFXxG0GLVfD/iXSLnS9c0ydmVLq0uImimiJQhgGRmGVIIzkEHmvnzwD/wU1/4T3x3ovgX/h3z%2B09ov9tavbWH9sa/8J/s1hYedKsfn3Mv2k%2BVCm7e74O1VY4OK9m/aT8YfE74efALxf8AEH4M%2BHLTWfE%2Bg6Bc6lo%2Bi3sLumpSQIZTagI6EPKqNGjbsK7qxDAFT14bGYbGRcqMrpb6SX/pUY/qduDx%2BDzCLlh5cyWj0kvP7UY/hcxoP2Nf2eF8K%2BKfB2p%2BENS1ez8a%2BG7fQfFUviLxXqep3WpWEH2nyY5Lm7uZJ96fa58ShxKNy/P8ibc7wP8AsFfstfD3Ul1zw/4C1KbUh4uHiiXVta8Y6tqV5cauNIm0YXc1xeXUss7DT55bfEjMu0qcbkRl8N8R/wDBR/4m/Ejwtc%2BMf2XG0PVbDxH47m0j4USxeEl1RvEGnWGkLdareyNc63pVtDHFd%2BfAHa4XaLNwElaQeXxPg39ur4jfFzxHonx4svtNrp3jz4Zfs76rH4UbX737DpU/iLxdrttfyQfZp4tzmLyUZjlJ1tYVmSWJfKPSdh9h%2BGP2TvgR4JsdEsPB3hO90pfDnga08HaJNp3iPUIZrTRbV43gtVlScOdpijzIWMjAEM7BmB0fjf8As9fCn9onRNP0P4paPqMw0jUTfaRf6J4ivtIvrG4MMsDPDeWE0NxFuhmmicJIA6SMrAqSK%2BTfgn%2B1T%2B1B8bv2pPhB4w1PxV4R/sTx38LfH%2Bt%2BHPh7pV1e6e1rJZ3%2BjQW0GrSma4S6lj80o1wltEbaR7hFikzk%2B3ftv6t4kn0z4UfDeXxVqvh3SPHfxXsND8Z6l4b1240%2B6hszp9/dJBDe27RT2/n3trZ2vmRtHIy3BVSpcUAehSfs7/CxPAY%2BGGjWOsaLoEXhyw0Ky0zwz4r1HSo9PsbMk26Wn2O4iNm6g7TLAUldERGdljRVwL/9ir9n2%2B%2BFVn8FotJ8TWPh%2B0v7m9li0f4h63Y3WoT3LO1y99d294lzqBmaR2k%2B1SSiRmy%2B4gEeWfCLUf2hfin/AME2/G%2Bh/Cf4k3c/jSz1Lx34c8A%2BLNY1UtcXFvp%2Bvapp%2BmXEl5KHLSm1toB9rcOXbE7b9xz5r8O/H9rpfwu/aPi%2BP%2BjfFzw98Pfg/d2euaXpuo/GrU5/EdpOuhrdXenSarpmqSzS7mMcyWpvJx/p0XC5jiiAPqDx7%2BxT%2BzL8StS0bUfFHw1KpoWmWemWmnaVrV7p9jcWFpL51rZXdpazR299bQyFmjguY5Y4y77VG98nw3/Y1%2BBHwj%2BLmv8Axv8Ah/a%2BLLHXvFOuXOseIUk%2BJOuz6ffX08axSTyafNetZkiNI0QeTiJYo1jCBEA%2BMPiGf2nPgX4F%2BFfwJ%2BK1/wCM/FNt4Q/Z71vx78R5z8eNX8O3uoanbXFm98q6vC8l7dm0F1JHb20syW5WdDPMvlQmuy%2BIfjz9pPwp%2B1X4R%2BK%2Bm2Hji%2B0z4g/F/wAOWvgq9/4T0RaHH4Uu9HgF5pc%2BhfagzajE6X9%2B0xtXZY0En2tVj%2BzAA%2B0vD3wx8D%2BFPG/iL4j6Bofka14ra0Ov3n2mV/tRtovJg%2BRmKJtQ4%2BQLnqcnmrXg/wD5BM3/AGFb7/0rlrUrL8H/APIJm/7Ct9/6Vy0AalFFFABRRRQAUUUUAFFFFABRRRQAUUUUAFFFFABRRRQAUUUUAFFFFABRRRQAV4z%2By/8A8lv/AGjv%2ByzWP/qFeF69mrxn9l//AJLf%2B0d/2Wax/wDUK8L0AezUUUUAFFFFABRRRQAUUUUAFFFFABRRRQAUUUUAFFFFABRRRQAUUUUAeYftqfCHxV8fP2TPiH8HfAr2o1vxB4UvLXR476UpbzXRjJiilYAlYncKjtg4VmODjB8XX4I/Hb9oDw/%2B0M3jL4Na38PJvjn4Nk8NaLa6vq2l3MuirBoslot5emxvJkDTXF5MsawNMRFaI0hiLhB9b0UAfO/7I/gv426v8cvF37Q3xi%2BCd18PDqfw48JeELPw3f6vYXk002lTazc3N2r2M80YtmfVlihDMsuIJGeOPeq0t/4L8SeHv%2BCm3gvxFq3xc8Q67Z6t8HvHD2Gg6rbaclpooXVvCWUtmtrSKdw%2B4Z%2B0Szn5BtK/Nn6Hr5w/aP1f416P%2B3h8J5/gd8P/AAt4i1JvhH47W7tPFfjC50WCOD%2B1PCRLpLb6fes77to2GNRgk78gKQD6Porxn/hOP%2BChf/Rr/wAGf/D8at/8y9H/AAnH/BQv/o1/4M/%2BH41b/wCZegD2aivGf%2BE4/wCChf8A0a/8Gf8Aw/Grf/MvR/wnH/BQv/o1/wCDP/h%2BNW/%2BZegD2aivnHSf2jv27dY%2BM%2Bv/AAOt/wBlD4SLqnh3wvpGu3ly/wAddU8iSDUbnUreFEI8Mbi6tpc5YFQAHjwWJYL1H/Ccf8FC/wDo1/4M/wDh%2BNW/%2BZegD2aivGf%2BE4/4KF/9Gv8AwZ/8Pxq3/wAy9H/Ccf8ABQv/AKNf%2BDP/AIfjVv8A5l6APZqK8Z/4Tj/goX/0a/8ABn/w/Grf/MvXL%2BAf2jv27fiJ4r8b%2BENH/ZQ%2BEkNx4D8URaFqslz8ddUCTzyaVp%2Bph4tvhgkp5OowqSwU70cYwAzAH0dRXjP/AAnH/BQv/o1/4M/%2BH41b/wCZej/hOP8AgoX/ANGv/Bn/AMPxq3/zL0AezVHc2tte272l5bxzRSDDxyoGVh6EHg147/wnH/BQv/o1/wCDP/h%2BNW/%2BZej/AITj/goX/wBGv/Bn/wAPxq3/AMy9A02ndHT%2BKP2T/wBlrxuWPjP9mvwDqxf751LwdZTk/i8RrhtX/wCCX/8AwT01sk3n7HvgRN3X7JoaW/8A6K24rJ%2BEX7R37dvxl8KXfi/w5%2Byh8JLa3s/FGt6FJHe/HXVFcz6Xqt1pk7jb4YYbGmtJGQ5yUZSQpyo6j/hOP%2BChf/Rr/wAGf/D8at/8y9clTAYCq7zowfrGL/8AbT6DCcXcWZfG2FzHEU12jXrRX3Krb8Di7/8A4I3/APBM/Us/aP2UNGXP/Pvqd9F/6BOKpL/wRQ/4Jgr0/ZXs/wAfEuqn/wBuq9B/4Tj/AIKF/wDRr/wZ/wDD8at/8y9H/Ccf8FC/%2BjX/AIM/%2BH41b/5l653kmTN64an/AOAR/wAj2IeJ/iVTjaOdYtL/ALCa3/yw8zm/4Ilf8E77WVrnwf8ACzXfDczHJm0Hx3qsRB9QGuGA/Kk/4c0fssD7vxC%2BLI%2BnxMvv/iq9N/4Tj/goX/0a/wDBn/w/Grf/ADL1y/wR/aO/bt%2BPHwY8IfHHwr%2Byh8JLXS/GfhfT9d0221D466os8MF3bR3EaSBPDDKHCyAMFZhkHBI5qP7Cybph4L0VvyaNv%2BIreJdvezfES/xVOd/fOM3%2BJzX/AA51/Z/h/wCQX8efjdY%2Bn2T4pXQx%2BYNJ/wAOhfhgn/Ht%2B17%2B0TD6eV8WJhj84q9O/wCE4/4KF/8ARr/wZ/8AD8at/wDMvR/wnH/BQv8A6Nf%2BDP8A4fjVv/mXo/sLKP8Anyv/ACb/AOTH/wARV8ReuZVH6qi/zw7PMj/wSS8LJ/x5/t5ftO23p5HxecY/OA0f8Ol9G7/8FB/2pj9fjA3/AMj16b/wnH/BQv8A6Nf%2BDP8A4fjVv/mXrl/jd%2B0d%2B3b8B/gx4v8Ajj4q/ZQ%2BEl1pfgzwvqGu6lbaf8ddUaeaC0tpLiRIw/hhVLlYyFDMoyRkgc0f2HlP/Pr/AMmn/wDLA/4in4gf9B7/APBWG/8AmQ5r/h0f4Of/AI%2Bv25v2mZ/%2Bu3xdkP8AKAUf8Oivh/1H7aP7SIPY/wDC25cj/wAg16b/AMJx/wAFC/8Ao1/4M/8Ah%2BNW/wDmXo/4Tj/goX/0a/8ABn/w/Grf/MvR/YeU/wDPpffP/wCTD/iKniF/0MJf%2BC8P/wDMp5l/w6hNp/yBf%2BCj37U1ov8Azy/4WzvQD2DW3FI//BJTQtQUw%2BKP%2BCgH7UGsW78T2eofFxjDKvdGVbcHae4zXp3/AAnH/BQv/o1/4M/%2BH41b/wCZej/hOP8AgoX/ANGv/Bn/AMPxq3/zL0f2HlX/AD6/8mn/APLA/wCIp8frVY6z7qlhU/vWDT/G/mct4A/4JH/8E8Ph9DMYf2Z9F1y6uVP2vUfFss2rTzserlrt3CsfVAvtWV4l/wCCL3/BNfxLf/2mf2bodNmbIkOh%2BItRskdT1QpDcKmD7AVrfF39o79u34NeFLTxf4j/AGUPhJc2954o0TQo47L466ozifVNVtdMgc7vDCjYs13GznOQisQGOFPUf8Jx/wAFC/8Ao1/4M/8Ah%2BNW/wDmXq3kuTuCg8PCy/uR/wAr/ic0PEvxGhiZYiOcYpTlu/rFXX5c/LbyUUl0Witw%2Bl/8EZf%2BCZekWTWFr%2BynpTo67Wa61nUJ3/B5LhmB9waypf8AgiZ/wT%2BtpGXwr4D8TaBayHNxp%2Bi%2BPdUjgmB6hladjj2BFem/8Jx/wUL/AOjX/gz/AOH41b/5l6P%2BE4/4KF/9Gv8AwZ/8Pxq3/wAy9J5HkzVvq0P/AAFL8kjWHil4lwk5LOsU773r1JJ/KUpL0dtOljgdM/4Is/8ABMvTLKSz/wCGX7S5Mw/ez33iLU55WPc73uSVP%2B7is8/8ET/2DLFjF4Q8MeL/AA9asfnsNF%2BIOpxwv7EPOx/WvTv%2BE4/4KF/9Gv8AwZ/8Pxq3/wAy9cv4%2B/aO/bt%2BHfivwR4Q1j9lD4STXHjzxRLoWlSW3x11QpBPHpWoamXl3eGAQnk6dMoKhjvdBjBLKnkeStf7tD/wFL8rP8Rx8VPEyMm/7axTvvevUkvuk5R/8lVuhzP/AA5F/wCCdVx82tfCnXdSk/5633j3V2b/AMduRS/8OPP%2BCZ45X4B34P8AeHjnWc/%2Bldem/wDCcf8ABQv/AKNf%2BDP/AIfjVv8A5l6P%2BE4/4KF/9Gv/AAZ/8Pxq3/zL0v7ByT/oGp/%2BAov/AIiv4n9M7xS9K9Rfgml%2BB51pH/BFH/gm1pWpw6nL8AZ7/wAht0Vrqvi3VLmAN6mOS5Kt9GBHPSt3RPgj8G/gd%2B3n8MvD/wAGvhV4d8K2UvwZ8defb%2BH9HhtFmK6t4R2l/KUbyNzctk8n1NdR/wAJx/wUL/6Nf%2BDP/h%2BNW/8AmXqh4H8D/tWeMf2rPDnxu%2BN3w4%2BHvhnRvDPw98Q6HDD4V%2BId9rV1d3WpX2iXCMyXGkWKRRomlygsHdi0qALjJHThsuy/By5qFGMX3UUn99r/AIniZzxpxhxFSVLNcxr14L7NSrUlH/wFy5fm4t%2BZ7rRRRXafNBXkH7a/w38ffEP4T6RffDLwy2u6x4T8f%2BHfE8Ph1LuGB9Wi0/U7e4nto5J3SJZjCkhi810jMqxh3RSXX1%2BigD5P8K/Anx34n/Z2%2BKHh74yfs/eM7a78d%2BN7zxxp%2BgeHNf0ZdS0u4S/gk063hna9%2BzLqURsLW9JZzaCWTZ50oDZ4Xw98N/2%2BPgT8E/H2sfDP4ZfEDxB4y%2BN3xeGqaxqOpa/4Ym8QeDtGXRNO0x76RDdWmlz37LpYMMFsxt4Tcw7xKtu6S/dVFAHnfwt%2BFVl4b/Zg8N/Bn4a2viX4ZWul%2BE7LS9GtxLp93qugxQwpHHGzyfbbSaZFQKznz0Y5OWzuryn/AIJ%2B%2BA4vh1%2ByvrtlL4i1DWblvj146vNX1rU44Fub2VPHOprLcyrbRRRKxWLewjjRBztVVwo%2Bmq%2BSv2SvFn7Z2n/D3xRZ/DH4B/DDV9CT40/EX%2Bz9R174u6jpt3Mv/CZ6yWMltFoFykRDbgAJnyADkE7Qmk2n2LjUqRhKCekrX87O6%2B56n1B/wnPgn/ocNL/8GEf/AMVS/wDCc%2BCf%2Bhw0r/wYR/8AxVeW/wDCcf8ABQv/AKNf%2BDP/AIfjVv8A5l6P%2BE4/4KF/9Gv/AAZ/8Pxq3/zL0yD1L/hOfBP/AEOGlf8Agwj/APiqP%2BE58E/9DhpX/gwj/wDiq8t/4Tj/AIKF/wDRr/wZ/wDD8at/8y9H/Ccf8FC/%2BjX/AIM/%2BH41b/5l6ANS%2B%2BBn7FGqfDjSfg7qfwd%2BFtx4R0C9%2B2aF4Vn8Paa%2Bm6bc7pG86C2KeVDJullO9FBzI5z8xzoaf8OP2UdJtbWy0rwH8PbaGytNJtLKG30uxRbeDS55LjTIkAUBEtJ5ZZbdRgQSSO8YVmJPmfwR/aO/bt%2BPHwY8IfHHwr%2Byh8JLXS/GfhfT9d0221D466os8MF3bR3EaSBPDDKHCyAMFZhkHBI5rqP%2BE4/4KF/9Gv8AwZ/8Pxq3/wAy9AGrY/A/9irS/FOt%2BOdM%2BEHwut9b8SwXUPiPWIPD%2BmpdarHdY%2B0pcyhN86y7V8wOSHwN2cV0HjfSvgB8TPBFz8MviRpvg7xB4bvIUiu/D2uQ2l3YzxoysiPBKGjZVZVIBXAKgjoK4r/hOP8AgoX/ANGv/Bn/AMPxq3/zL0f8Jx/wUL/6Nf8Agz/4fjVv/mXoA6oeCf2YR4et/CI8I%2BAxpNp4bn8PWul/YLL7PDpE4jWbTkj27VtZBDEHgA8thEgKnaMV/D3w1/ZO8I/DcfBvwp4A%2BHemeEFnE6%2BFNP0qwh00SiYTB/syKItwlVZM7c71DdRmvNfjd%2B0d%2B3b8B/gx4v8Ajj4q/ZQ%2BEl1pfgzwvqGu6lbaf8ddUaeaC0tpLiRIw/hhVLlYyFDMoyRkgc11H/Ccf8FC/wDo1/4M/wDh%2BNW/%2BZegDqfif4G/Ze%2BN0GnWvxo8H%2BAvF8WkXgu9Jj8UafZagtlcAYE0InVhG%2BP4lwfem2/gH9lq0%2BK8/wAebXwX4Ai8c3VoLW58Zx6dYrq0sARUETXYXzmTaiLtLYwoGMAVzH/Ccf8ABQv/AKNf%2BDP/AIfjVv8A5l6P%2BE4/4KF/9Gv/AAZ/8Pxq3/zL0Aeo/wDCc%2BCf%2Bhw0v/wYR/8AxVHgw79DM6g7Jr67liJGNyPcyMrfQqQR7GvLv%2BE4/wCChf8A0a/8Gf8Aw/Grf/MvXL/F39o79u34NeFLTxf4j/ZQ%2BElzb3nijRNCjjsvjrqjOJ9U1W10yBzu8MKNizXcbOc5CKxAY4UgH0dRXjP/AAnH/BQv/o1/4M/%2BH41b/wCZej/hOP8AgoX/ANGv/Bn/AMPxq3/zL0AezUV4z/wnH/BQv/o1/wCDP/h%2BNW/%2BZej/AITj/goX/wBGv/Bn/wAPxq3/AMy9AHs1FfOPj79o79u34d%2BK/BHhDWP2UPhJNcePPFEuhaVJbfHXVCkE8elahqZeXd4YBCeTp0ygqGO90GMEsvUf8Jx/wUL/AOjX/gz/AOH41b/5l6APZqK8Z/4Tj/goX/0a/wDBn/w/Grf/ADL0f8Jx/wAFC/8Ao1/4M/8Ah%2BNW/wDmXoA9morxn/hOP%2BChf/Rr/wAGf/D8at/8y9cvq37R37duj/GfQPgdcfsofCRtU8ReF9X12zuU%2BOuqeRHBp1zptvMjk%2BGNwdm1SAqApBCSZKkKGAPo6ivGf%2BE4/wCChf8A0a/8Gf8Aw/Grf/MvR/wnH/BQv/o1/wCDP/h%2BNW/%2BZegD2aivGf8AhOP%2BChf/AEa/8Gf/AA/Grf8AzL0f8Jx/wUL/AOjX/gz/AOH41b/5l6APZqK%2BcdJ/aO/bt1j4z6/8Drf9lD4SLqnh3wvpGu3ly/x11TyJINRudSt4UQjwxuLq2lzlgVAAePBYlgvUf8Jx/wAFC/8Ao1/4M/8Ah%2BNW/wDmXoA9morxn/hOP%2BChf/Rr/wAGf/D8at/8y9H/AAnH/BQv/o1/4M/%2BH41b/wCZegD2aivGf%2BE4/wCChf8A0a/8Gf8Aw/Grf/MvXL%2BAf2jv27fiJ4r8b%2BENH/ZQ%2BEkNx4D8URaFqslz8ddUCTzyaVp%2Bph4tvhgkp5OowqSwU70cYwAzAH0dRXjP/Ccf8FC/%2BjX/AIM/%2BH41b/5l6P8AhOP%2BChf/AEa/8Gf/AA/Grf8AzL0AezV4z%2By//wAlv/aO/wCyzWP/AKhXhej/AITj/goX/wBGv/Bn/wAPxq3/AMy9W/2Vvhz8afB%2BsfFDx38dNA8L6Tqnj74hRa5Z6V4T8S3OrW9raxaDo%2BmKr3FxZWbNI0mnSuVEW0LIg3Mc4APW6KKKACiiigAooooAKKKKACiiigAooooAKKKKACiiigAooooAKKKKACiiigAr5X/ae/a0%2BLnww%2BMfizWvAPh3wfJ4Y%2BD/AIf8P3vjU61pFxNquqW%2Br38qXMFhcR3EaWXkW1nHcZkinFzIUjIh8vzT9UV4z8Z/2Ifhx8bvikfiZrnjnxVpcWo2ukWvi/w1o11app3imDS72S9sYr5ZbeSYLHNNLn7PLAZY5DFMZYwqAA9mooooAKKKKAPmPw5%2B0r8TIf2//FHwf%2BI2seHvCfhtfEFpongyLUfhFrKXXjGAaBBqOIPEbXa6c0sd3c6gBaCF5PLtJgFBZpF%2BnK8r8WfstQeP/jJpHxT8e/G/xrq%2BleHtdj1rQPAFwdMi0ax1CO3eCOcNDZJey7PMkkVJrqSMSPu2fIgX1SgAooooA8X/AOCgvxd%2BOH7P37I/jT49fAK98KR6x4J0K71y6g8YaLc31td2lrbSzPboltdWzJK7IiiQuVQFiUfgV5/48/a0%2BLngv48eLdT8KeHfCEXw88IfGPwj8PvGVnNpFwdb1XVddg0VI9Qhu0uFhjjg/tzSYzFJbyvIkM%2BJY9qCvYf2sf2cbL9rT4Ea9%2Bz7rXxV8U%2BEdJ8T2Utjrl/4QXTvtdzZSxPFNbbr%2B0uo0R1flkRZAVG115zxcH7APg6f4i2fxF8VfHHx9rrHWdJ1zxNo2oS6VFY%2BJ9c0xI0sdWvY7awiZbiIQWmFtmggY2NsXiYx5IB73RRRQAV4v%2B2T8Xfjh8ErXwD4x%2BFl74U/sbUPiZ4c8PeL7HxBotzc3Vza6rrNjpoNnLDdQpbSRrcyyb5EnUlEXZyTXtFeVftXfstv%2B1V4b0LwvP8AH3xv4Gt9C8SWGuo3guHR2e7vbG8gvLNpTqWn3g2xXFvG4WMIG5WTep2gA84/Z5/aV%2BJmt/tVeLfgj8UNX8PeE9Oh8U63b%2BCfCUnwi1nTLnXraF0lN/b61cXf2DUHYyTSyxW0BfkuxXDE/TleS6T%2ByiH%2BMmi/GX4j/tAeO/Gs3he7vLvwnoXiEaTDYaPdXNvJayXES2Gn20sr/Z5p4V8%2BSVUWd9oBII9aoAKKKKAPD/27vi58eP2fvg1q/wAdfhR4x8C2On%2BFtFuby90XxZ4Zvb%2B58Q3uUWz0yzktr2D7PNcSkW6N5V0zSzxBYWPyt5/8Ef2vvjPrnxL8Ff2t4M8JaR8NPG/xP8UfDbwr4a07S5o9X0S/0CHVt889yLhreaCRvD%2BposMdvEY1a2PmSZYD0/8AaV/ZBg/aS8eeCPiBN%2B0D478IXPgG7ub3RbHwxFo09nJeyoI1vJoNT068R54Y/MWGQBTGJ5SPmbIq%2BA/2Gvh74D%2BMtv8AF2H4i%2BLtSg07XdT17RPCGpXNl/ZOla3qMbx6hqkCRWqT%2BfOJ7ssrzPCjX1yY4o/M4APa6KKKACvl/wDa5%2BPH7S/wW%2BImn%2BFNKh8AeNdH8cw61baL8OYvB99JrCWtpod1dyX9xOL14rq2F1Fb20kItYgft8KCYyMiSfUFeHTfsTXEf7R/iv8Aaa0T9qv4l6dq/i3TYdOudLhg8Pz2mn2cMDRw21m1zpMtzbxLK73WxZtrzuXcODtoAZ%2Bwh%2B0H43%2BPfw9vLr4r%2BPtGvvF2nCzbX/Ddl8LtX8I3mgPPbLKILmy1e6nuHBbf5dwAkciodobaTXuleb/A79m7Tvgz4n8SfEPWPil4p8ceKvFcVjb6x4n8XNYLcvaWYm%2By2qRafa2ttHFG1zcuNsIZmuJCzNkY9IoAKKKKAPjn/goJ%2B3H8VP2MPHP9p65ougeMfCL6NqOt2/hWX4c6nZS26abo19qSSf8ACRTXT6ZPd/a9NGyxWBLoRzLKBthaRvXv2aPi78c9W%2BKnjf8AZ6/aOufCmoeJ/COk6HrUeteCtIubCxubHVBeRpEYLm5uXWWK4067Uv5uJEMTbIySorfHX9hLwR%2B05rV1a/H/AOLfjXxR4LuZLiRfhleSabDosUk1jNZM2%2B3so76QCO4mYJLdOgd9235EC9P%2Bz5%2BzNpHwDvNe8RXfxQ8WeOPEfiQ2cereKvGtxZvfS21pEYrW1H2O2t4ViiDysMR72eeV3Z2cmgD0qiiigAr4j/an/bK/az%2BDfxq8QfCjwd4b8OeNdTsNFuNd8MBPgf4gjk0UDUdMtUMLfbnHiaQWOqXHnf2X5TwtCVlEYmEdfbleH69%2BxbqfiXx6fidrX7XPxRm1vT4LyLwbeFNAA8KrdTQyT/ZIxpOydmjgW33Xq3TLEzhSruzkA6r9lj4sP8ZPhHB4svfiZo3iq/h1G6stUvtG8GX3h0W1xFKytazabqFxPdWc8YwrxzOHz821QwFejVw3wD%2BAvh74AeGdT0bSvFOt%2BINR1/XrjW/EniTxHNA17qt/MERp5RbxQwJiOKGJUhijjVIkAUYJPc0AFFFFABRRRQAUUUUAFFFFAFHxR4hsPCXhrUfFeqhza6ZYzXdyIly3lxoXbA7nCmvnP9ib9pP41%2BP/ABTo/gz42eHvBlmPHXwtsviN4Zh8GaVcWg0yO8uCbvT7szXEou5o3ubZ/tiCATtLMTBHtBf6Wu7S1v7WWxvbdJoZo2jmilUMrqRgqQeCCOMV5D%2BzN%2BxX4C/Zg1V9X0D4g%2BLfEstt4YsfDPh0eLL21mGgaFZvI9vptqbe3hLRqZPmlnM1xII4vMmfy1wAexUUUUAFcL%2B1B48%2BIvws/Zo%2BInxO%2BD/hRde8W%2BHPAur6p4W0NrGa6Go6jb2csttbGGBllmEkqInlxsHbdhSCQa7qs7xbol/4l8Mah4f0vxXqOhXN7aSQ2%2BtaQsDXVi7KQJohcRSxF1PIEkbpkfMrDIIB5d%2BxT8Wp/ih8M76y1b4heH9Z1Pw7qq6deaZonww1Pwc%2BhoLaCSKzuNK1S5nuYXCOJFdvLR4pYtiYG9/Yq88%2BA/7O2k/A688S%2BI7n4ieJPGPiTxfqMN54i8U%2BK3sxd3Rht0t4IhHY21tbRRRxoAqxwpks7MWZmY%2Bh0AFFFFAHy5%2B1R%2B1j8UP2cPi944sviVo3hLxF8L7D9nfxf49ttCt9EuE1V20QaWs9tcXMly9vNFOt9OAgtkKhEy75YV2/7M/xf%2BPmqfFzxl%2Bzr%2B0s/hK88UeGPDHh7xLHqvgrSbmxspLLVn1K3W2MNzc3LmWG40i7BlEgWRHiby4zuWoPjH%2Bwr4d%2BOnx1b4y%2BPPjt45l02bwVqfhG%2B%2BHsMGi/2Jd6NqS232%2B0kL6a16RO1pA7OLoOpQhGRGZD0n7O/wCy7of7Pt9rXiOf4oeLfG/iHX7Wwsr/AMT%2BNrm0kvTYWKSLZ2Y%2ByW1vH5URnuHBKGR3uZXd3Zs0Aen0UUUAFfInxr/aX/a28Ga7%2B0B4Et/CvgzxZe%2BAvD/hTxJ8NrHSfh/qd/Oseo6rqUIS8tYrx5dRngXTY51NsLclyQq/KrV9d14XL%2BxR4hi%2BOnjb4/6F%2B2h8VtK1bxvpFjplzY2Vn4Ya0022sri5ns0thLoryfujeXSgzPKXWciTzCqFQDq/2VPi3N8ZfhSPE2o/E7RvFOo2uq3Njq11o/gi/wDDZs7iJvmtZ9M1G4nurSdFK7kmYMQyttVWFek1wnwD%2BAegfAHQtZsdP8W654j1XxN4gl1zxP4m8SS27Xuq38kMMHmyC2hhgjCwW9vCqRRRoqQoAuck93QAUUUUAfG37S37Xf7S37PHxmg%2BG2sp8M/Gt9rcEE3hGHTvC17aS%2BC7zUvEOmeHtIm1OV76YXUU7avOC0S2cjixuljDL5hi9x/ZV%2BL/AMSPiMPH/wAPvjEdEn8VfDTx43hrWdV8NadNZ2Gp%2BZpenatb3ENvNPPJb5tdUt0eNppcSRyYYgjHC23/AATV8JNdfEN/EP7S/wATtZt/iTrx1zWLfUjoXmWepRXEM%2Bn3NtdRaWl0psHt7cWkbzSRRLCgZH5z6x8A/gLofwD8Patptl4v1zxJq3iLXpta8T%2BKPEr2xv8AV76SOKHzphawQQLsggt4ESKKNFjgjULwSQDuqKKKAGXP2n7NJ9j2edsPlebnbuxxnHOM18QfFb9rn9tP4afETXPhtb23gPxnr3hi98NW%2BreOvBHwV1/Vo/DlvqzXj3thLpVnqU93czRw2VjdExTp%2B7uoWlgQGJpPt67hkuLWW3hupIHkjZVniCl4yRgMu4FcjqMgj1Br57%2BDH7AXiD4CfDa4%2BGnw7/bq%2BMUUd1qz6nNrN5ZeE59Qlu5XlkuZ5pn0I/aZJ3l3SSTiR8xpsKAYIB6z8BPiHZfFb4O%2BH/iFYfEDRvFSanp4kfX/AA/pM1haXcgJWQpazzTS2xV1ZGhkkd42VlY7lIHX1yXwL%2BC/hL9n34X6d8KfBVzf3FlYS3VxNfarcia6vru6uZbq6upnCqGlmuJ5pX2qq7pDtVVwo62gAqj4nh8SXPhvULfwbqdjZavJZSrpd5qdg91bQXBQiOSWGOWJpo1bBZFkjLAEB1J3C9Wb4x0G/wDFHha/8O6X4t1LQbm8tXig1rRxAbqxcjiaIXEUsRdTyBJG6HHzKwyKAPh74b/t2fta/GD4p638EvhZpvw%2BTxnptrrt9J4z8V/C7WtDXVNM0i10WVLGXRLy%2BTUNPle78Q7EmnmePyoZLhIXWdAfsb4BfFrTfj58CfBXx10bTZbOz8a%2BEtN160s5n3PBFeWsdwsbEAZKiQAn1FeLav8A8EyPA%2Bta5ffEW7/aU%2BKafEDVkvLXWviTbXukQ6tf6ZdW1rbTaYUTTRZw2xSytGHkW0UqyQLKsocsx%2Bg/Bfg/w18PPB2k%2BAPBmkxafo%2Bh6ZBp%2Bk2EOdltbQxrHFGuecKiqo%2BlAGnRRRQBy/xp1Hxxo3wt1rW/hz4hsdL1awszdQ32oeD73xAiRxkPKBp1jPBc3kjRK6pFDIHLsuFc/I3xb8Jf%2BCiPx%2B8SeNND1PxvceEfAngzUp518QeOLz4GeIprbWL%2BHX7rSES5lW%2BjTwzPJa2lr%2B41RpJYHlWN87AlfbfxM8Ga7498JTeHPDfxS1/wbeSSxvFr/hmKxe7g2sCVVb%2B2uYGDAFSHibgnGDgjxW6/4JzeFNQ8H3Hw21b9pD4m3fhjXNQmv/HmgTXGjiLxhdz3jXVxNfSrpouIvNLLC0dnLaxCGJI1RRu3AH0TRRRQAUUUUAFFFFABRRRQAUUUUAFFFFABRRRQAUUUUAFFFFABRRRQAUUUUAFFFFABRRRQAUUUUAFFFFABRRRQAUUUUAFFFFABRRRQAUUUUAFFFFABRRRQAUUUUAFFFFABRRRQAUUUUAFFFFABRRRQAUUUUAFFFFABRRRQAUUUUAFFFFABRRRQAUUUUAFFFFABRRRQAUUUUAFFFFABRRRQAUUUUAFFFFABRRRQAUUUUAFFFFABRRRQAUUUUAFFFFABRRRQAUUUUAFFFFABRRRQAUUUUAFFFFABRRRQAUUUUAFFFFABRRRQAUUUUAFFFFABRRRQB//Z\">"
      ]
     },
     "metadata": {},
     "output_type": "display_data"
    }
   ],
   "source": [
    "s.run(tf.global_variables_initializer())\n",
    "\n",
    "BATCH_SIZE = 512\n",
    "EPOCHS = 40\n",
    "\n",
    "# for logging the progress right here in Jupyter (for those who don't have TensorBoard)\n",
    "simpleTrainingCurves = matplotlib_utils.SimpleTrainingCurves(\"cross-entropy\", \"accuracy\")\n",
    "\n",
    "for epoch in range(EPOCHS):  # we finish an epoch when we've looked at all training samples\n",
    "    \n",
    "    batch_losses = []\n",
    "    for batch_start in range(0, X_train_flat.shape[0], BATCH_SIZE):  # data is already shuffled\n",
    "        _, batch_loss = s.run([step, loss], {input_X: X_train_flat[batch_start:batch_start+BATCH_SIZE], \n",
    "                                             input_y: y_train_oh[batch_start:batch_start+BATCH_SIZE]})\n",
    "        # collect batch losses, this is almost free as we need a forward pass for backprop anyway\n",
    "        batch_losses.append(batch_loss)\n",
    "\n",
    "    train_loss = np.mean(batch_losses)\n",
    "    val_loss = s.run(loss, {input_X: X_val_flat, input_y: y_val_oh})  # this part is usually small\n",
    "    train_accuracy = accuracy_score(y_train, s.run(classes, {input_X: X_train_flat}))  # this is slow and usually skipped\n",
    "    valid_accuracy = accuracy_score(y_val, s.run(classes, {input_X: X_val_flat}))  \n",
    "    simpleTrainingCurves.add(train_loss, val_loss, train_accuracy, valid_accuracy)"
   ]
  },
  {
   "cell_type": "markdown",
   "metadata": {},
   "source": [
    "# Submit a linear model"
   ]
  },
  {
   "cell_type": "code",
   "execution_count": 21,
   "metadata": {
    "collapsed": true
   },
   "outputs": [],
   "source": [
    "## GRADED PART, DO NOT CHANGE!\n",
    "# Testing shapes \n",
    "grader.set_answer(\"9XaAS\", grading_utils.get_tensors_shapes_string([W, b, input_X, input_y, logits, probas, classes]))\n",
    "# Validation loss\n",
    "grader.set_answer(\"vmogZ\", s.run(loss, {input_X: X_val_flat, input_y: y_val_oh}))\n",
    "# Validation accuracy\n",
    "grader.set_answer(\"RMv95\", accuracy_score(y_val, s.run(classes, {input_X: X_val_flat})))"
   ]
  },
  {
   "cell_type": "code",
   "execution_count": 22,
   "metadata": {},
   "outputs": [
    {
     "name": "stdout",
     "output_type": "stream",
     "text": [
      "Submitted to Coursera platform. See results on assignment page!\n"
     ]
    }
   ],
   "source": [
    "# you can make submission with answers so far to check yourself at this stage\n",
    "grader.submit(COURSERA_EMAIL, COURSERA_TOKEN)"
   ]
  },
  {
   "cell_type": "markdown",
   "metadata": {},
   "source": [
    "# MLP with hidden layers"
   ]
  },
  {
   "cell_type": "markdown",
   "metadata": {},
   "source": [
    "Previously we've coded a dense layer with matrix multiplication by hand. \n",
    "But this is not convenient, you have to create a lot of variables and your code becomes a mess. \n",
    "In TensorFlow there's an easier way to make a dense layer:\n",
    "```python\n",
    "hidden1 = tf.layers.dense(inputs, 256, activation=tf.nn.sigmoid)\n",
    "```\n",
    "\n",
    "That will create all the necessary variables automatically.\n",
    "Here you can also choose an activation function (remember that we need it for a hidden layer!).\n",
    "\n",
    "Now define the MLP with 2 hidden layers and restart training with the cell above.\n",
    "\n",
    "You're aiming for ~0.97 validation accuracy here."
   ]
  },
  {
   "cell_type": "code",
   "execution_count": 23,
   "metadata": {},
   "outputs": [],
   "source": [
    "# write the code here to get a new `step` operation and then run the cell with training loop above.\n",
    "# name your variables in the same way (e.g. logits, probas, classes, etc) for safety.\n",
    "logits = tf.layers.dense(input_X,784,activation = tf.nn.sigmoid)\n",
    "logits_h1 = tf.layers.dense(logits,256,activation = tf.nn.sigmoid)\n",
    "logits_h2 = tf.layers.dense(logits_h1,256,activation = tf.nn.sigmoid)\n",
    "logits2 = tf.layers.dense(logits_h2,10)\n",
    "probas = tf.nn.softmax(logits2)\n",
    "classes = tf.argmax(probas,axis = 1)\n",
    "\n",
    "# Loss should be a scalar number: average loss over all the objects with tf.reduce_mean().\n",
    "# Use tf.nn.softmax_cross_entropy_with_logits on top of one-hot encoded input_y and logits.\n",
    "# It is identical to calculating cross-entropy on top of probas, but is more numerically friendly (read the docs).\n",
    "loss =tf.reduce_mean(tf.nn.softmax_cross_entropy_with_logits(labels = input_y,logits = logits2))\n",
    "step = tf.train.AdamOptimizer(0.003).minimize(loss)"
   ]
  },
  {
   "cell_type": "markdown",
   "metadata": {},
   "source": [
    "# Submit the MLP with 2 hidden layers\n",
    "Run these cells after training the MLP with 2 hidden layers"
   ]
  },
  {
   "cell_type": "code",
   "execution_count": 37,
   "metadata": {
    "collapsed": true
   },
   "outputs": [],
   "source": [
    "## GRADED PART, DO NOT CHANGE!\n",
    "# Validation loss for MLP\n",
    "grader.set_answer(\"i8bgs\", s.run(loss, {input_X: X_val_flat, input_y: y_val_oh}))\n",
    "# Validation accuracy for MLP\n",
    "\n",
    "grader.set_answer(\"rE763\", accuracy_score(y_val, s.run(classes, {input_X: X_val_flat})))"
   ]
  },
  {
   "cell_type": "code",
   "execution_count": 38,
   "metadata": {},
   "outputs": [
    {
     "name": "stdout",
     "output_type": "stream",
     "text": [
      "Submitted to Coursera platform. See results on assignment page!\n"
     ]
    }
   ],
   "source": [
    "# you can make submission with answers so far to check yourself at this stage\n",
    "grader.submit(COURSERA_EMAIL, COURSERA_TOKEN)"
   ]
  },
  {
   "cell_type": "code",
   "execution_count": null,
   "metadata": {
    "collapsed": true
   },
   "outputs": [],
   "source": []
  }
 ],
 "metadata": {
  "kernelspec": {
   "display_name": "Python 3",
   "language": "python",
   "name": "python3"
  },
  "language_info": {
   "codemirror_mode": {
    "name": "ipython",
    "version": 3
   },
   "file_extension": ".py",
   "mimetype": "text/x-python",
   "name": "python",
   "nbconvert_exporter": "python",
   "pygments_lexer": "ipython3",
   "version": "3.6.2"
  }
 },
 "nbformat": 4,
 "nbformat_minor": 1
}
