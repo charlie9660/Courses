{
  "nbformat": 4,
  "nbformat_minor": 0,
  "metadata": {
    "kernelspec": {
      "name": "python3",
      "display_name": "Python 3"
    },
    "language_info": {
      "codemirror_mode": {
        "name": "ipython",
        "version": 3
      },
      "file_extension": ".py",
      "mimetype": "text/x-python",
      "name": "python",
      "nbconvert_exporter": "python",
      "pygments_lexer": "ipython3",
      "version": "3.6.5"
    },
    "toc": {
      "colors": {
        "hover_highlight": "#DAA520",
        "navigate_num": "#000000",
        "navigate_text": "#333333",
        "running_highlight": "#FF0000",
        "selected_highlight": "#FFD700",
        "sidebar_border": "#EEEEEE",
        "wrapper_background": "#FFFFFF"
      },
      "moveMenuLeft": true,
      "nav_menu": {
        "height": "66px",
        "width": "252px"
      },
      "navigate_menu": true,
      "number_sections": true,
      "sideBar": true,
      "threshold": 4,
      "toc_cell": false,
      "toc_section_display": "block",
      "toc_window_display": false,
      "widenNotebook": false
    },
    "colab": {
      "name": "cd_week3_task1_first_cnn_cifar10_clean.ipynb",
      "provenance": [],
      "collapsed_sections": [
        "GNt6CxHmNf_N",
        "tZhxFOLMNf_S",
        "17E8VD6ENf_i",
        "ck9hpdoQNf_z",
        "AyDJJFhfNf__"
      ]
    },
    "accelerator": "GPU"
  },
  "cells": [
    {
      "cell_type": "code",
      "metadata": {
        "id": "A7EBpX_mNf-i",
        "colab_type": "code",
        "colab": {
          "base_uri": "https://localhost:8080/",
          "height": 391
        },
        "outputId": "ccdaaa0e-eb0b-4803-9100-43d9e8770da5"
      },
      "source": [
        "# set tf 1.x for colab\n",
        "%tensorflow_version 1.x\n",
        "! shred -u setup_google_colab.py\n",
        "! wget https://raw.githubusercontent.com/hse-aml/intro-to-dl/master/setup_google_colab.py -O setup_google_colab.py\n",
        "import setup_google_colab\n",
        "setup_google_colab.setup_week3()"
      ],
      "execution_count": 2,
      "outputs": [
        {
          "output_type": "stream",
          "text": [
            "shred: setup_google_colab.py: failed to open for writing: No such file or directory\n",
            "--2020-02-22 14:06:59--  https://raw.githubusercontent.com/hse-aml/intro-to-dl/master/setup_google_colab.py\n",
            "Resolving raw.githubusercontent.com (raw.githubusercontent.com)... 151.101.0.133, 151.101.64.133, 151.101.128.133, ...\n",
            "Connecting to raw.githubusercontent.com (raw.githubusercontent.com)|151.101.0.133|:443... connected.\n",
            "HTTP request sent, awaiting response... 200 OK\n",
            "Length: 3636 (3.6K) [text/plain]\n",
            "Saving to: ‘setup_google_colab.py’\n",
            "\n",
            "setup_google_colab. 100%[===================>]   3.55K  --.-KB/s    in 0s      \n",
            "\n",
            "2020-02-22 14:06:59 (83.8 MB/s) - ‘setup_google_colab.py’ saved [3636/3636]\n",
            "\n",
            "**************************************************\n",
            "102flowers.tgz\n",
            "**************************************************\n",
            "imagelabels.mat\n",
            "**************************************************\n",
            "inception_v3_weights_tf_dim_ordering_tf_kernels_notop.h5\n",
            "**************************************************\n",
            "cifar-10-batches-py.tar.gz\n",
            "**************************************************\n",
            "mnist.npz\n"
          ],
          "name": "stdout"
        }
      ]
    },
    {
      "cell_type": "markdown",
      "metadata": {
        "ExecuteTime": {
          "end_time": "2017-09-03T21:05:26.096298Z",
          "start_time": "2017-09-03T21:05:26.092498Z"
        },
        "id": "f_JoTfykNf-o",
        "colab_type": "text"
      },
      "source": [
        "# Your first CNN on CIFAR-10\n",
        "\n",
        "In this task you will: \n",
        "* define your first CNN architecture for CIFAR-10 dataset\n",
        "* train it from scratch\n",
        "* visualize learnt filters\n",
        "\n",
        "CIFAR-10 dataset contains 32x32 color images from 10 classes: __airplane, automobile, bird, cat, deer, dog, frog, horse, ship, truck__:\n",
        "<img src=\"https://github.com/hse-aml/intro-to-dl/blob/master/week3/images/cifar10.jpg?raw=1\" style=\"width:80%\">"
      ]
    },
    {
      "cell_type": "markdown",
      "metadata": {
        "id": "UVtZ9mGXNf-p",
        "colab_type": "text"
      },
      "source": [
        "# Import stuff"
      ]
    },
    {
      "cell_type": "code",
      "metadata": {
        "ExecuteTime": {
          "end_time": "2017-10-29T18:51:38.014629Z",
          "start_time": "2017-10-29T18:51:37.876670Z"
        },
        "id": "s_PQeZ_uNf-q",
        "colab_type": "code",
        "colab": {}
      },
      "source": [
        "import sys\n",
        "sys.path.append(\"..\")\n",
        "import grading\n",
        "import download_utils"
      ],
      "execution_count": 0,
      "outputs": []
    },
    {
      "cell_type": "code",
      "metadata": {
        "id": "CBdEPCmNNf-u",
        "colab_type": "code",
        "colab": {}
      },
      "source": [
        "# !!! remember to clear session/graph if you rebuild your graph to avoid out-of-memory errors !!!"
      ],
      "execution_count": 0,
      "outputs": []
    },
    {
      "cell_type": "code",
      "metadata": {
        "ExecuteTime": {
          "end_time": "2017-10-29T18:51:39.175876Z",
          "start_time": "2017-10-29T18:51:39.170539Z"
        },
        "id": "YUTlSPU1Nf-x",
        "colab_type": "code",
        "colab": {}
      },
      "source": [
        "download_utils.link_all_keras_resources()"
      ],
      "execution_count": 0,
      "outputs": []
    },
    {
      "cell_type": "code",
      "metadata": {
        "ExecuteTime": {
          "end_time": "2017-10-29T18:51:58.907479Z",
          "start_time": "2017-10-29T18:51:42.206537Z"
        },
        "scrolled": true,
        "id": "JOpUbL3KNf-1",
        "colab_type": "code",
        "colab": {
          "base_uri": "https://localhost:8080/",
          "height": 51
        },
        "outputId": "d2d5bc32-b21e-46b8-ff4f-0477e8f4a8c8"
      },
      "source": [
        "import tensorflow as tf\n",
        "import keras\n",
        "from keras import backend as K\n",
        "import numpy as np\n",
        "%matplotlib inline\n",
        "import matplotlib.pyplot as plt\n",
        "print(tf.__version__)\n",
        "print(keras.__version__)\n",
        "import grading_utils\n",
        "import keras_utils\n",
        "from keras_utils import reset_tf_session"
      ],
      "execution_count": 10,
      "outputs": [
        {
          "output_type": "stream",
          "text": [
            "1.15.0\n",
            "2.0.6\n"
          ],
          "name": "stdout"
        }
      ]
    },
    {
      "cell_type": "markdown",
      "metadata": {
        "id": "Yoiu48wUNf-4",
        "colab_type": "text"
      },
      "source": [
        "# Fill in your Coursera token and email\n",
        "To successfully submit your answers to our grader, please fill in your Coursera submission token and email"
      ]
    },
    {
      "cell_type": "code",
      "metadata": {
        "id": "cKW1pV7-Nf-5",
        "colab_type": "code",
        "colab": {}
      },
      "source": [
        "grader = grading.Grader(assignment_key=\"s1B1I5DuEeeyLAqI7dCYkg\", \n",
        "                        all_parts=[\"7W4tu\", \"nQOsg\", \"96eco\"])"
      ],
      "execution_count": 0,
      "outputs": []
    },
    {
      "cell_type": "code",
      "metadata": {
        "id": "im_ibppVNf-8",
        "colab_type": "code",
        "colab": {}
      },
      "source": [
        "# token expires every 30 min\n",
        "COURSERA_TOKEN = \"7vbun8VZW2SxMax3\"\n",
        "COURSERA_EMAIL = \"cd446@cornell.edu\""
      ],
      "execution_count": 0,
      "outputs": []
    },
    {
      "cell_type": "markdown",
      "metadata": {
        "id": "VeRDrTe-Nf-_",
        "colab_type": "text"
      },
      "source": [
        "# Load dataset"
      ]
    },
    {
      "cell_type": "code",
      "metadata": {
        "ExecuteTime": {
          "end_time": "2017-09-03T23:44:40.870302Z",
          "start_time": "2017-09-03T23:44:39.221603Z"
        },
        "id": "2VFSC7zbNf-_",
        "colab_type": "code",
        "colab": {}
      },
      "source": [
        "from keras.datasets import cifar10\n",
        "(x_train, y_train), (x_test, y_test) = cifar10.load_data()"
      ],
      "execution_count": 0,
      "outputs": []
    },
    {
      "cell_type": "code",
      "metadata": {
        "ExecuteTime": {
          "end_time": "2017-09-04T00:27:41.648291Z",
          "start_time": "2017-09-04T00:27:41.644322Z"
        },
        "id": "4wVkGNNANf_E",
        "colab_type": "code",
        "colab": {
          "base_uri": "https://localhost:8080/",
          "height": 51
        },
        "outputId": "8f3af24c-df02-443c-ecfe-6d5b3f3bcb74"
      },
      "source": [
        "print(\"Train samples:\", x_train.shape, y_train.shape)\n",
        "print(\"Test samples:\", x_test.shape, y_test.shape)"
      ],
      "execution_count": 35,
      "outputs": [
        {
          "output_type": "stream",
          "text": [
            "Train samples: (50000, 32, 32, 3) (50000, 1)\n",
            "Test samples: (10000, 32, 32, 3) (10000, 1)\n"
          ],
          "name": "stdout"
        }
      ]
    },
    {
      "cell_type": "code",
      "metadata": {
        "ExecuteTime": {
          "end_time": "2017-09-03T23:44:41.009639Z",
          "start_time": "2017-09-03T23:44:40.877013Z"
        },
        "id": "AYeNChbGNf_I",
        "colab_type": "code",
        "colab": {}
      },
      "source": [
        "NUM_CLASSES = 10\n",
        "cifar10_classes = [\"airplane\", \"automobile\", \"bird\", \"cat\", \"deer\", \n",
        "                   \"dog\", \"frog\", \"horse\", \"ship\", \"truck\"]"
      ],
      "execution_count": 0,
      "outputs": []
    },
    {
      "cell_type": "code",
      "metadata": {
        "ExecuteTime": {
          "end_time": "2017-09-03T23:44:42.285830Z",
          "start_time": "2017-09-03T23:44:41.011216Z"
        },
        "id": "3B4F7VJjNf_K",
        "colab_type": "code",
        "colab": {
          "base_uri": "https://localhost:8080/",
          "height": 255
        },
        "outputId": "2bc2e3af-3af1-42af-94f6-c7b0dea5cd2c"
      },
      "source": [
        "# show random images from train\n",
        "cols = 8\n",
        "rows = 2\n",
        "fig = plt.figure(figsize=(2 * cols - 1, 2.5 * rows - 1))\n",
        "for i in range(cols):\n",
        "    for j in range(rows):\n",
        "        random_index = np.random.randint(0, len(y_train))\n",
        "        ax = fig.add_subplot(rows, cols, i * rows + j + 1)\n",
        "        ax.grid('off')\n",
        "        ax.axis('off')\n",
        "        ax.imshow(x_train[random_index, :])\n",
        "        ax.set_title(cifar10_classes[y_train[random_index, 0]])\n",
        "plt.show()"
      ],
      "execution_count": 37,
      "outputs": [
        {
          "output_type": "display_data",
          "data": {
            "image/png": "[encoded data removed]",
            "text/plain": [
              "<Figure size 1080x288 with 16 Axes>"
            ]
          },
          "metadata": {
            "tags": []
          }
        }
      ]
    },
    {
      "cell_type": "markdown",
      "metadata": {
        "id": "GNt6CxHmNf_N",
        "colab_type": "text"
      },
      "source": [
        "# Prepare data"
      ]
    },
    {
      "cell_type": "markdown",
      "metadata": {
        "id": "Cbuhp-u7Nf_O",
        "colab_type": "text"
      },
      "source": [
        "We need to normalize inputs like this: $$x_{norm} = \\frac{x}{255} - 0.5$$\n",
        "\n",
        "We need to convert class labels to one-hot encoded vectors. Use __keras.utils.to_categorical__."
      ]
    },
    {
      "cell_type": "code",
      "metadata": {
        "ExecuteTime": {
          "end_time": "2017-09-04T00:25:55.504781Z",
          "start_time": "2017-09-04T00:25:55.500823Z"
        },
        "id": "-b-pnYgUNf_P",
        "colab_type": "code",
        "colab": {}
      },
      "source": [
        "# normalize inputs\n",
        "x_train2 = x_train / 255 - 0.5\n",
        "x_test2 = x_test / 255 - 0.5\n",
        "\n",
        "# convert class labels to one-hot encoded, should have shape (?, NUM_CLASSES)\n",
        "y_train2 = keras.utils.to_categorical(y_train,NUM_CLASSES)\n",
        "y_test2 = keras.utils.to_categorical(y_test,NUM_CLASSES)"
      ],
      "execution_count": 0,
      "outputs": []
    },
    {
      "cell_type": "markdown",
      "metadata": {
        "id": "tZhxFOLMNf_S",
        "colab_type": "text"
      },
      "source": [
        "# Define CNN architecture"
      ]
    },
    {
      "cell_type": "code",
      "metadata": {
        "ExecuteTime": {
          "end_time": "2017-08-24T11:39:23.631230Z",
          "start_time": "2017-08-24T11:39:23.627975Z"
        },
        "id": "A7hHOtyANf_S",
        "colab_type": "code",
        "colab": {}
      },
      "source": [
        "# import necessary building blocks\n",
        "from keras.models import Sequential\n",
        "from keras.layers import Conv2D, MaxPooling2D, Flatten, Dense, Activation, Dropout\n",
        "from keras.layers.advanced_activations import LeakyReLU"
      ],
      "execution_count": 0,
      "outputs": []
    },
    {
      "cell_type": "markdown",
      "metadata": {
        "id": "50h9SYzdNf_W",
        "colab_type": "text"
      },
      "source": [
        "Convolutional networks are built from several types of layers:\n",
        "- [Conv2D](https://keras.io/layers/convolutional/#conv2d) - performs convolution:\n",
        "    - **filters**: number of output channels; \n",
        "    - **kernel_size**: an integer or tuple/list of 2 integers, specifying the width and height of the 2D convolution window;\n",
        "    - **padding**: padding=\"same\" adds zero padding to the input, so that the output has the same width and height, padding='valid' performs convolution only in locations where kernel and the input fully overlap;\n",
        "    - **activation**: \"relu\", \"tanh\", etc.\n",
        "    - **input_shape**: shape of input.\n",
        "- [MaxPooling2D](https://keras.io/layers/pooling/#maxpooling2d) - performs 2D max pooling.\n",
        "- [Flatten](https://keras.io/layers/core/#flatten) - flattens the input, does not affect the batch size.\n",
        "- [Dense](https://keras.io/layers/core/#dense) - fully-connected layer.\n",
        "- [Activation](https://keras.io/layers/core/#activation) - applies an activation function.\n",
        "- [LeakyReLU](https://keras.io/layers/advanced-activations/#leakyrelu) - applies leaky relu activation.\n",
        "- [Dropout](https://keras.io/layers/core/#dropout) - applies dropout."
      ]
    },
    {
      "cell_type": "markdown",
      "metadata": {
        "ExecuteTime": {
          "end_time": "2017-09-03T23:48:59.567910Z",
          "start_time": "2017-09-03T23:48:59.564449Z"
        },
        "id": "UZHstUlQNf_X",
        "colab_type": "text"
      },
      "source": [
        "You need to define a model which takes __(None, 32, 32, 3)__ input and predicts __(None, 10)__ output with probabilities for all classes. __None__ in shapes stands for batch dimension.\n",
        "\n",
        "Simple feed-forward networks in Keras can be defined in the following way:\n",
        "\n",
        "```python\n",
        "model = Sequential()  # start feed-forward model definition\n",
        "model.add(Conv2D(..., input_shape=(32, 32, 3)))  # first layer needs to define \"input_shape\"\n",
        "\n",
        "...  # here comes a bunch of convolutional, pooling and dropout layers\n",
        "\n",
        "model.add(Dense(NUM_CLASSES))  # the last layer with neuron for each class\n",
        "model.add(Activation(\"softmax\"))  # output probabilities\n",
        "```\n",
        "\n",
        "Stack __4__ convolutional layers with kernel size __(3, 3)__ with growing number of filters __(16, 32, 32, 64)__, use \"same\" padding.\n",
        "\n",
        "Add __2x2__ pooling layer after every 2 convolutional layers (conv-conv-pool scheme).\n",
        "\n",
        "Use __LeakyReLU__ activation with recommended parameter __0.1__ for all layers that need it (after convolutional and dense layers):\n",
        "```python\n",
        "model.add(LeakyReLU(0.1))\n",
        "```\n",
        "\n",
        "Add a dense layer with __256__ neurons and a second dense layer with __10__ neurons for classes. Remember to use __Flatten__ layer before first dense layer to reshape input volume into a flat vector!\n",
        "\n",
        "Add __Dropout__ after every pooling layer (__0.25__) and between dense layers (__0.5__)."
      ]
    },
    {
      "cell_type": "code",
      "metadata": {
        "ExecuteTime": {
          "end_time": "2017-08-24T11:39:23.739649Z",
          "start_time": "2017-08-24T11:39:23.632558Z"
        },
        "id": "gDEeYNgHNf_Y",
        "colab_type": "code",
        "colab": {}
      },
      "source": [
        "def make_model():\n",
        "    \"\"\"\n",
        "    Define your model architecture here.\n",
        "    Returns `Sequential` model.\n",
        "    \"\"\"\n",
        "    model = Sequential()\n",
        "\n",
        "    model.add(Conv2D(16, (3, 3), padding =\n",
        "      'same', activation = 'relu',\n",
        "      input_shape = (32, 32, 3)))\n",
        "    model.add(Conv2D(32, (3, 3), padding =\n",
        "        'same', activation = 'relu',\n",
        "        input_shape = (32, 32, 3)))\n",
        "    model.add(MaxPooling2D(pool_size = (2,\n",
        "            2), strides = None,\n",
        "        padding = 'valid',\n",
        "        data_format = None))\n",
        "    model.add(Dropout(0.25))\n",
        "    model.add(Conv2D(32, (3, 3), padding =\n",
        "        'same', activation = 'relu',\n",
        "        input_shape = (32, 32, 3)))\n",
        "    model.add(Conv2D(64, (3, 3), padding =\n",
        "        'same', activation = 'relu',\n",
        "        input_shape = (32, 32, 3)))\n",
        "    model.add(MaxPooling2D(pool_size = (2,\n",
        "            2), strides = None,\n",
        "        padding = 'valid',\n",
        "        data_format = None))\n",
        "    model.add(Dropout(0.25))\n",
        "    model.add(Flatten())\n",
        "    model.add(Dense(256, input_shape = (256, )))\n",
        "    model.add(Dense(NUM_CLASSES))\n",
        "    model.add(LeakyReLU(0.1))\n",
        "    model.add(Activation('softmax'))\n",
        "    \n",
        "    return model"
      ],
      "execution_count": 0,
      "outputs": []
    },
    {
      "cell_type": "code",
      "metadata": {
        "ExecuteTime": {
          "end_time": "2017-08-24T11:39:23.948546Z",
          "start_time": "2017-08-24T11:39:23.741012Z"
        },
        "id": "frbuFP4HNf_b",
        "colab_type": "code",
        "colab": {
          "base_uri": "https://localhost:8080/",
          "height": 578
        },
        "outputId": "8a14d9c3-eeac-4d4a-c11f-1dc9061cb259"
      },
      "source": [
        "# describe model\n",
        "s = reset_tf_session()  # clear default graph\n",
        "model = make_model()\n",
        "model.summary()"
      ],
      "execution_count": 41,
      "outputs": [
        {
          "output_type": "stream",
          "text": [
            "_________________________________________________________________\n",
            "Layer (type)                 Output Shape              Param #   \n",
            "=================================================================\n",
            "conv2d_1 (Conv2D)            (None, 32, 32, 16)        448       \n",
            "_________________________________________________________________\n",
            "conv2d_2 (Conv2D)            (None, 32, 32, 32)        4640      \n",
            "_________________________________________________________________\n",
            "max_pooling2d_1 (MaxPooling2 (None, 16, 16, 32)        0         \n",
            "_________________________________________________________________\n",
            "dropout_1 (Dropout)          (None, 16, 16, 32)        0         \n",
            "_________________________________________________________________\n",
            "conv2d_3 (Conv2D)            (None, 16, 16, 32)        9248      \n",
            "_________________________________________________________________\n",
            "conv2d_4 (Conv2D)            (None, 16, 16, 64)        18496     \n",
            "_________________________________________________________________\n",
            "max_pooling2d_2 (MaxPooling2 (None, 8, 8, 64)          0         \n",
            "_________________________________________________________________\n",
            "dropout_2 (Dropout)          (None, 8, 8, 64)          0         \n",
            "_________________________________________________________________\n",
            "flatten_1 (Flatten)          (None, 4096)              0         \n",
            "_________________________________________________________________\n",
            "dense_1 (Dense)              (None, 256)               1048832   \n",
            "_________________________________________________________________\n",
            "dense_2 (Dense)              (None, 10)                2570      \n",
            "_________________________________________________________________\n",
            "leaky_re_lu_1 (LeakyReLU)    (None, 10)                0         \n",
            "_________________________________________________________________\n",
            "activation_1 (Activation)    (None, 10)                0         \n",
            "=================================================================\n",
            "Total params: 1,084,234\n",
            "Trainable params: 1,084,234\n",
            "Non-trainable params: 0\n",
            "_________________________________________________________________\n"
          ],
          "name": "stdout"
        }
      ]
    },
    {
      "cell_type": "code",
      "metadata": {
        "id": "FmXGYaK5Nf_d",
        "colab_type": "code",
        "colab": {}
      },
      "source": [
        "## GRADED PART, DO NOT CHANGE!\n",
        "# Number of model parameters\n",
        "grader.set_answer(\"7W4tu\", grading_utils.model_total_params(model))"
      ],
      "execution_count": 0,
      "outputs": []
    },
    {
      "cell_type": "code",
      "metadata": {
        "id": "RUzthgt4Nf_f",
        "colab_type": "code",
        "colab": {
          "base_uri": "https://localhost:8080/",
          "height": 34
        },
        "outputId": "cff4e71a-68a6-4700-b402-4f0f5246662c"
      },
      "source": [
        "# you can make submission with answers so far to check yourself at this stage\n",
        "grader.submit(COURSERA_EMAIL, COURSERA_TOKEN)"
      ],
      "execution_count": 43,
      "outputs": [
        {
          "output_type": "stream",
          "text": [
            "Submitted to Coursera platform. See results on assignment page!\n"
          ],
          "name": "stdout"
        }
      ]
    },
    {
      "cell_type": "markdown",
      "metadata": {
        "id": "17E8VD6ENf_i",
        "colab_type": "text"
      },
      "source": [
        "# Train model"
      ]
    },
    {
      "cell_type": "markdown",
      "metadata": {
        "id": "rcOek8bQNf_j",
        "colab_type": "text"
      },
      "source": [
        "Training of your model can take approx. 4-8 minutes per epoch.\n",
        "\n",
        "During training you should observe the decrease in reported loss on training and validation.\n",
        "\n",
        "If the loss on training is not decreasing with epochs you should revise your model definition and learning rate."
      ]
    },
    {
      "cell_type": "code",
      "metadata": {
        "ExecuteTime": {
          "end_time": "2017-08-24T12:18:39.059726Z",
          "start_time": "2017-08-24T11:39:23.949926Z"
        },
        "id": "WlTjeNauNf_k",
        "colab_type": "code",
        "colab": {}
      },
      "source": [
        "INIT_LR = 5e-3  # initial learning rate\n",
        "BATCH_SIZE = 32\n",
        "EPOCHS = 100\n",
        "\n",
        "s = reset_tf_session()  # clear default graph\n",
        "# don't call K.set_learning_phase() !!! (otherwise will enable dropout in train/test simultaneously)\n",
        "model = make_model()  # define our model\n",
        "\n",
        "# prepare model for fitting (loss, optimizer, etc)\n",
        "model.compile(\n",
        "    loss='categorical_crossentropy',  # we train 10-way classification\n",
        "    optimizer=keras.optimizers.adamax(lr=INIT_LR),  # for SGD\n",
        "    metrics=['accuracy']  # report accuracy during training\n",
        ")\n",
        "\n",
        "# scheduler of learning rate (decay with epochs)\n",
        "def lr_scheduler(epoch):\n",
        "    return INIT_LR * 0.9 ** epoch\n",
        "\n",
        "# callback for printing of actual learning rate used by optimizer\n",
        "class LrHistory(keras.callbacks.Callback):\n",
        "    def on_epoch_begin(self, epoch, logs={}):\n",
        "        print(\"Learning rate:\", K.get_value(model.optimizer.lr))"
      ],
      "execution_count": 0,
      "outputs": []
    },
    {
      "cell_type": "markdown",
      "metadata": {
        "id": "4Jz_uU7uNf_o",
        "colab_type": "text"
      },
      "source": [
        "Training takes approximately **1.5 hours**. You're aiming for ~0.80 validation accuracy."
      ]
    },
    {
      "cell_type": "code",
      "metadata": {
        "id": "BSRJYWOENf_p",
        "colab_type": "code",
        "colab": {}
      },
      "source": [
        "# we will save model checkpoints to continue training in case of kernel death\n",
        "model_filename = 'cifar.{0:03d}.hdf5'\n",
        "last_finished_epoch = None\n",
        "\n",
        "#### uncomment below to continue training from model checkpoint\n",
        "#### fill `last_finished_epoch` with your latest finished epoch\n",
        "# from keras.models import load_model\n",
        "# s = reset_tf_session()\n",
        "# last_finished_epoch = 7\n",
        "# model = load_model(model_filename.format(last_finished_epoch))"
      ],
      "execution_count": 0,
      "outputs": []
    },
    {
      "cell_type": "code",
      "metadata": {
        "ExecuteTime": {
          "end_time": "2017-08-24T12:18:39.059726Z",
          "start_time": "2017-08-24T11:39:23.949926Z"
        },
        "scrolled": false,
        "id": "Z1-pXBptNf_s",
        "colab_type": "code",
        "colab": {
          "base_uri": "https://localhost:8080/",
          "height": 1000
        },
        "outputId": "b230409c-b227-4efb-c6b1-cbad62b81582"
      },
      "source": [
        "# fit model\n",
        "model.fit(\n",
        "    x_train2, y_train2,  # prepared data\n",
        "    batch_size=BATCH_SIZE,\n",
        "    epochs=EPOCHS,\n",
        "    callbacks=[keras.callbacks.LearningRateScheduler(lr_scheduler), \n",
        "               LrHistory(), \n",
        "               keras_utils.TqdmProgressCallback(),\n",
        "               keras_utils.ModelSaveCallback(model_filename)],\n",
        "    validation_data=(x_test2, y_test2),\n",
        "    shuffle=True,\n",
        "    verbose=0,\n",
        "    initial_epoch=last_finished_epoch or 0\n",
        ")"
      ],
      "execution_count": 67,
      "outputs": [
        {
          "output_type": "stream",
          "text": [
            "Learning rate: 0.005\n",
            "\n",
            "Epoch 1/100\n",
            "**************************************************\n",
            "loss: 1.4572; acc: 0.4744; val_loss: 1.0938; val_acc: 0.6183\n",
            "Model saved in cifar.000.hdf5\n",
            "Learning rate: 0.0045\n",
            "\n",
            "Epoch 2/100\n",
            "**************************************************\n",
            "loss: 1.0436; acc: 0.6330; val_loss: 0.9366; val_acc: 0.6709\n",
            "Model saved in cifar.001.hdf5\n",
            "Learning rate: 0.00405\n",
            "\n",
            "Epoch 3/100\n",
            "**************************************************\n",
            "loss: 0.8974; acc: 0.6855; val_loss: 0.8356; val_acc: 0.7106\n",
            "Model saved in cifar.002.hdf5\n",
            "Learning rate: 0.003645\n",
            "\n",
            "Epoch 4/100\n",
            "**************************************************\n",
            "loss: 0.8153; acc: 0.7148; val_loss: 0.8226; val_acc: 0.7152\n",
            "Model saved in cifar.003.hdf5\n",
            "Learning rate: 0.0032805\n",
            "\n",
            "Epoch 5/100\n",
            "**************************************************\n",
            "loss: 0.7515; acc: 0.7382; val_loss: 0.7465; val_acc: 0.7422\n",
            "Model saved in cifar.004.hdf5\n",
            "Learning rate: 0.00295245\n",
            "\n",
            "Epoch 6/100\n",
            "**************************************************\n",
            "loss: 0.7107; acc: 0.7529; val_loss: 0.7876; val_acc: 0.7285\n",
            "Model saved in cifar.005.hdf5\n",
            "Learning rate: 0.002657205\n",
            "\n",
            "Epoch 7/100\n",
            "**************************************************\n",
            "loss: 0.6606; acc: 0.7685; val_loss: 0.7168; val_acc: 0.7565\n",
            "Model saved in cifar.006.hdf5\n",
            "Learning rate: 0.0023914846\n",
            "\n",
            "Epoch 8/100\n",
            "**************************************************\n",
            "loss: 0.6281; acc: 0.7799; val_loss: 0.6901; val_acc: 0.7651\n",
            "Model saved in cifar.007.hdf5\n",
            "Learning rate: 0.002152336\n",
            "\n",
            "Epoch 9/100\n",
            "**************************************************\n",
            "loss: 0.5975; acc: 0.7897; val_loss: 0.6897; val_acc: 0.7703\n",
            "Model saved in cifar.008.hdf5\n",
            "Learning rate: 0.0019371024\n",
            "\n",
            "Epoch 10/100\n",
            "**************************************************\n",
            "loss: 0.5759; acc: 0.7971; val_loss: 0.6811; val_acc: 0.7692\n",
            "Model saved in cifar.009.hdf5\n",
            "Learning rate: 0.0017433922\n",
            "\n",
            "Epoch 11/100\n",
            "**************************************************\n",
            "loss: 0.5499; acc: 0.8089; val_loss: 0.6869; val_acc: 0.7689\n",
            "Model saved in cifar.010.hdf5\n",
            "Learning rate: 0.0015690529\n",
            "\n",
            "Epoch 12/100\n",
            "**************************************************\n",
            "loss: 0.5348; acc: 0.8117; val_loss: 0.6609; val_acc: 0.7777\n",
            "Model saved in cifar.011.hdf5\n",
            "Learning rate: 0.0014121477\n",
            "\n",
            "Epoch 13/100\n",
            "**************************************************\n",
            "loss: 0.5090; acc: 0.8220; val_loss: 0.6587; val_acc: 0.7821\n",
            "Model saved in cifar.012.hdf5\n",
            "Learning rate: 0.001270933\n",
            "\n",
            "Epoch 14/100\n",
            "**************************************************\n",
            "loss: 0.4977; acc: 0.8253; val_loss: 0.6749; val_acc: 0.7771\n",
            "Model saved in cifar.013.hdf5\n",
            "Learning rate: 0.0011438397\n",
            "\n",
            "Epoch 15/100\n",
            "**************************************************\n",
            "loss: 0.4788; acc: 0.8327; val_loss: 0.6933; val_acc: 0.7783\n",
            "Model saved in cifar.014.hdf5\n",
            "Learning rate: 0.0010294557\n",
            "\n",
            "Epoch 16/100\n",
            "**************************************************\n",
            "loss: 0.4690; acc: 0.8343; val_loss: 0.6495; val_acc: 0.7846\n",
            "Model saved in cifar.015.hdf5\n",
            "Learning rate: 0.0009265101\n",
            "\n",
            "Epoch 17/100\n",
            "**************************************************\n",
            "loss: 0.4569; acc: 0.8403; val_loss: 0.6479; val_acc: 0.7884\n",
            "Model saved in cifar.016.hdf5\n",
            "Learning rate: 0.0008338591\n",
            "\n",
            "Epoch 18/100\n",
            "**************************************************\n",
            "loss: 0.4466; acc: 0.8442; val_loss: 0.6587; val_acc: 0.7873\n",
            "Model saved in cifar.017.hdf5\n",
            "Learning rate: 0.0007504732\n",
            "\n",
            "Epoch 19/100\n",
            "**************************************************\n",
            "loss: 0.4371; acc: 0.8461; val_loss: 0.6512; val_acc: 0.7905\n",
            "Model saved in cifar.018.hdf5\n",
            "Learning rate: 0.00067542586\n",
            "\n",
            "Epoch 20/100\n",
            "**************************************************\n",
            "loss: 0.4286; acc: 0.8485; val_loss: 0.6581; val_acc: 0.7895\n",
            "Model saved in cifar.019.hdf5\n",
            "Learning rate: 0.00060788327\n",
            "\n",
            "Epoch 21/100\n",
            "**************************************************\n",
            "loss: 0.4206; acc: 0.8509; val_loss: 0.6698; val_acc: 0.7876\n",
            "Model saved in cifar.020.hdf5\n",
            "Learning rate: 0.00054709497\n",
            "\n",
            "Epoch 22/100\n",
            "**************************************************\n",
            "loss: 0.4132; acc: 0.8544; val_loss: 0.6542; val_acc: 0.7903\n",
            "Model saved in cifar.021.hdf5\n",
            "Learning rate: 0.0004923855\n",
            "\n",
            "Epoch 23/100\n",
            "**************************************************\n",
            "loss: 0.4067; acc: 0.8558; val_loss: 0.6504; val_acc: 0.7882\n",
            "Model saved in cifar.022.hdf5\n",
            "Learning rate: 0.0004431469\n",
            "\n",
            "Epoch 24/100\n",
            "**************************************************\n",
            "loss: 0.4004; acc: 0.8564; val_loss: 0.6587; val_acc: 0.7905\n",
            "Model saved in cifar.023.hdf5\n",
            "Learning rate: 0.00039883223\n",
            "\n",
            "Epoch 25/100\n",
            "**************************************************\n",
            "loss: 0.3985; acc: 0.8591; val_loss: 0.6556; val_acc: 0.7926\n",
            "Model saved in cifar.024.hdf5\n",
            "Learning rate: 0.000358949\n",
            "\n",
            "Epoch 26/100\n",
            "**************************************************\n",
            "loss: 0.3900; acc: 0.8609; val_loss: 0.6507; val_acc: 0.7964\n",
            "Model saved in cifar.025.hdf5\n",
            "Learning rate: 0.0003230541\n",
            "\n",
            "Epoch 27/100\n",
            "**************************************************\n",
            "loss: 0.3868; acc: 0.8612; val_loss: 0.6545; val_acc: 0.7926\n",
            "Model saved in cifar.026.hdf5\n",
            "Learning rate: 0.0002907487\n",
            "\n",
            "Epoch 28/100\n",
            "**************************************************\n",
            "loss: 0.3823; acc: 0.8635; val_loss: 0.6590; val_acc: 0.7969\n",
            "Model saved in cifar.027.hdf5\n",
            "Learning rate: 0.00026167382\n",
            "\n",
            "Epoch 29/100\n",
            "**************************************************\n",
            "loss: 0.3803; acc: 0.8653; val_loss: 0.6569; val_acc: 0.7931\n",
            "Model saved in cifar.028.hdf5\n",
            "Learning rate: 0.00023550644\n",
            "\n",
            "Epoch 30/100\n",
            "**************************************************\n",
            "loss: 0.3790; acc: 0.8655; val_loss: 0.6550; val_acc: 0.7930\n",
            "Model saved in cifar.029.hdf5\n",
            "Learning rate: 0.00021195579\n",
            "\n",
            "Epoch 31/100\n",
            "**************************************************\n",
            "loss: 0.3710; acc: 0.8693; val_loss: 0.6592; val_acc: 0.7922\n",
            "Model saved in cifar.030.hdf5\n",
            "Learning rate: 0.00019076021\n",
            "\n",
            "Epoch 32/100\n",
            "**************************************************\n",
            "loss: 0.3699; acc: 0.8696; val_loss: 0.6611; val_acc: 0.7937\n",
            "Model saved in cifar.031.hdf5\n",
            "Learning rate: 0.0001716842\n",
            "\n",
            "Epoch 33/100\n",
            "**************************************************\n",
            "loss: 0.3710; acc: 0.8688; val_loss: 0.6580; val_acc: 0.7964\n",
            "Model saved in cifar.032.hdf5\n",
            "Learning rate: 0.00015451577\n",
            "\n",
            "Epoch 34/100\n",
            "**************************************************\n",
            "loss: 0.3668; acc: 0.8702; val_loss: 0.6556; val_acc: 0.7961\n",
            "Model saved in cifar.033.hdf5\n",
            "Learning rate: 0.0001390642\n",
            "\n",
            "Epoch 35/100\n",
            "**************************************************\n",
            "loss: 0.3659; acc: 0.8698; val_loss: 0.6585; val_acc: 0.7950\n",
            "Model saved in cifar.034.hdf5\n",
            "Learning rate: 0.00012515778\n",
            "\n",
            "Epoch 36/100\n",
            "**************************************************\n",
            "loss: 0.3664; acc: 0.8689; val_loss: 0.6575; val_acc: 0.7961\n",
            "Model saved in cifar.035.hdf5\n",
            "Learning rate: 0.000112641996\n",
            "\n",
            "Epoch 37/100\n",
            "**************************************************\n",
            "loss: 0.3642; acc: 0.8704; val_loss: 0.6597; val_acc: 0.7951\n",
            "Model saved in cifar.036.hdf5\n",
            "Learning rate: 0.000101377795\n",
            "\n",
            "Epoch 38/100\n",
            "**************************************************\n",
            "loss: 0.3632; acc: 0.8706; val_loss: 0.6613; val_acc: 0.7943\n",
            "Model saved in cifar.037.hdf5\n",
            "Learning rate: 9.124002e-05\n",
            "\n",
            "Epoch 39/100\n",
            "**************************************************\n",
            "loss: 0.3620; acc: 0.8720; val_loss: 0.6592; val_acc: 0.7973\n",
            "Model saved in cifar.038.hdf5\n",
            "Learning rate: 8.2116014e-05\n",
            "\n",
            "Epoch 40/100\n",
            "**************************************************\n",
            "loss: 0.3588; acc: 0.8721; val_loss: 0.6590; val_acc: 0.7970\n",
            "Model saved in cifar.039.hdf5\n",
            "Learning rate: 7.390441e-05\n",
            "\n",
            "Epoch 41/100\n",
            "**************************************************\n",
            "loss: 0.3610; acc: 0.8708; val_loss: 0.6619; val_acc: 0.7960\n",
            "Model saved in cifar.040.hdf5\n",
            "Learning rate: 6.6513974e-05\n",
            "\n",
            "Epoch 42/100\n",
            "**************************************************\n",
            "loss: 0.3548; acc: 0.8742; val_loss: 0.6621; val_acc: 0.7965\n",
            "Model saved in cifar.041.hdf5\n",
            "Learning rate: 5.9862577e-05\n",
            "\n",
            "Epoch 43/100\n",
            "**************************************************\n",
            "loss: 0.3577; acc: 0.8723; val_loss: 0.6593; val_acc: 0.7958\n",
            "Model saved in cifar.042.hdf5\n",
            "Learning rate: 5.387632e-05\n",
            "\n",
            "Epoch 44/100\n",
            "**************************************************\n",
            "loss: 0.3570; acc: 0.8722; val_loss: 0.6598; val_acc: 0.7969\n",
            "Model saved in cifar.043.hdf5\n",
            "Learning rate: 4.8488688e-05\n",
            "\n",
            "Epoch 45/100\n",
            "**************************************************\n",
            "loss: 0.3545; acc: 0.8734; val_loss: 0.6603; val_acc: 0.7962\n",
            "Model saved in cifar.044.hdf5\n",
            "Learning rate: 4.363982e-05\n",
            "\n",
            "Epoch 46/100\n",
            "**************************************************\n",
            "loss: 0.3549; acc: 0.8735; val_loss: 0.6634; val_acc: 0.7965\n",
            "Model saved in cifar.045.hdf5\n",
            "Learning rate: 3.9275837e-05\n",
            "\n",
            "Epoch 47/100\n",
            "**************************************************\n",
            "loss: 0.3558; acc: 0.8738; val_loss: 0.6623; val_acc: 0.7956\n",
            "Model saved in cifar.046.hdf5\n",
            "Learning rate: 3.5348254e-05\n",
            "\n",
            "Epoch 48/100\n",
            "**************************************************\n",
            "loss: 0.3540; acc: 0.8739; val_loss: 0.6601; val_acc: 0.7956\n",
            "Model saved in cifar.047.hdf5\n",
            "Learning rate: 3.1813426e-05\n",
            "\n",
            "Epoch 49/100\n",
            "**************************************************\n",
            "loss: 0.3552; acc: 0.8722; val_loss: 0.6634; val_acc: 0.7960\n",
            "Model saved in cifar.048.hdf5\n",
            "Learning rate: 2.8632085e-05\n",
            "\n",
            "Epoch 50/100\n",
            "**************************************************\n",
            "loss: 0.3523; acc: 0.8747; val_loss: 0.6627; val_acc: 0.7961\n",
            "Model saved in cifar.049.hdf5\n",
            "Learning rate: 2.5768875e-05\n",
            "\n",
            "Epoch 51/100\n",
            "**************************************************\n",
            "loss: 0.3547; acc: 0.8731; val_loss: 0.6617; val_acc: 0.7959\n",
            "Model saved in cifar.050.hdf5\n",
            "Learning rate: 2.3191988e-05\n",
            "\n",
            "Epoch 52/100\n",
            "**************************************************\n",
            "loss: 0.3533; acc: 0.8749; val_loss: 0.6611; val_acc: 0.7968\n",
            "Model saved in cifar.051.hdf5\n",
            "Learning rate: 2.0872789e-05\n",
            "\n",
            "Epoch 53/100\n",
            "**************************************************\n",
            "loss: 0.3545; acc: 0.8748; val_loss: 0.6605; val_acc: 0.7960\n",
            "Model saved in cifar.052.hdf5\n",
            "Learning rate: 1.8785511e-05\n",
            "\n",
            "Epoch 54/100\n",
            "**************************************************\n",
            "loss: 0.3547; acc: 0.8735; val_loss: 0.6619; val_acc: 0.7963\n",
            "Model saved in cifar.053.hdf5\n",
            "Learning rate: 1.6906959e-05\n",
            "\n",
            "Epoch 55/100\n",
            "**************************************************\n",
            "loss: 0.3521; acc: 0.8741; val_loss: 0.6615; val_acc: 0.7958\n",
            "Model saved in cifar.054.hdf5\n",
            "Learning rate: 1.5216264e-05\n",
            "\n",
            "Epoch 56/100\n",
            "**************************************************\n",
            "loss: 0.3485; acc: 0.8744; val_loss: 0.6623; val_acc: 0.7958\n",
            "Model saved in cifar.055.hdf5\n",
            "Learning rate: 1.3694637e-05\n",
            "\n",
            "Epoch 57/100\n",
            "**************************************************\n",
            "loss: 0.3529; acc: 0.8751; val_loss: 0.6624; val_acc: 0.7966\n",
            "Model saved in cifar.056.hdf5\n",
            "Learning rate: 1.2325174e-05\n",
            "\n",
            "Epoch 58/100\n",
            "**************************************************\n",
            "loss: 0.3531; acc: 0.8750; val_loss: 0.6632; val_acc: 0.7961\n",
            "Model saved in cifar.057.hdf5\n",
            "Learning rate: 1.1092656e-05\n",
            "\n",
            "Epoch 59/100\n",
            "**************************************************\n",
            "loss: 0.3521; acc: 0.8733; val_loss: 0.6620; val_acc: 0.7960\n",
            "Model saved in cifar.058.hdf5\n",
            "Learning rate: 9.983391e-06\n",
            "\n",
            "Epoch 60/100\n",
            "**************************************************\n",
            "loss: 0.3537; acc: 0.8730; val_loss: 0.6627; val_acc: 0.7964\n",
            "Model saved in cifar.059.hdf5\n",
            "Learning rate: 8.985052e-06\n",
            "\n",
            "Epoch 61/100\n",
            "**************************************************\n",
            "loss: 0.3518; acc: 0.8744; val_loss: 0.6629; val_acc: 0.7967\n",
            "Model saved in cifar.060.hdf5\n",
            "Learning rate: 8.086547e-06\n",
            "\n",
            "Epoch 62/100\n",
            "**************************************************\n",
            "loss: 0.3530; acc: 0.8742; val_loss: 0.6621; val_acc: 0.7965\n",
            "Model saved in cifar.061.hdf5\n",
            "Learning rate: 7.2778917e-06\n",
            "\n",
            "Epoch 63/100\n",
            "**************************************************\n",
            "loss: 0.3489; acc: 0.8755; val_loss: 0.6620; val_acc: 0.7959\n",
            "Model saved in cifar.062.hdf5\n",
            "Learning rate: 6.5501026e-06\n",
            "\n",
            "Epoch 64/100\n",
            "**************************************************\n",
            "loss: 0.3503; acc: 0.8760; val_loss: 0.6618; val_acc: 0.7960\n",
            "Model saved in cifar.063.hdf5\n",
            "Learning rate: 5.8950923e-06\n",
            "\n",
            "Epoch 65/100\n",
            "**************************************************\n",
            "loss: 0.3487; acc: 0.8760; val_loss: 0.6626; val_acc: 0.7959\n",
            "Model saved in cifar.064.hdf5\n",
            "Learning rate: 5.3055833e-06\n",
            "\n",
            "Epoch 66/100\n",
            "**************************************************\n",
            "loss: 0.3520; acc: 0.8752; val_loss: 0.6619; val_acc: 0.7964\n",
            "Model saved in cifar.065.hdf5\n",
            "Learning rate: 4.7750245e-06\n",
            "\n",
            "Epoch 67/100\n",
            "**************************************************\n",
            "loss: 0.3466; acc: 0.8736; val_loss: 0.6620; val_acc: 0.7960\n",
            "Model saved in cifar.066.hdf5\n",
            "Learning rate: 4.297522e-06\n",
            "\n",
            "Epoch 68/100\n",
            "**************************************************\n",
            "loss: 0.3499; acc: 0.8745; val_loss: 0.6621; val_acc: 0.7960\n",
            "Model saved in cifar.067.hdf5\n",
            "Learning rate: 3.86777e-06\n",
            "\n",
            "Epoch 69/100\n",
            "**************************************************\n",
            "loss: 0.3488; acc: 0.8745; val_loss: 0.6618; val_acc: 0.7965\n",
            "Model saved in cifar.068.hdf5\n",
            "Learning rate: 3.480993e-06\n",
            "\n",
            "Epoch 70/100\n",
            "**************************************************\n",
            "loss: 0.3467; acc: 0.8760; val_loss: 0.6620; val_acc: 0.7962\n",
            "Model saved in cifar.069.hdf5\n",
            "Learning rate: 3.1328937e-06\n",
            "\n",
            "Epoch 71/100\n",
            "**************************************************\n",
            "loss: 0.3507; acc: 0.8743; val_loss: 0.6619; val_acc: 0.7963\n",
            "Model saved in cifar.070.hdf5\n",
            "Learning rate: 2.8196043e-06\n",
            "\n",
            "Epoch 72/100\n",
            "**************************************************\n",
            "loss: 0.3499; acc: 0.8747; val_loss: 0.6621; val_acc: 0.7959\n",
            "Model saved in cifar.071.hdf5\n",
            "Learning rate: 2.537644e-06\n",
            "\n",
            "Epoch 73/100\n",
            "**************************************************\n",
            "loss: 0.3510; acc: 0.8743; val_loss: 0.6620; val_acc: 0.7960\n",
            "Model saved in cifar.072.hdf5\n",
            "Learning rate: 2.2838794e-06\n",
            "\n",
            "Epoch 74/100\n",
            "**************************************************\n",
            "loss: 0.3455; acc: 0.8777; val_loss: 0.6619; val_acc: 0.7962\n",
            "Model saved in cifar.073.hdf5\n",
            "Learning rate: 2.0554917e-06\n",
            "\n",
            "Epoch 75/100\n",
            "**************************************************\n",
            "loss: 0.3498; acc: 0.8757; val_loss: 0.6621; val_acc: 0.7961\n",
            "Model saved in cifar.074.hdf5\n",
            "Learning rate: 1.8499425e-06\n",
            "\n",
            "Epoch 76/100\n",
            "**************************************************\n",
            "loss: 0.3484; acc: 0.8759; val_loss: 0.6622; val_acc: 0.7956\n",
            "Model saved in cifar.075.hdf5\n",
            "Learning rate: 1.6649482e-06\n",
            "\n",
            "Epoch 77/100\n",
            "**************************************************\n",
            "loss: 0.3480; acc: 0.8760; val_loss: 0.6624; val_acc: 0.7960\n",
            "Model saved in cifar.076.hdf5\n",
            "Learning rate: 1.4984533e-06\n",
            "\n",
            "Epoch 78/100\n",
            "**************************************************\n",
            "loss: 0.3522; acc: 0.8760; val_loss: 0.6624; val_acc: 0.7959\n",
            "Model saved in cifar.077.hdf5\n",
            "Learning rate: 1.3486081e-06\n",
            "\n",
            "Epoch 79/100\n",
            "**************************************************\n",
            "loss: 0.3489; acc: 0.8757; val_loss: 0.6624; val_acc: 0.7960\n",
            "Model saved in cifar.078.hdf5\n",
            "Learning rate: 1.2137472e-06\n",
            "\n",
            "Epoch 80/100\n",
            "**************************************************\n",
            "loss: 0.3519; acc: 0.8743; val_loss: 0.6623; val_acc: 0.7960\n",
            "Model saved in cifar.079.hdf5\n",
            "Learning rate: 1.0923725e-06\n",
            "\n",
            "Epoch 81/100\n",
            "**************************************************\n",
            "loss: 0.3444; acc: 0.8761; val_loss: 0.6623; val_acc: 0.7963\n",
            "Model saved in cifar.080.hdf5\n",
            "Learning rate: 9.831352e-07\n",
            "\n",
            "Epoch 82/100\n",
            "**************************************************\n",
            "loss: 0.3457; acc: 0.8757; val_loss: 0.6623; val_acc: 0.7963\n",
            "Model saved in cifar.081.hdf5\n",
            "Learning rate: 8.848217e-07\n",
            "\n",
            "Epoch 83/100\n",
            "**************************************************\n",
            "loss: 0.3496; acc: 0.8749; val_loss: 0.6623; val_acc: 0.7960\n",
            "Model saved in cifar.082.hdf5\n",
            "Learning rate: 7.963396e-07\n",
            "\n",
            "Epoch 84/100\n",
            "**************************************************\n",
            "loss: 0.3499; acc: 0.8756; val_loss: 0.6623; val_acc: 0.7963\n",
            "Model saved in cifar.083.hdf5\n",
            "Learning rate: 7.167056e-07\n",
            "\n",
            "Epoch 85/100\n",
            "**************************************************\n",
            "loss: 0.3519; acc: 0.8743; val_loss: 0.6623; val_acc: 0.7962\n",
            "Model saved in cifar.084.hdf5\n",
            "Learning rate: 6.45035e-07\n",
            "\n",
            "Epoch 86/100\n",
            "**************************************************\n",
            "loss: 0.3485; acc: 0.8756; val_loss: 0.6623; val_acc: 0.7961\n",
            "Model saved in cifar.085.hdf5\n",
            "Learning rate: 5.8053155e-07\n",
            "\n",
            "Epoch 87/100\n",
            "**************************************************\n",
            "loss: 0.3516; acc: 0.8752; val_loss: 0.6622; val_acc: 0.7963\n",
            "Model saved in cifar.086.hdf5\n",
            "Learning rate: 5.224784e-07\n",
            "\n",
            "Epoch 88/100\n",
            "**************************************************\n",
            "loss: 0.3472; acc: 0.8770; val_loss: 0.6622; val_acc: 0.7961\n",
            "Model saved in cifar.087.hdf5\n",
            "Learning rate: 4.7023053e-07\n",
            "\n",
            "Epoch 89/100\n",
            "**************************************************\n",
            "loss: 0.3521; acc: 0.8749; val_loss: 0.6622; val_acc: 0.7961\n",
            "Model saved in cifar.088.hdf5\n",
            "Learning rate: 4.232075e-07\n",
            "\n",
            "Epoch 90/100\n",
            "**************************************************\n",
            "loss: 0.3504; acc: 0.8741; val_loss: 0.6622; val_acc: 0.7960\n",
            "Model saved in cifar.089.hdf5\n",
            "Learning rate: 3.8088675e-07\n",
            "\n",
            "Epoch 91/100\n",
            "**************************************************\n",
            "loss: 0.3490; acc: 0.8757; val_loss: 0.6622; val_acc: 0.7961\n",
            "Model saved in cifar.090.hdf5\n",
            "Learning rate: 3.4279807e-07\n",
            "\n",
            "Epoch 92/100\n",
            "**************************************************\n",
            "loss: 0.3454; acc: 0.8763; val_loss: 0.6623; val_acc: 0.7961\n",
            "Model saved in cifar.091.hdf5\n",
            "Learning rate: 3.0851825e-07\n",
            "\n",
            "Epoch 93/100\n",
            "**************************************************\n",
            "loss: 0.3469; acc: 0.8765; val_loss: 0.6623; val_acc: 0.7961\n",
            "Model saved in cifar.092.hdf5\n",
            "Learning rate: 2.7766643e-07\n",
            "\n",
            "Epoch 94/100\n",
            "**************************************************\n",
            "loss: 0.3509; acc: 0.8746; val_loss: 0.6623; val_acc: 0.7961\n",
            "Model saved in cifar.093.hdf5\n",
            "Learning rate: 2.4989978e-07\n",
            "\n",
            "Epoch 95/100\n",
            "**************************************************\n",
            "loss: 0.3497; acc: 0.8741; val_loss: 0.6623; val_acc: 0.7959\n",
            "Model saved in cifar.094.hdf5\n",
            "Learning rate: 2.2490981e-07\n",
            "\n",
            "Epoch 96/100\n",
            "**************************************************\n",
            "loss: 0.3532; acc: 0.8744; val_loss: 0.6623; val_acc: 0.7960\n",
            "Model saved in cifar.095.hdf5\n",
            "Learning rate: 2.0241883e-07\n",
            "\n",
            "Epoch 97/100\n",
            "**************************************************\n",
            "loss: 0.3499; acc: 0.8760; val_loss: 0.6623; val_acc: 0.7962\n",
            "Model saved in cifar.096.hdf5\n",
            "Learning rate: 1.8217695e-07\n",
            "\n",
            "Epoch 98/100\n",
            "**************************************************\n",
            "loss: 0.3495; acc: 0.8755; val_loss: 0.6623; val_acc: 0.7961\n",
            "Model saved in cifar.097.hdf5\n",
            "Learning rate: 1.6395926e-07\n",
            "\n",
            "Epoch 99/100\n",
            "**************************************************\n",
            "loss: 0.3517; acc: 0.8734; val_loss: 0.6623; val_acc: 0.7961\n",
            "Model saved in cifar.098.hdf5\n",
            "Learning rate: 1.4756333e-07\n",
            "\n",
            "Epoch 100/100\n",
            "**************************************************\n",
            "loss: 0.3470; acc: 0.8741; val_loss: 0.6623; val_acc: 0.7961\n",
            "Model saved in cifar.099.hdf5\n"
          ],
          "name": "stdout"
        },
        {
          "output_type": "execute_result",
          "data": {
            "text/plain": [
              "<keras.callbacks.History at 0x7f062e469ba8>"
            ]
          },
          "metadata": {
            "tags": []
          },
          "execution_count": 67
        }
      ]
    },
    {
      "cell_type": "code",
      "metadata": {
        "ExecuteTime": {
          "end_time": "2017-08-24T12:18:39.103672Z",
          "start_time": "2017-08-24T12:18:39.061508Z"
        },
        "id": "5Szb1TiLNf_u",
        "colab_type": "code",
        "colab": {}
      },
      "source": [
        "# save weights to file\n",
        "model.save_weights(\"weights.h5\")"
      ],
      "execution_count": 0,
      "outputs": []
    },
    {
      "cell_type": "code",
      "metadata": {
        "ExecuteTime": {
          "end_time": "2017-08-24T12:18:39.298255Z",
          "start_time": "2017-08-24T12:18:39.105314Z"
        },
        "id": "LNaObjmuNf_w",
        "colab_type": "code",
        "colab": {}
      },
      "source": [
        "# load weights from file (can call without model.fit)\n",
        "model.load_weights(\"weights.h5\")"
      ],
      "execution_count": 0,
      "outputs": []
    },
    {
      "cell_type": "markdown",
      "metadata": {
        "id": "ck9hpdoQNf_z",
        "colab_type": "text"
      },
      "source": [
        "# Evaluate model"
      ]
    },
    {
      "cell_type": "code",
      "metadata": {
        "ExecuteTime": {
          "end_time": "2017-08-24T12:18:53.381943Z",
          "start_time": "2017-08-24T12:18:39.299830Z"
        },
        "id": "Z6npgs4iNf_0",
        "colab_type": "code",
        "colab": {
          "base_uri": "https://localhost:8080/",
          "height": 34
        },
        "outputId": "acc4d927-8344-4382-efda-49d9c5ca28ab"
      },
      "source": [
        "# make test predictions\n",
        "y_pred_test = model.predict_proba(x_test2)\n",
        "y_pred_test_classes = np.argmax(y_pred_test, axis=1)\n",
        "y_pred_test_max_probas = np.max(y_pred_test, axis=1)"
      ],
      "execution_count": 71,
      "outputs": [
        {
          "output_type": "stream",
          "text": [
            " 9696/10000 [============================>.] - ETA: 0s"
          ],
          "name": "stdout"
        }
      ]
    },
    {
      "cell_type": "code",
      "metadata": {
        "ExecuteTime": {
          "end_time": "2017-08-24T12:18:54.293970Z",
          "start_time": "2017-08-24T12:18:53.383809Z"
        },
        "id": "hoQuio8DNf_2",
        "colab_type": "code",
        "colab": {
          "base_uri": "https://localhost:8080/",
          "height": 443
        },
        "outputId": "3188d2d5-491c-4506-b6ac-ab7d5689bd27"
      },
      "source": [
        "# confusion matrix and accuracy\n",
        "from sklearn.metrics import confusion_matrix, accuracy_score\n",
        "plt.figure(figsize=(7, 6))\n",
        "plt.title('Confusion matrix', fontsize=16)\n",
        "plt.imshow(confusion_matrix(y_test, y_pred_test_classes))\n",
        "plt.xticks(np.arange(10), cifar10_classes, rotation=45, fontsize=12)\n",
        "plt.yticks(np.arange(10), cifar10_classes, fontsize=12)\n",
        "plt.colorbar()\n",
        "plt.show()\n",
        "print(\"Test accuracy:\", accuracy_score(y_test, y_pred_test_classes))"
      ],
      "execution_count": 72,
      "outputs": [
        {
          "output_type": "display_data",
          "data": {
            "image/png": "[encoded data removed]",
            "text/plain": [
              "<Figure size 504x432 with 2 Axes>"
            ]
          },
          "metadata": {
            "tags": []
          }
        },
        {
          "output_type": "stream",
          "text": [
            "Test accuracy: 0.7961\n"
          ],
          "name": "stdout"
        }
      ]
    },
    {
      "cell_type": "code",
      "metadata": {
        "id": "iYPa_ZTmNf_4",
        "colab_type": "code",
        "colab": {}
      },
      "source": [
        "## GRADED PART, DO NOT CHANGE!\n",
        "# Accuracy on validation data\n",
        "grader.set_answer(\"nQOsg\", accuracy_score(y_test, y_pred_test_classes))"
      ],
      "execution_count": 0,
      "outputs": []
    },
    {
      "cell_type": "code",
      "metadata": {
        "id": "bWZlmfrgNf_7",
        "colab_type": "code",
        "colab": {
          "base_uri": "https://localhost:8080/",
          "height": 34
        },
        "outputId": "5a0d7668-11df-4840-b0cd-73c6f95ba0a9"
      },
      "source": [
        "# you can make submission with answers so far to check yourself at this stage\n",
        "grader.submit(COURSERA_EMAIL, COURSERA_TOKEN)"
      ],
      "execution_count": 74,
      "outputs": [
        {
          "output_type": "stream",
          "text": [
            "Submitted to Coursera platform. See results on assignment page!\n"
          ],
          "name": "stdout"
        }
      ]
    },
    {
      "cell_type": "code",
      "metadata": {
        "ExecuteTime": {
          "end_time": "2017-08-24T12:18:55.568152Z",
          "start_time": "2017-08-24T12:18:54.295958Z"
        },
        "id": "nmF1NJdcNf_9",
        "colab_type": "code",
        "colab": {
          "base_uri": "https://localhost:8080/",
          "height": 314
        },
        "outputId": "d61f5536-4ec2-486b-af2a-dfddb0045d30"
      },
      "source": [
        "# inspect preditions\n",
        "cols = 8\n",
        "rows = 2\n",
        "fig = plt.figure(figsize=(2 * cols - 1, 3 * rows - 1))\n",
        "for i in range(cols):\n",
        "    for j in range(rows):\n",
        "        random_index = np.random.randint(0, len(y_test))\n",
        "        ax = fig.add_subplot(rows, cols, i * rows + j + 1)\n",
        "        ax.grid('off')\n",
        "        ax.axis('off')\n",
        "        ax.imshow(x_test[random_index, :])\n",
        "        pred_label = cifar10_classes[y_pred_test_classes[random_index]]\n",
        "        pred_proba = y_pred_test_max_probas[random_index]\n",
        "        true_label = cifar10_classes[y_test[random_index, 0]]\n",
        "        ax.set_title(\"pred: {}\\nscore: {:.3}\\ntrue: {}\".format(\n",
        "               pred_label, pred_proba, true_label\n",
        "        ))\n",
        "plt.show()"
      ],
      "execution_count": 53,
      "outputs": [
        {
          "output_type": "display_data",
          "data": {
            "image/png": "[encoded data removed]",
            "text/plain": [
              "<Figure size 1080x360 with 16 Axes>"
            ]
          },
          "metadata": {
            "tags": []
          }
        }
      ]
    },
    {
      "cell_type": "markdown",
      "metadata": {
        "id": "AyDJJFhfNf__",
        "colab_type": "text"
      },
      "source": [
        "# Visualize maximum stimuli"
      ]
    },
    {
      "cell_type": "markdown",
      "metadata": {
        "id": "88SxvXiZNgAA",
        "colab_type": "text"
      },
      "source": [
        "We want to find input images that provide maximum activations for particular layers of our network. \n",
        "\n",
        "We will find those maximum stimuli via gradient ascent in image space.\n",
        "\n",
        "For that task we load our model weights, calculate the layer output gradient with respect to image input and shift input image in that direction."
      ]
    },
    {
      "cell_type": "code",
      "metadata": {
        "ExecuteTime": {
          "end_time": "2017-08-24T13:23:59.462081Z",
          "start_time": "2017-08-24T13:23:58.896876Z"
        },
        "id": "HRkMRG_fNgAC",
        "colab_type": "code",
        "colab": {}
      },
      "source": [
        "s = reset_tf_session()  # clear default graph\n",
        "K.set_learning_phase(0)  # disable dropout\n",
        "model = make_model()\n",
        "model.load_weights(\"weights.h5\")  # that were saved after model.fit"
      ],
      "execution_count": 0,
      "outputs": []
    },
    {
      "cell_type": "code",
      "metadata": {
        "ExecuteTime": {
          "end_time": "2017-08-24T13:24:00.360163Z",
          "start_time": "2017-08-24T13:24:00.351539Z"
        },
        "id": "ANGZdO5FNgAE",
        "colab_type": "code",
        "colab": {
          "base_uri": "https://localhost:8080/",
          "height": 578
        },
        "outputId": "9e2f9b17-50f4-46c0-814b-2cef44b86726"
      },
      "source": [
        "# all weights we have\n",
        "model.summary()"
      ],
      "execution_count": 55,
      "outputs": [
        {
          "output_type": "stream",
          "text": [
            "_________________________________________________________________\n",
            "Layer (type)                 Output Shape              Param #   \n",
            "=================================================================\n",
            "conv2d_1 (Conv2D)            (None, 32, 32, 16)        448       \n",
            "_________________________________________________________________\n",
            "conv2d_2 (Conv2D)            (None, 32, 32, 32)        4640      \n",
            "_________________________________________________________________\n",
            "max_pooling2d_1 (MaxPooling2 (None, 16, 16, 32)        0         \n",
            "_________________________________________________________________\n",
            "dropout_1 (Dropout)          (None, 16, 16, 32)        0         \n",
            "_________________________________________________________________\n",
            "conv2d_3 (Conv2D)            (None, 16, 16, 32)        9248      \n",
            "_________________________________________________________________\n",
            "conv2d_4 (Conv2D)            (None, 16, 16, 64)        18496     \n",
            "_________________________________________________________________\n",
            "max_pooling2d_2 (MaxPooling2 (None, 8, 8, 64)          0         \n",
            "_________________________________________________________________\n",
            "dropout_2 (Dropout)          (None, 8, 8, 64)          0         \n",
            "_________________________________________________________________\n",
            "flatten_1 (Flatten)          (None, 4096)              0         \n",
            "_________________________________________________________________\n",
            "dense_1 (Dense)              (None, 256)               1048832   \n",
            "_________________________________________________________________\n",
            "dense_2 (Dense)              (None, 10)                2570      \n",
            "_________________________________________________________________\n",
            "leaky_re_lu_1 (LeakyReLU)    (None, 10)                0         \n",
            "_________________________________________________________________\n",
            "activation_1 (Activation)    (None, 10)                0         \n",
            "=================================================================\n",
            "Total params: 1,084,234\n",
            "Trainable params: 1,084,234\n",
            "Non-trainable params: 0\n",
            "_________________________________________________________________\n"
          ],
          "name": "stdout"
        }
      ]
    },
    {
      "cell_type": "code",
      "metadata": {
        "ExecuteTime": {
          "end_time": "2017-09-09T19:26:28.647877Z",
          "start_time": "2017-09-09T19:26:28.587968Z"
        },
        "id": "Z_sGHrq1NgAG",
        "colab_type": "code",
        "colab": {}
      },
      "source": [
        "def find_maximum_stimuli(layer_name, is_conv, filter_index, model, iterations=20, step=1., verbose=True):\n",
        "    \n",
        "    def image_values_to_rgb(x):\n",
        "        # normalize x: center on 0 (np.mean(x_train2)), ensure std is 0.25 (np.std(x_train2))\n",
        "        # so that it looks like a normalized image input for our network\n",
        "        x =  (x - np.mean(x)) / np.std(x)\n",
        "        # do reverse normalization to RGB values: x = (x_norm + 0.5) * 255\n",
        "        x = (x + 0.5) * 255\n",
        "    \n",
        "        # clip values to [0, 255] and convert to bytes\n",
        "        x = np.clip(x, 0, 255).astype('uint8')\n",
        "        return x\n",
        "\n",
        "    # this is the placeholder for the input image\n",
        "    input_img = model.input\n",
        "    img_width, img_height = input_img.shape.as_list()[1:3]\n",
        "    \n",
        "    # find the layer output by name\n",
        "    layer_output = list(filter(lambda x: x.name == layer_name, model.layers))[0].output\n",
        "\n",
        "    # we build a loss function that maximizes the activation\n",
        "    # of the filter_index filter of the layer considered\n",
        "    if is_conv:\n",
        "        # mean over feature map values for convolutional layer\n",
        "        loss = K.mean(layer_output[:, :, :, filter_index])\n",
        "    else:\n",
        "        loss = K.mean(layer_output[:, filter_index])\n",
        "\n",
        "    # we compute the gradient of the loss wrt input image\n",
        "    grads = K.gradients(loss, input_img)[0]  # [0] because of the batch dimension!\n",
        "\n",
        "    # normalization trick: we normalize the gradient\n",
        "    grads = grads / (K.sqrt(K.sum(K.square(grads))) + 1e-10)\n",
        "\n",
        "    # this function returns the loss and grads given the input picture\n",
        "    iterate = K.function([input_img], [loss, grads])\n",
        "\n",
        "    # we start from a gray image with some random noise\n",
        "    input_img_data = np.random.random((1, img_width, img_height, 3))\n",
        "    input_img_data = (input_img_data - 0.5) * (0.1 if is_conv else 0.001)\n",
        "\n",
        "    # we run gradient ascent\n",
        "    for i in range(iterations):\n",
        "        loss_value, grads_value = iterate([input_img_data])\n",
        "        input_img_data += grads_value * step\n",
        "        if verbose:\n",
        "            print('Current loss value:', loss_value)\n",
        "\n",
        "    # decode the resulting input image\n",
        "    img = image_values_to_rgb(input_img_data[0])\n",
        "    \n",
        "    return img, loss_value"
      ],
      "execution_count": 0,
      "outputs": []
    },
    {
      "cell_type": "code",
      "metadata": {
        "ExecuteTime": {
          "end_time": "2017-08-24T13:32:09.846317Z",
          "start_time": "2017-08-24T13:32:09.815734Z"
        },
        "id": "Gd5I_SGFNgAJ",
        "colab_type": "code",
        "colab": {}
      },
      "source": [
        "# sample maximum stimuli\n",
        "def plot_filters_stimuli(layer_name, is_conv, model, iterations=20, step=1., verbose=False):\n",
        "    cols = 8\n",
        "    rows = 2\n",
        "    filter_index = 0\n",
        "    max_filter_index = list(filter(lambda x: x.name == layer_name, model.layers))[0].output.shape.as_list()[-1] - 1\n",
        "    fig = plt.figure(figsize=(2 * cols - 1, 3 * rows - 1))\n",
        "    for i in range(cols):\n",
        "        for j in range(rows):\n",
        "            if filter_index <= max_filter_index:\n",
        "                ax = fig.add_subplot(rows, cols, i * rows + j + 1)\n",
        "                ax.grid('off')\n",
        "                ax.axis('off')\n",
        "                loss = -1e20\n",
        "                while loss < 0 and filter_index <= max_filter_index:\n",
        "                    stimuli, loss = find_maximum_stimuli(layer_name, is_conv, filter_index, model,\n",
        "                                                         iterations, step, verbose=verbose)\n",
        "                    filter_index += 1\n",
        "                if loss > 0:\n",
        "                    ax.imshow(stimuli)\n",
        "                    ax.set_title(\"Filter #{}\".format(filter_index))\n",
        "    plt.show()"
      ],
      "execution_count": 0,
      "outputs": []
    },
    {
      "cell_type": "code",
      "metadata": {
        "ExecuteTime": {
          "end_time": "2017-09-09T22:11:24.717347Z",
          "start_time": "2017-09-09T22:11:24.652428Z"
        },
        "id": "2sFabFFRNgAL",
        "colab_type": "code",
        "colab": {}
      },
      "source": [
        "# maximum stimuli for convolutional neurons\n",
        "conv_activation_layers = []\n",
        "for layer in model.layers:\n",
        "    if isinstance(layer, LeakyReLU):\n",
        "        prev_layer = layer.inbound_nodes[0].inbound_layers[0]\n",
        "        if isinstance(prev_layer, Conv2D):\n",
        "            conv_activation_layers.append(layer)\n",
        "\n",
        "for layer in conv_activation_layers:\n",
        "    print(layer.name)\n",
        "    plot_filters_stimuli(layer_name=layer.name, is_conv=True, model=model)"
      ],
      "execution_count": 0,
      "outputs": []
    },
    {
      "cell_type": "code",
      "metadata": {
        "id": "PX9tfe1QNgAO",
        "colab_type": "code",
        "colab": {
          "base_uri": "https://localhost:8080/",
          "height": 284
        },
        "outputId": "55d41f5d-cfd6-4e03-8ccd-0854aa27cdd8"
      },
      "source": [
        "# maximum stimuli for last dense layer\n",
        "last_dense_layer = list(filter(lambda x: isinstance(x, Dense), model.layers))[-1]\n",
        "plot_filters_stimuli(layer_name=last_dense_layer.name, is_conv=False, \n",
        "                     iterations=200, step=0.1, model=model)"
      ],
      "execution_count": 60,
      "outputs": [
        {
          "output_type": "display_data",
          "data": {
            "image/png": "[encoded data removed]",
            "text/plain": [
              "<Figure size 1080x360 with 10 Axes>"
            ]
          },
          "metadata": {
            "tags": []
          }
        }
      ]
    },
    {
      "cell_type": "code",
      "metadata": {
        "id": "z5FhUSyLNgAQ",
        "colab_type": "code",
        "colab": {}
      },
      "source": [
        "def maximum_stimuli_test_for_grader():\n",
        "    layer = list(filter(lambda x: isinstance(x, Dense), model.layers))[-1]\n",
        "    output_index = 7\n",
        "    stimuli, loss = find_maximum_stimuli(\n",
        "        layer_name=layer.name, \n",
        "        is_conv=False, \n",
        "        filter_index=output_index,\n",
        "        model=model,\n",
        "        verbose=False\n",
        "    )\n",
        "    return model.predict_proba(stimuli[np.newaxis, :])[0, output_index]"
      ],
      "execution_count": 0,
      "outputs": []
    },
    {
      "cell_type": "code",
      "metadata": {
        "ExecuteTime": {
          "end_time": "2017-09-09T22:26:46.387162Z",
          "start_time": "2017-09-09T22:26:46.376735Z"
        },
        "id": "U6m4P9mZNgAT",
        "colab_type": "code",
        "colab": {
          "base_uri": "https://localhost:8080/",
          "height": 34
        },
        "outputId": "8233c337-2341-49d4-ad60-e1ab153c6dd1"
      },
      "source": [
        "## GRADED PART, DO NOT CHANGE!\n",
        "# Maximum stimuli test\n",
        "grader.set_answer(\"96eco\", maximum_stimuli_test_for_grader())"
      ],
      "execution_count": 62,
      "outputs": [
        {
          "output_type": "stream",
          "text": [
            "\r1/1 [==============================] - 0s\n"
          ],
          "name": "stdout"
        }
      ]
    },
    {
      "cell_type": "code",
      "metadata": {
        "id": "pFu-p5H4NgAV",
        "colab_type": "code",
        "colab": {
          "base_uri": "https://localhost:8080/",
          "height": 34
        },
        "outputId": "39b40449-633c-47cb-d684-ad6b8b0cd68e"
      },
      "source": [
        "# you can make submission with answers so far to check yourself at this stage\n",
        "grader.submit(COURSERA_EMAIL, COURSERA_TOKEN)"
      ],
      "execution_count": 63,
      "outputs": [
        {
          "output_type": "stream",
          "text": [
            "Submitted to Coursera platform. See results on assignment page!\n"
          ],
          "name": "stdout"
        }
      ]
    },
    {
      "cell_type": "markdown",
      "metadata": {
        "id": "GFTgHn_aNgAZ",
        "colab_type": "text"
      },
      "source": [
        "That's it! Congratulations!\n",
        "\n",
        "What you've done:\n",
        "- defined CNN architecture\n",
        "- trained your model\n",
        "- evaluated your model\n",
        "- visualised learnt filters"
      ]
    }
  ]
}